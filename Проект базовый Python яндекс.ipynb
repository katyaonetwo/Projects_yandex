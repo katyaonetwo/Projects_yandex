{
 "cells": [
  {
   "cell_type": "markdown",
   "metadata": {
    "deletable": false,
    "editable": false,
    "id": "E0vqbgi9ay0H"
   },
   "source": [
    "# Яндекс Музыка"
   ]
  },
  {
   "cell_type": "markdown",
   "metadata": {
    "deletable": false,
    "editable": false,
    "id": "VUC88oWjTJw2"
   },
   "source": [
    "Сравнение Москвы и Петербурга окружено мифами. Например:\n",
    " * Москва — мегаполис, подчинённый жёсткому ритму рабочей недели;\n",
    " * Петербург — культурная столица, со своими вкусами.\n",
    "\n",
    "На данных Яндекс Музыки вы сравните поведение пользователей двух столиц.\n",
    "\n",
    "**Цель исследования** — проверьте три гипотезы:\n",
    "1. Активность пользователей зависит от дня недели. Причём в Москве и Петербурге это проявляется по-разному.\n",
    "2. В понедельник утром в Москве преобладают одни жанры, а в Петербурге — другие. Так же и вечером пятницы преобладают разные жанры — в зависимости от города.\n",
    "3. Москва и Петербург предпочитают разные жанры музыки. В Москве чаще слушают поп-музыку, в Петербурге — русский рэп.\n",
    "\n",
    "**Ход исследования**\n",
    "\n",
    "Данные о поведении пользователей вы получите из файла `yandex_music_project.csv`. О качестве данных ничего не известно. Поэтому перед проверкой гипотез понадобится обзор данных.\n",
    "\n",
    "Вы проверите данные на ошибки и оцените их влияние на исследование. Затем, на этапе предобработки вы поищете возможность исправить самые критичные ошибки данных.\n",
    "\n",
    "Таким образом, исследование пройдёт в три этапа:\n",
    " 1. Обзор данных.\n",
    " 2. Предобработка данных.\n",
    " 3. Проверка гипотез.\n",
    "\n"
   ]
  },
  {
   "cell_type": "markdown",
   "metadata": {
    "deletable": false,
    "editable": false,
    "id": "Ml1hmfXC_Zcs"
   },
   "source": [
    "## Обзор данных\n",
    "\n",
    "Составьте первое представление о данных Яндекс Музыки.\n",
    "\n",
    "\n"
   ]
  },
  {
   "cell_type": "markdown",
   "metadata": {
    "deletable": false,
    "editable": false,
    "id": "57eAOGIz_Zcs",
    "tags": [
     "start_task"
    ]
   },
   "source": [
    "**Задание 1**\n",
    "\n",
    "Основной инструмент аналитика — `pandas`. Импортируйте эту библиотеку."
   ]
  },
  {
   "cell_type": "code",
   "execution_count": 317,
   "metadata": {
    "deletable": false,
    "id": "AXN7PHPN_Zcs"
   },
   "outputs": [],
   "source": [
    "import pandas as pd"
   ]
  },
  {
   "cell_type": "markdown",
   "metadata": {
    "deletable": false,
    "editable": false,
    "id": "SG23P8tt_Zcs",
    "tags": [
     "start_task"
    ]
   },
   "source": [
    "**Задание 2**\n",
    "\n",
    "Прочитайте файл `yandex_music_project.csv` из папки `/datasets` и сохраните его в переменной `df`:"
   ]
  },
  {
   "cell_type": "code",
   "execution_count": 318,
   "metadata": {
    "deletable": false,
    "id": "fFVu7vqh_Zct"
   },
   "outputs": [],
   "source": [
    "df = pd.read_csv('/datasets/yandex_music_project.csv')"
   ]
  },
  {
   "cell_type": "markdown",
   "metadata": {
    "deletable": false,
    "editable": false,
    "id": "rDoOMd3uTqnZ",
    "tags": [
     "start_task"
    ]
   },
   "source": [
    "**Задание 3**\n",
    "\n",
    "\n",
    "Выведите на экран первые десять строк таблицы:"
   ]
  },
  {
   "cell_type": "code",
   "execution_count": 319,
   "metadata": {
    "deletable": false,
    "id": "oWTVX3gW_Zct"
   },
   "outputs": [
    {
     "data": {
      "text/html": [
       "<div>\n",
       "<style scoped>\n",
       "    .dataframe tbody tr th:only-of-type {\n",
       "        vertical-align: middle;\n",
       "    }\n",
       "\n",
       "    .dataframe tbody tr th {\n",
       "        vertical-align: top;\n",
       "    }\n",
       "\n",
       "    .dataframe thead th {\n",
       "        text-align: right;\n",
       "    }\n",
       "</style>\n",
       "<table border=\"1\" class=\"dataframe\">\n",
       "  <thead>\n",
       "    <tr style=\"text-align: right;\">\n",
       "      <th></th>\n",
       "      <th>userID</th>\n",
       "      <th>Track</th>\n",
       "      <th>artist</th>\n",
       "      <th>genre</th>\n",
       "      <th>City</th>\n",
       "      <th>time</th>\n",
       "      <th>Day</th>\n",
       "    </tr>\n",
       "  </thead>\n",
       "  <tbody>\n",
       "    <tr>\n",
       "      <th>0</th>\n",
       "      <td>FFB692EC</td>\n",
       "      <td>Kamigata To Boots</td>\n",
       "      <td>The Mass Missile</td>\n",
       "      <td>rock</td>\n",
       "      <td>Saint-Petersburg</td>\n",
       "      <td>20:28:33</td>\n",
       "      <td>Wednesday</td>\n",
       "    </tr>\n",
       "    <tr>\n",
       "      <th>1</th>\n",
       "      <td>55204538</td>\n",
       "      <td>Delayed Because of Accident</td>\n",
       "      <td>Andreas Rönnberg</td>\n",
       "      <td>rock</td>\n",
       "      <td>Moscow</td>\n",
       "      <td>14:07:09</td>\n",
       "      <td>Friday</td>\n",
       "    </tr>\n",
       "    <tr>\n",
       "      <th>2</th>\n",
       "      <td>20EC38</td>\n",
       "      <td>Funiculì funiculà</td>\n",
       "      <td>Mario Lanza</td>\n",
       "      <td>pop</td>\n",
       "      <td>Saint-Petersburg</td>\n",
       "      <td>20:58:07</td>\n",
       "      <td>Wednesday</td>\n",
       "    </tr>\n",
       "    <tr>\n",
       "      <th>3</th>\n",
       "      <td>A3DD03C9</td>\n",
       "      <td>Dragons in the Sunset</td>\n",
       "      <td>Fire + Ice</td>\n",
       "      <td>folk</td>\n",
       "      <td>Saint-Petersburg</td>\n",
       "      <td>08:37:09</td>\n",
       "      <td>Monday</td>\n",
       "    </tr>\n",
       "    <tr>\n",
       "      <th>4</th>\n",
       "      <td>E2DC1FAE</td>\n",
       "      <td>Soul People</td>\n",
       "      <td>Space Echo</td>\n",
       "      <td>dance</td>\n",
       "      <td>Moscow</td>\n",
       "      <td>08:34:34</td>\n",
       "      <td>Monday</td>\n",
       "    </tr>\n",
       "    <tr>\n",
       "      <th>5</th>\n",
       "      <td>842029A1</td>\n",
       "      <td>Преданная</td>\n",
       "      <td>IMPERVTOR</td>\n",
       "      <td>rusrap</td>\n",
       "      <td>Saint-Petersburg</td>\n",
       "      <td>13:09:41</td>\n",
       "      <td>Friday</td>\n",
       "    </tr>\n",
       "    <tr>\n",
       "      <th>6</th>\n",
       "      <td>4CB90AA5</td>\n",
       "      <td>True</td>\n",
       "      <td>Roman Messer</td>\n",
       "      <td>dance</td>\n",
       "      <td>Moscow</td>\n",
       "      <td>13:00:07</td>\n",
       "      <td>Wednesday</td>\n",
       "    </tr>\n",
       "    <tr>\n",
       "      <th>7</th>\n",
       "      <td>F03E1C1F</td>\n",
       "      <td>Feeling This Way</td>\n",
       "      <td>Polina Griffith</td>\n",
       "      <td>dance</td>\n",
       "      <td>Moscow</td>\n",
       "      <td>20:47:49</td>\n",
       "      <td>Wednesday</td>\n",
       "    </tr>\n",
       "    <tr>\n",
       "      <th>8</th>\n",
       "      <td>8FA1D3BE</td>\n",
       "      <td>И вновь продолжается бой</td>\n",
       "      <td>NaN</td>\n",
       "      <td>ruspop</td>\n",
       "      <td>Moscow</td>\n",
       "      <td>09:17:40</td>\n",
       "      <td>Friday</td>\n",
       "    </tr>\n",
       "    <tr>\n",
       "      <th>9</th>\n",
       "      <td>E772D5C0</td>\n",
       "      <td>Pessimist</td>\n",
       "      <td>NaN</td>\n",
       "      <td>dance</td>\n",
       "      <td>Saint-Petersburg</td>\n",
       "      <td>21:20:49</td>\n",
       "      <td>Wednesday</td>\n",
       "    </tr>\n",
       "  </tbody>\n",
       "</table>\n",
       "</div>"
      ],
      "text/plain": [
       "     userID                        Track            artist   genre  \\\n",
       "0  FFB692EC            Kamigata To Boots  The Mass Missile    rock   \n",
       "1  55204538  Delayed Because of Accident  Andreas Rönnberg    rock   \n",
       "2    20EC38            Funiculì funiculà       Mario Lanza     pop   \n",
       "3  A3DD03C9        Dragons in the Sunset        Fire + Ice    folk   \n",
       "4  E2DC1FAE                  Soul People        Space Echo   dance   \n",
       "5  842029A1                    Преданная         IMPERVTOR  rusrap   \n",
       "6  4CB90AA5                         True      Roman Messer   dance   \n",
       "7  F03E1C1F             Feeling This Way   Polina Griffith   dance   \n",
       "8  8FA1D3BE     И вновь продолжается бой               NaN  ruspop   \n",
       "9  E772D5C0                    Pessimist               NaN   dance   \n",
       "\n",
       "             City        time        Day  \n",
       "0  Saint-Petersburg  20:28:33  Wednesday  \n",
       "1            Moscow  14:07:09     Friday  \n",
       "2  Saint-Petersburg  20:58:07  Wednesday  \n",
       "3  Saint-Petersburg  08:37:09     Monday  \n",
       "4            Moscow  08:34:34     Monday  \n",
       "5  Saint-Petersburg  13:09:41     Friday  \n",
       "6            Moscow  13:00:07  Wednesday  \n",
       "7            Moscow  20:47:49  Wednesday  \n",
       "8            Moscow  09:17:40     Friday  \n",
       "9  Saint-Petersburg  21:20:49  Wednesday  "
      ]
     },
     "execution_count": 319,
     "metadata": {},
     "output_type": "execute_result"
    }
   ],
   "source": [
    "df.head(10)"
   ]
  },
  {
   "cell_type": "markdown",
   "metadata": {
    "deletable": false,
    "editable": false,
    "id": "EO73Kwic_Zct",
    "tags": [
     "start_task"
    ]
   },
   "source": [
    "**Задание 4**\n",
    "\n",
    "\n",
    "Одной командой получить общую информацию о таблице c помощью метода `info()`:"
   ]
  },
  {
   "cell_type": "code",
   "execution_count": 320,
   "metadata": {
    "deletable": false,
    "id": "DSf2kIb-_Zct"
   },
   "outputs": [
    {
     "name": "stdout",
     "output_type": "stream",
     "text": [
      "<class 'pandas.core.frame.DataFrame'>\n",
      "RangeIndex: 65079 entries, 0 to 65078\n",
      "Data columns (total 7 columns):\n",
      " #   Column    Non-Null Count  Dtype \n",
      "---  ------    --------------  ----- \n",
      " 0     userID  65079 non-null  object\n",
      " 1   Track     63848 non-null  object\n",
      " 2   artist    57876 non-null  object\n",
      " 3   genre     63881 non-null  object\n",
      " 4     City    65079 non-null  object\n",
      " 5   time      65079 non-null  object\n",
      " 6   Day       65079 non-null  object\n",
      "dtypes: object(7)\n",
      "memory usage: 3.5+ MB\n"
     ]
    }
   ],
   "source": [
    "df.info()"
   ]
  },
  {
   "cell_type": "markdown",
   "metadata": {
    "deletable": false,
    "editable": false,
    "id": "TaQ2Iwbr_Zct"
   },
   "source": [
    "Итак, в таблице семь столбцов. Тип данных во всех столбцах — `object`.\n",
    "\n",
    "Согласно документации к данным:\n",
    "* `userID` — идентификатор пользователя;\n",
    "* `Track` — название трека;  \n",
    "* `artist` — имя исполнителя;\n",
    "* `genre` — название жанра;\n",
    "* `City` — город пользователя;\n",
    "* `time` — время начала прослушивания;\n",
    "* `Day` — день недели.\n",
    "\n",
    "Количество значений в столбцах различается. Значит, в данных есть пропущенные значения."
   ]
  },
  {
   "cell_type": "markdown",
   "metadata": {
    "deletable": false,
    "editable": false,
    "id": "4P0UCWzswgEm",
    "tags": [
     "start_task"
    ]
   },
   "source": [
    "**Задание 5**\n",
    "\n",
    "**Вопрос со свободной формой ответа**\n",
    "\n",
    "В названиях колонок видны три нарушения стиля:\n",
    "1. Строчные буквы сочетаются с прописными.\n",
    "2. Встречаются пробелы."
   ]
  },
  {
   "cell_type": "code",
   "execution_count": 321,
   "metadata": {
    "id": "c137-ZstwgEm"
   },
   "outputs": [],
   "source": [
    "# 3. Отсутствует змеиный регистр (например, user_ID)"
   ]
  },
  {
   "cell_type": "markdown",
   "metadata": {
    "deletable": false,
    "editable": false,
    "id": "MCB6-dXG_Zct"
   },
   "source": [
    "**Выводы**\n",
    "\n",
    "В каждой строке таблицы — данные о прослушанном треке. Часть колонок описывает саму композицию: название, исполнителя и жанр. Остальные данные рассказывают о пользователе: из какого он города, когда он слушал музыку.\n",
    "\n",
    "Предварительно можно утверждать, что данных достаточно для проверки гипотез. Но встречаются пропуски в данных, а в названиях колонок — расхождения с хорошим стилем.\n",
    "\n",
    "Чтобы двигаться дальше, нужно устранить проблемы в данных."
   ]
  },
  {
   "cell_type": "markdown",
   "metadata": {
    "deletable": false,
    "editable": false,
    "id": "SjYF6Ub9_Zct"
   },
   "source": [
    "## Предобработка данных\n",
    "Исправьте стиль в заголовках столбцов, исключите пропуски. Затем проверьте данные на дубликаты."
   ]
  },
  {
   "cell_type": "markdown",
   "metadata": {
    "deletable": false,
    "editable": false,
    "id": "dIaKXr29_Zct",
    "tags": [
     "start_task"
    ]
   },
   "source": [
    "### Стиль заголовков\n",
    "\n",
    "**Задание 6**\n",
    "\n",
    "Выведите на экран названия столбцов:"
   ]
  },
  {
   "cell_type": "code",
   "execution_count": 322,
   "metadata": {
    "deletable": false,
    "id": "oKOTdF_Q_Zct"
   },
   "outputs": [
    {
     "data": {
      "text/plain": [
       "Index(['  userID', 'Track', 'artist', 'genre', '  City  ', 'time', 'Day'], dtype='object')"
      ]
     },
     "execution_count": 322,
     "metadata": {},
     "output_type": "execute_result"
    }
   ],
   "source": [
    "df.columns"
   ]
  },
  {
   "cell_type": "markdown",
   "metadata": {
    "deletable": false,
    "editable": false,
    "id": "zj5534cv_Zct",
    "tags": [
     "start_task"
    ]
   },
   "source": [
    "**Задание 7**\n",
    "\n",
    "\n",
    "Приведите названия в соответствие с хорошим стилем:\n",
    "* несколько слов в названии запишите в «змеином_регистре»,\n",
    "* все символы сделайте строчными,\n",
    "* устраните пробелы.\n",
    "\n",
    "Для этого переименуйте колонки так:\n",
    "* `'  userID'` → `'user_id'`;\n",
    "* `'Track'` → `'track'`;\n",
    "* `'  City  '` → `'city'`;\n",
    "* `'Day'` → `'day'`."
   ]
  },
  {
   "cell_type": "code",
   "execution_count": 323,
   "metadata": {
    "deletable": false,
    "id": "ISlFqs5y_Zct"
   },
   "outputs": [],
   "source": [
    "df = df.rename(columns = {'  userID': 'user_id', 'Track': 'track', '  City  ': 'city', 'Day': 'day'})"
   ]
  },
  {
   "cell_type": "markdown",
   "metadata": {
    "deletable": false,
    "editable": false,
    "id": "1dqbh00J_Zct",
    "tags": [
     "start_task"
    ]
   },
   "source": [
    "**Задание 8**\n",
    "\n",
    "\n",
    "Проверьте результат. Для этого ещё раз выведите на экран названия столбцов:"
   ]
  },
  {
   "cell_type": "code",
   "execution_count": 324,
   "metadata": {
    "deletable": false,
    "id": "d4NOAmTW_Zct"
   },
   "outputs": [
    {
     "data": {
      "text/plain": [
       "Index(['user_id', 'track', 'artist', 'genre', 'city', 'time', 'day'], dtype='object')"
      ]
     },
     "execution_count": 324,
     "metadata": {},
     "output_type": "execute_result"
    }
   ],
   "source": [
    "df.columns"
   ]
  },
  {
   "cell_type": "markdown",
   "metadata": {
    "deletable": false,
    "editable": false,
    "id": "5ISfbcfY_Zct",
    "tags": [
     "start_task"
    ]
   },
   "source": [
    "### Пропуски значений\n",
    "\n",
    "**Задание 9**\n",
    "\n",
    "Сначала посчитайте, сколько в таблице пропущенных значений. Для этого достаточно двух методов `pandas`:"
   ]
  },
  {
   "cell_type": "code",
   "execution_count": 325,
   "metadata": {
    "deletable": false,
    "id": "RskX29qr_Zct"
   },
   "outputs": [
    {
     "data": {
      "text/plain": [
       "user_id       0\n",
       "track      1231\n",
       "artist     7203\n",
       "genre      1198\n",
       "city          0\n",
       "time          0\n",
       "day           0\n",
       "dtype: int64"
      ]
     },
     "execution_count": 325,
     "metadata": {},
     "output_type": "execute_result"
    }
   ],
   "source": [
    "df.isna().sum()"
   ]
  },
  {
   "cell_type": "markdown",
   "metadata": {
    "deletable": false,
    "editable": false,
    "id": "qubhgnlO_Zct"
   },
   "source": [
    "Не все пропущенные значения влияют на исследование. Так, в `track` и `artist` пропуски не важны для вашей работы. Достаточно заменить их явными обозначениями.\n",
    "\n",
    "Но пропуски в `genre` могут помешать сравнить музыкальные вкусы в Москве и Санкт-Петербурге. На практике было бы правильно установить причину пропусков и восстановить данные. Такой возможности нет в учебном проекте. Поэтому придётся:\n",
    "* заполнить и эти пропуски явными обозначениями;\n",
    "* оценить, насколько они повредят расчётам."
   ]
  },
  {
   "cell_type": "markdown",
   "metadata": {
    "deletable": false,
    "editable": false,
    "id": "fSv2laPA_Zct",
    "tags": [
     "start_task"
    ]
   },
   "source": [
    "**Задание 10**\n",
    "\n",
    "Замените пропущенные значения в столбцах `track`, `artist` и `genre` на строку `'unknown'`. Для этого создайте список `columns_to_replace`, переберите его элементы циклом `for` и для каждого столбца выполните замену пропущенных значений:"
   ]
  },
  {
   "cell_type": "code",
   "execution_count": 326,
   "metadata": {
    "deletable": false,
    "id": "KplB5qWs_Zct"
   },
   "outputs": [],
   "source": [
    "columns_to_replace = ['track', 'artist', 'genre']\n",
    "\n",
    "for column in columns_to_replace:\n",
    "    df[column] = df[column].fillna('unknown')"
   ]
  },
  {
   "cell_type": "markdown",
   "metadata": {
    "deletable": false,
    "editable": false,
    "id": "Ilsm-MZo_Zct",
    "tags": [
     "start_task"
    ]
   },
   "source": [
    "**Задание 11**\n",
    "\n",
    "Убедитесь, что в таблице не осталось пропусков. Для этого ещё раз посчитайте пропущенные значения."
   ]
  },
  {
   "cell_type": "code",
   "execution_count": 327,
   "metadata": {
    "deletable": false,
    "id": "Tq4nYRX4_Zct"
   },
   "outputs": [
    {
     "data": {
      "text/plain": [
       "user_id    0\n",
       "track      0\n",
       "artist     0\n",
       "genre      0\n",
       "city       0\n",
       "time       0\n",
       "day        0\n",
       "dtype: int64"
      ]
     },
     "execution_count": 327,
     "metadata": {},
     "output_type": "execute_result"
    }
   ],
   "source": [
    "df.isna().sum()"
   ]
  },
  {
   "cell_type": "markdown",
   "metadata": {
    "deletable": false,
    "editable": false,
    "id": "BWKRtBJ3_Zct",
    "tags": [
     "start_task"
    ]
   },
   "source": [
    "### Дубликаты\n",
    "\n",
    "**Задание 12**\n",
    "\n",
    "Посчитайте явные дубликаты в таблице одной командой:"
   ]
  },
  {
   "cell_type": "code",
   "execution_count": 328,
   "metadata": {
    "deletable": false,
    "id": "36eES_S0_Zct"
   },
   "outputs": [
    {
     "data": {
      "text/plain": [
       "3826"
      ]
     },
     "execution_count": 328,
     "metadata": {},
     "output_type": "execute_result"
    }
   ],
   "source": [
    "df.duplicated().sum()"
   ]
  },
  {
   "cell_type": "markdown",
   "metadata": {
    "deletable": false,
    "editable": false,
    "id": "Ot25h6XR_Zct",
    "tags": [
     "start_task"
    ]
   },
   "source": [
    "**Задание 13**\n",
    "\n",
    "Вызовите специальный метод `pandas`, чтобы удалить явные дубликаты:"
   ]
  },
  {
   "cell_type": "code",
   "execution_count": 329,
   "metadata": {
    "deletable": false,
    "id": "exFHq6tt_Zct"
   },
   "outputs": [],
   "source": [
    "df = df.drop_duplicates()"
   ]
  },
  {
   "cell_type": "markdown",
   "metadata": {
    "deletable": false,
    "editable": false,
    "id": "Im2YwBEG_Zct",
    "tags": [
     "start_task"
    ]
   },
   "source": [
    "**Задание 14**\n",
    "\n",
    "Ещё раз посчитайте явные дубликаты в таблице — убедитесь, что полностью от них избавились:"
   ]
  },
  {
   "cell_type": "code",
   "execution_count": 330,
   "metadata": {
    "deletable": false,
    "id": "-8PuNWQ0_Zct"
   },
   "outputs": [
    {
     "data": {
      "text/plain": [
       "0"
      ]
     },
     "execution_count": 330,
     "metadata": {},
     "output_type": "execute_result"
    }
   ],
   "source": [
    "df.duplicated().sum()"
   ]
  },
  {
   "cell_type": "markdown",
   "metadata": {
    "deletable": false,
    "editable": false,
    "id": "QlFBsxAr_Zct"
   },
   "source": [
    "Теперь избавьтесь от неявных дубликатов в колонке `genre`. Например, название одного и того же жанра может быть записано немного по-разному. Такие ошибки тоже повлияют на результат исследования."
   ]
  },
  {
   "cell_type": "markdown",
   "metadata": {
    "deletable": false,
    "editable": false,
    "id": "eSjWwsOh_Zct",
    "tags": [
     "start_task"
    ]
   },
   "source": [
    "**Задание 15**\n",
    "\n",
    "Выведите на экран список уникальных названий жанров, отсортированный в алфавитном порядке. Для этого:\n",
    "* извлеките нужный столбец датафрейма;\n",
    "* примените к нему метод сортировки;\n",
    "* для отсортированного столбца вызовите метод, который вернёт уникальные значения из столбца."
   ]
  },
  {
   "cell_type": "code",
   "execution_count": 331,
   "metadata": {
    "deletable": false,
    "id": "JIUcqzZN_Zct"
   },
   "outputs": [
    {
     "data": {
      "text/plain": [
       "array(['acid', 'acoustic', 'action', 'adult', 'africa', 'afrikaans',\n",
       "       'alternative', 'alternativepunk', 'ambient', 'americana',\n",
       "       'animated', 'anime', 'arabesk', 'arabic', 'arena',\n",
       "       'argentinetango', 'art', 'audiobook', 'author', 'avantgarde',\n",
       "       'axé', 'baile', 'balkan', 'beats', 'bigroom', 'black', 'bluegrass',\n",
       "       'blues', 'bollywood', 'bossa', 'brazilian', 'breakbeat', 'breaks',\n",
       "       'broadway', 'cantautori', 'cantopop', 'canzone', 'caribbean',\n",
       "       'caucasian', 'celtic', 'chamber', 'chanson', 'children', 'chill',\n",
       "       'chinese', 'choral', 'christian', 'christmas', 'classical',\n",
       "       'classicmetal', 'club', 'colombian', 'comedy', 'conjazz',\n",
       "       'contemporary', 'country', 'cuban', 'dance', 'dancehall',\n",
       "       'dancepop', 'dark', 'death', 'deep', 'deutschrock', 'deutschspr',\n",
       "       'dirty', 'disco', 'dnb', 'documentary', 'downbeat', 'downtempo',\n",
       "       'drum', 'dub', 'dubstep', 'eastern', 'easy', 'electronic',\n",
       "       'electropop', 'emo', 'entehno', 'epicmetal', 'estrada', 'ethnic',\n",
       "       'eurofolk', 'european', 'experimental', 'extrememetal', 'fado',\n",
       "       'fairytail', 'film', 'fitness', 'flamenco', 'folk', 'folklore',\n",
       "       'folkmetal', 'folkrock', 'folktronica', 'forró', 'frankreich',\n",
       "       'französisch', 'french', 'funk', 'future', 'gangsta', 'garage',\n",
       "       'german', 'ghazal', 'gitarre', 'glitch', 'gospel', 'gothic',\n",
       "       'grime', 'grunge', 'gypsy', 'handsup', \"hard'n'heavy\", 'hardcore',\n",
       "       'hardstyle', 'hardtechno', 'hip', 'hip-hop', 'hiphop',\n",
       "       'historisch', 'holiday', 'hop', 'horror', 'house', 'hymn', 'idm',\n",
       "       'independent', 'indian', 'indie', 'indipop', 'industrial',\n",
       "       'inspirational', 'instrumental', 'international', 'irish', 'jam',\n",
       "       'japanese', 'jazz', 'jewish', 'jpop', 'jungle', 'k-pop',\n",
       "       'karadeniz', 'karaoke', 'kayokyoku', 'korean', 'laiko', 'latin',\n",
       "       'latino', 'leftfield', 'local', 'lounge', 'loungeelectronic',\n",
       "       'lovers', 'malaysian', 'mandopop', 'marschmusik', 'meditative',\n",
       "       'mediterranean', 'melodic', 'metal', 'metalcore', 'mexican',\n",
       "       'middle', 'minimal', 'miscellaneous', 'modern', 'mood', 'mpb',\n",
       "       'muslim', 'native', 'neoklassik', 'neue', 'new', 'newage',\n",
       "       'newwave', 'nu', 'nujazz', 'numetal', 'oceania', 'old', 'opera',\n",
       "       'orchestral', 'other', 'piano', 'podcasts', 'pop', 'popdance',\n",
       "       'popelectronic', 'popeurodance', 'poprussian', 'post',\n",
       "       'posthardcore', 'postrock', 'power', 'progmetal', 'progressive',\n",
       "       'psychedelic', 'punjabi', 'punk', 'quebecois', 'ragga', 'ram',\n",
       "       'rancheras', 'rap', 'rave', 'reggae', 'reggaeton', 'regional',\n",
       "       'relax', 'religious', 'retro', 'rhythm', 'rnb', 'rnr', 'rock',\n",
       "       'rockabilly', 'rockalternative', 'rockindie', 'rockother',\n",
       "       'romance', 'roots', 'ruspop', 'rusrap', 'rusrock', 'russian',\n",
       "       'salsa', 'samba', 'scenic', 'schlager', 'self', 'sertanejo',\n",
       "       'shanson', 'shoegazing', 'showtunes', 'singer', 'ska', 'skarock',\n",
       "       'slow', 'smooth', 'soft', 'soul', 'soulful', 'sound', 'soundtrack',\n",
       "       'southern', 'specialty', 'speech', 'spiritual', 'sport',\n",
       "       'stonerrock', 'surf', 'swing', 'synthpop', 'synthrock',\n",
       "       'sängerportrait', 'tango', 'tanzorchester', 'taraftar', 'tatar',\n",
       "       'tech', 'techno', 'teen', 'thrash', 'top', 'traditional',\n",
       "       'tradjazz', 'trance', 'tribal', 'trip', 'triphop', 'tropical',\n",
       "       'türk', 'türkçe', 'ukrrock', 'unknown', 'urban', 'uzbek',\n",
       "       'variété', 'vi', 'videogame', 'vocal', 'western', 'world',\n",
       "       'worldbeat', 'ïîï', 'электроника'], dtype=object)"
      ]
     },
     "execution_count": 331,
     "metadata": {},
     "output_type": "execute_result"
    }
   ],
   "source": [
    "df_sorted = df.sort_values(by = 'genre')\n",
    "df_sorted['genre'].unique()"
   ]
  },
  {
   "cell_type": "markdown",
   "metadata": {
    "deletable": false,
    "editable": false,
    "id": "qej-Qmuo_Zct",
    "tags": [
     "start_task"
    ]
   },
   "source": [
    "**Задание 16**\n",
    "\n",
    "Просмотрите список и найдите неявные дубликаты названия `hiphop`. Это могут быть названия с ошибками или альтернативные названия того же жанра.\n",
    "\n",
    "Вы увидите следующие неявные дубликаты:\n",
    "* *hip*,\n",
    "* *hop*,\n",
    "* *hip-hop*.\n",
    "\n",
    "Чтобы очистить от них таблицу, используйте метод `replace()` с двумя аргументами: списком строк-дубликатов (включающий *hip*, *hop* и *hip-hop*) и строкой с правильным значением. Вам нужно исправить колонку `genre` в таблице `df`: заменить каждое значение из списка дубликатов на верное. Вместо `hip`, `hop` и `hip-hop` в таблице должно быть значение `hiphop`:"
   ]
  },
  {
   "cell_type": "code",
   "execution_count": 332,
   "metadata": {
    "deletable": false,
    "id": "ErNDkmns_Zct"
   },
   "outputs": [],
   "source": [
    "duplicates = ['hip', 'hop', 'hip-hop']\n",
    "name = 'hiphop'\n",
    "df['genre'] = df['genre'].replace(duplicates, name)"
   ]
  },
  {
   "cell_type": "markdown",
   "metadata": {
    "deletable": false,
    "editable": false,
    "id": "zQKF16_RG15m",
    "tags": [
     "start_task"
    ]
   },
   "source": [
    "**Задание 17**\n",
    "\n",
    "Проверьте, что заменили неправильные названия:\n",
    "\n",
    "*   *hip*,\n",
    "*   *hop*,\n",
    "*   *hip-hop*.\n",
    "\n",
    "Выведите отсортированный список уникальных значений столбца `genre`:"
   ]
  },
  {
   "cell_type": "code",
   "execution_count": 333,
   "metadata": {
    "deletable": false,
    "id": "wvixALnFG15m"
   },
   "outputs": [
    {
     "data": {
      "text/plain": [
       "array(['acid', 'acoustic', 'action', 'adult', 'africa', 'afrikaans',\n",
       "       'alternative', 'alternativepunk', 'ambient', 'americana',\n",
       "       'animated', 'anime', 'arabesk', 'arabic', 'arena',\n",
       "       'argentinetango', 'art', 'audiobook', 'author', 'avantgarde',\n",
       "       'axé', 'baile', 'balkan', 'beats', 'bigroom', 'black', 'bluegrass',\n",
       "       'blues', 'bollywood', 'bossa', 'brazilian', 'breakbeat', 'breaks',\n",
       "       'broadway', 'cantautori', 'cantopop', 'canzone', 'caribbean',\n",
       "       'caucasian', 'celtic', 'chamber', 'chanson', 'children', 'chill',\n",
       "       'chinese', 'choral', 'christian', 'christmas', 'classical',\n",
       "       'classicmetal', 'club', 'colombian', 'comedy', 'conjazz',\n",
       "       'contemporary', 'country', 'cuban', 'dance', 'dancehall',\n",
       "       'dancepop', 'dark', 'death', 'deep', 'deutschrock', 'deutschspr',\n",
       "       'dirty', 'disco', 'dnb', 'documentary', 'downbeat', 'downtempo',\n",
       "       'drum', 'dub', 'dubstep', 'eastern', 'easy', 'electronic',\n",
       "       'electropop', 'emo', 'entehno', 'epicmetal', 'estrada', 'ethnic',\n",
       "       'eurofolk', 'european', 'experimental', 'extrememetal', 'fado',\n",
       "       'fairytail', 'film', 'fitness', 'flamenco', 'folk', 'folklore',\n",
       "       'folkmetal', 'folkrock', 'folktronica', 'forró', 'frankreich',\n",
       "       'französisch', 'french', 'funk', 'future', 'gangsta', 'garage',\n",
       "       'german', 'ghazal', 'gitarre', 'glitch', 'gospel', 'gothic',\n",
       "       'grime', 'grunge', 'gypsy', 'handsup', \"hard'n'heavy\", 'hardcore',\n",
       "       'hardstyle', 'hardtechno', 'hiphop', 'historisch', 'holiday',\n",
       "       'horror', 'house', 'hymn', 'idm', 'independent', 'indian', 'indie',\n",
       "       'indipop', 'industrial', 'inspirational', 'instrumental',\n",
       "       'international', 'irish', 'jam', 'japanese', 'jazz', 'jewish',\n",
       "       'jpop', 'jungle', 'k-pop', 'karadeniz', 'karaoke', 'kayokyoku',\n",
       "       'korean', 'laiko', 'latin', 'latino', 'leftfield', 'local',\n",
       "       'lounge', 'loungeelectronic', 'lovers', 'malaysian', 'mandopop',\n",
       "       'marschmusik', 'meditative', 'mediterranean', 'melodic', 'metal',\n",
       "       'metalcore', 'mexican', 'middle', 'minimal', 'miscellaneous',\n",
       "       'modern', 'mood', 'mpb', 'muslim', 'native', 'neoklassik', 'neue',\n",
       "       'new', 'newage', 'newwave', 'nu', 'nujazz', 'numetal', 'oceania',\n",
       "       'old', 'opera', 'orchestral', 'other', 'piano', 'podcasts', 'pop',\n",
       "       'popdance', 'popelectronic', 'popeurodance', 'poprussian', 'post',\n",
       "       'posthardcore', 'postrock', 'power', 'progmetal', 'progressive',\n",
       "       'psychedelic', 'punjabi', 'punk', 'quebecois', 'ragga', 'ram',\n",
       "       'rancheras', 'rap', 'rave', 'reggae', 'reggaeton', 'regional',\n",
       "       'relax', 'religious', 'retro', 'rhythm', 'rnb', 'rnr', 'rock',\n",
       "       'rockabilly', 'rockalternative', 'rockindie', 'rockother',\n",
       "       'romance', 'roots', 'ruspop', 'rusrap', 'rusrock', 'russian',\n",
       "       'salsa', 'samba', 'scenic', 'schlager', 'self', 'sertanejo',\n",
       "       'shanson', 'shoegazing', 'showtunes', 'singer', 'ska', 'skarock',\n",
       "       'slow', 'smooth', 'soft', 'soul', 'soulful', 'sound', 'soundtrack',\n",
       "       'southern', 'specialty', 'speech', 'spiritual', 'sport',\n",
       "       'stonerrock', 'surf', 'swing', 'synthpop', 'synthrock',\n",
       "       'sängerportrait', 'tango', 'tanzorchester', 'taraftar', 'tatar',\n",
       "       'tech', 'techno', 'teen', 'thrash', 'top', 'traditional',\n",
       "       'tradjazz', 'trance', 'tribal', 'trip', 'triphop', 'tropical',\n",
       "       'türk', 'türkçe', 'ukrrock', 'unknown', 'urban', 'uzbek',\n",
       "       'variété', 'vi', 'videogame', 'vocal', 'western', 'world',\n",
       "       'worldbeat', 'ïîï', 'электроника'], dtype=object)"
      ]
     },
     "execution_count": 333,
     "metadata": {},
     "output_type": "execute_result"
    }
   ],
   "source": [
    "df_sorted = df.sort_values(by = 'genre')\n",
    "df_sorted['genre'].unique()"
   ]
  },
  {
   "cell_type": "markdown",
   "metadata": {
    "deletable": false,
    "editable": false,
    "id": "jz6a9-7HQUDd"
   },
   "source": [
    "**Выводы**\n",
    "\n",
    "Предобработка обнаружила три проблемы в данных:\n",
    "\n",
    "- нарушения в стиле заголовков,\n",
    "- пропущенные значения,\n",
    "- дубликаты — явные и неявные.\n",
    "\n",
    "Вы исправили заголовки, чтобы упростить работу с таблицей. Без дубликатов исследование станет более точным.\n",
    "\n",
    "Пропущенные значения вы заменили на `'unknown'`. Ещё предстоит увидеть, не повредят ли исследованию пропуски в колонке `genre`.\n",
    "\n",
    "Теперь можно перейти к проверке гипотез."
   ]
  },
  {
   "cell_type": "markdown",
   "metadata": {
    "deletable": false,
    "editable": false,
    "id": "WttZHXH0SqKk"
   },
   "source": [
    "## Проверка гипотез"
   ]
  },
  {
   "cell_type": "markdown",
   "metadata": {
    "deletable": false,
    "editable": false,
    "id": "Im936VVi_Zcu"
   },
   "source": [
    "### Сравнение поведения пользователей двух столиц"
   ]
  },
  {
   "cell_type": "markdown",
   "metadata": {
    "deletable": false,
    "editable": false,
    "id": "nwt_MuaL_Zcu"
   },
   "source": [
    "Первая гипотеза утверждает, что пользователи по-разному слушают музыку в Москве и Санкт-Петербурге. Проверьте это предположение по данным о трёх днях недели — понедельнике, среде и пятнице. Для этого:\n",
    "\n",
    "* Разделите пользователей Москвы и Санкт-Петербурга.\n",
    "* Сравните, сколько треков послушала каждая группа пользователей в понедельник, среду и пятницу.\n"
   ]
  },
  {
   "cell_type": "markdown",
   "metadata": {
    "deletable": false,
    "editable": false,
    "id": "8Dw_YMmT_Zcu",
    "tags": [
     "start_task"
    ]
   },
   "source": [
    "**Задание 18**\n",
    "\n",
    "Для тренировки сначала выполните каждый из расчётов по отдельности.\n",
    "\n",
    "Оцените активность пользователей в каждом городе. Сгруппируйте данные по городу и посчитайте прослушивания в каждой группе.\n",
    "\n"
   ]
  },
  {
   "cell_type": "code",
   "execution_count": 398,
   "metadata": {
    "deletable": false,
    "id": "0_Qs96oh_Zcu"
   },
   "outputs": [
    {
     "name": "stdout",
     "output_type": "stream",
     "text": [
      "city\n",
      "Moscow              42741\n",
      "Saint-Petersburg    18512\n",
      "Name: user_id, dtype: int64\n"
     ]
    }
   ],
   "source": [
    "df_sorted_city = df.groupby('city')['user_id'].count()\n",
    "print(df_sorted_city)"
   ]
  },
  {
   "cell_type": "markdown",
   "metadata": {
    "deletable": false,
    "editable": false,
    "id": "dzli3w8o_Zcu",
    "tags": [
     "start_task"
    ]
   },
   "source": [
    "В Москве прослушиваний больше, чем в Петербурге. Из этого не следует, что московские пользователи чаще слушают музыку. Просто самих пользователей в Москве больше.\n",
    "\n",
    "**Задание 19**\n",
    "\n",
    "Теперь сгруппируйте данные по дню недели и посчитайте прослушивания в понедельник, среду и пятницу. Учтите, что в данных есть информация о прослушиваниях только за эти дни.\n"
   ]
  },
  {
   "cell_type": "code",
   "execution_count": 399,
   "metadata": {
    "deletable": false,
    "id": "uZMKjiJz_Zcu"
   },
   "outputs": [
    {
     "name": "stdout",
     "output_type": "stream",
     "text": [
      "day\n",
      "Friday       21840\n",
      "Monday       21354\n",
      "Wednesday    18059\n",
      "Name: user_id, dtype: int64\n"
     ]
    }
   ],
   "source": [
    "df_sorted_day = df.groupby('day')['user_id'].count()\n",
    "print(df_sorted_day)"
   ]
  },
  {
   "cell_type": "markdown",
   "metadata": {
    "deletable": false,
    "editable": false,
    "id": "cC2tNrlL_Zcu"
   },
   "source": [
    "В среднем пользователи из двух городов менее активны по средам. Но картина может измениться, если рассмотреть каждый город в отдельности."
   ]
  },
  {
   "cell_type": "markdown",
   "metadata": {
    "deletable": false,
    "editable": false,
    "id": "POzs8bGa_Zcu",
    "tags": [
     "start_task"
    ]
   },
   "source": [
    "**Задание 20**\n",
    "\n",
    "\n",
    "Вы видели, как работает группировка по городу и по дням недели. Теперь напишите функцию, которая объединит два эти расчёта.\n",
    "\n",
    "Создайте функцию `number_tracks()`, которая посчитает прослушивания для заданного дня и города. Ей понадобятся два параметра:\n",
    "* день недели,\n",
    "* название города.\n",
    "\n",
    "В функции сохраните в переменную строки исходной таблицы, у которых значение:\n",
    "  * в колонке `day` равно параметру `day`,\n",
    "  * в колонке `city` равно параметру `city`.\n",
    "\n",
    "Для этого примените последовательную фильтрацию с логической индексацией (или сложные логические выражения в одну строку, если вы уже знакомы с ними).\n",
    "\n",
    "Затем посчитайте значения в столбце `user_id` получившейся таблицы. Результат сохраните в новую переменную. Верните эту переменную из функции."
   ]
  },
  {
   "cell_type": "code",
   "execution_count": 400,
   "metadata": {
    "deletable": false,
    "id": "Nz3GdQB1_Zcu"
   },
   "outputs": [],
   "source": [
    "# <создание функции number_tracks()>\n",
    "def number_tracks(day, city):\n",
    "    track_list = df[df['day'] == day]\n",
    "    track_list = track_list[track_list['city'] == city]\n",
    "    track_list_count = track_list['user_id'].count()\n",
    "    return track_list_count\n",
    "\n",
    "\n",
    "# Функция для подсчёта прослушиваний для конкретного города и дня.\n",
    "# С помощью последовательной фильтрации с логической индексацией она\n",
    "# сначала получит из исходной таблицы строки с нужным днём,\n",
    "# затем из результата отфильтрует строки с нужным городом,\n",
    "# методом count() посчитает количество значений в колонке user_id.\n",
    "# Это количество функция вернёт в качестве результата"
   ]
  },
  {
   "cell_type": "markdown",
   "metadata": {
    "deletable": false,
    "editable": false,
    "id": "ytf7xFrFJQ2r",
    "tags": [
     "start_task"
    ]
   },
   "source": [
    "**Задание 21**\n",
    "\n",
    "Вызовите `number_tracks()` шесть раз, меняя значение параметров — так, чтобы получить данные для каждого города в каждый из трёх дней."
   ]
  },
  {
   "cell_type": "code",
   "execution_count": 401,
   "metadata": {
    "deletable": false,
    "id": "rJcRATNQ_Zcu"
   },
   "outputs": [
    {
     "name": "stdout",
     "output_type": "stream",
     "text": [
      "15740\n"
     ]
    }
   ],
   "source": [
    "print(number_tracks('Monday', 'Moscow'))"
   ]
  },
  {
   "cell_type": "code",
   "execution_count": 360,
   "metadata": {
    "deletable": false,
    "id": "hq_ncZ5T_Zcu"
   },
   "outputs": [
    {
     "name": "stdout",
     "output_type": "stream",
     "text": [
      "5614\n"
     ]
    }
   ],
   "source": [
    "print(number_tracks('Monday', 'Saint-Petersburg'))"
   ]
  },
  {
   "cell_type": "code",
   "execution_count": 361,
   "metadata": {
    "deletable": false,
    "id": "_NTy2VPU_Zcu"
   },
   "outputs": [
    {
     "name": "stdout",
     "output_type": "stream",
     "text": [
      "11056\n"
     ]
    }
   ],
   "source": [
    "print(number_tracks('Wednesday', 'Moscow'))"
   ]
  },
  {
   "cell_type": "code",
   "execution_count": 364,
   "metadata": {
    "deletable": false,
    "id": "j2y3TAwo_Zcu"
   },
   "outputs": [
    {
     "name": "stdout",
     "output_type": "stream",
     "text": [
      "7003\n"
     ]
    }
   ],
   "source": [
    "print(number_tracks('Wednesday', 'Saint-Petersburg'))"
   ]
  },
  {
   "cell_type": "code",
   "execution_count": 362,
   "metadata": {
    "deletable": false,
    "id": "vYDw5u_K_Zcu"
   },
   "outputs": [
    {
     "name": "stdout",
     "output_type": "stream",
     "text": [
      "15945\n"
     ]
    }
   ],
   "source": [
    "print(number_tracks('Friday', 'Moscow'))"
   ]
  },
  {
   "cell_type": "code",
   "execution_count": 363,
   "metadata": {
    "deletable": false,
    "id": "8_yzFtW3_Zcu"
   },
   "outputs": [
    {
     "name": "stdout",
     "output_type": "stream",
     "text": [
      "5895\n"
     ]
    }
   ],
   "source": [
    "print(number_tracks('Friday', 'Saint-Petersburg'))"
   ]
  },
  {
   "cell_type": "markdown",
   "metadata": {
    "deletable": false,
    "editable": false,
    "id": "7QXffbO-_Zcu",
    "tags": [
     "start_task"
    ]
   },
   "source": [
    "**Задание 22**\n",
    "\n",
    "С помощью конструктора `pd.DataFrame` создайте таблицу, где\n",
    "* названия колонок — `['city', 'monday', 'wednesday', 'friday']`;\n",
    "* данные — результаты, которые вы получили с помощью `number_tracks`."
   ]
  },
  {
   "cell_type": "code",
   "execution_count": 369,
   "metadata": {
    "deletable": false,
    "id": "APAcLpOr_Zcu"
   },
   "outputs": [
    {
     "data": {
      "text/html": [
       "<div>\n",
       "<style scoped>\n",
       "    .dataframe tbody tr th:only-of-type {\n",
       "        vertical-align: middle;\n",
       "    }\n",
       "\n",
       "    .dataframe tbody tr th {\n",
       "        vertical-align: top;\n",
       "    }\n",
       "\n",
       "    .dataframe thead th {\n",
       "        text-align: right;\n",
       "    }\n",
       "</style>\n",
       "<table border=\"1\" class=\"dataframe\">\n",
       "  <thead>\n",
       "    <tr style=\"text-align: right;\">\n",
       "      <th></th>\n",
       "      <th>city</th>\n",
       "      <th>monday</th>\n",
       "      <th>wednesday</th>\n",
       "      <th>friday</th>\n",
       "    </tr>\n",
       "  </thead>\n",
       "  <tbody>\n",
       "    <tr>\n",
       "      <th>0</th>\n",
       "      <td>Москва</td>\n",
       "      <td>15740</td>\n",
       "      <td>11056</td>\n",
       "      <td>15945</td>\n",
       "    </tr>\n",
       "    <tr>\n",
       "      <th>1</th>\n",
       "      <td>Санкт-Петербург</td>\n",
       "      <td>5614</td>\n",
       "      <td>7003</td>\n",
       "      <td>5895</td>\n",
       "    </tr>\n",
       "  </tbody>\n",
       "</table>\n",
       "</div>"
      ],
      "text/plain": [
       "              city  monday  wednesday  friday\n",
       "0           Москва   15740      11056   15945\n",
       "1  Санкт-Петербург    5614       7003    5895"
      ]
     },
     "execution_count": 369,
     "metadata": {},
     "output_type": "execute_result"
    }
   ],
   "source": [
    "col = ['city','monday','wednesday','friday']\n",
    "rows = [['Москва', 15740, 11056, 15945], ['Санкт-Петербург', 5614, 7003, 5895]]\n",
    "info = pd.DataFrame(data = rows, columns = col)\n",
    "info"
   ]
  },
  {
   "cell_type": "markdown",
   "metadata": {
    "deletable": false,
    "editable": false,
    "id": "-EgPIHYu_Zcu"
   },
   "source": [
    "**Выводы**\n",
    "\n",
    "Данные показывают разницу поведения пользователей:\n",
    "\n",
    "- В Москве пик прослушиваний приходится на понедельник и пятницу, а в среду заметен спад.\n",
    "- В Петербурге, наоборот, больше слушают музыку по средам. Активность в понедельник и пятницу здесь почти в равной мере уступает среде.\n",
    "\n",
    "Значит, данные говорят в пользу первой гипотезы."
   ]
  },
  {
   "cell_type": "markdown",
   "metadata": {
    "deletable": false,
    "editable": false,
    "id": "atZAxtq4_Zcu"
   },
   "source": [
    "### Музыка в начале и в конце недели"
   ]
  },
  {
   "cell_type": "markdown",
   "metadata": {
    "deletable": false,
    "editable": false,
    "id": "eXrQqXFH_Zcu"
   },
   "source": [
    "Согласно второй гипотезе, утром в понедельник в Москве преобладают одни жанры, а в Петербурге — другие. Так же и вечером пятницы преобладают разные жанры — в зависимости от города."
   ]
  },
  {
   "cell_type": "markdown",
   "metadata": {
    "deletable": false,
    "editable": false,
    "id": "S8UcW6Hw_Zcu",
    "tags": [
     "start_task"
    ]
   },
   "source": [
    "**Задание 23**\n",
    "\n",
    "Сохраните таблицы с данными в две переменные:\n",
    "* по Москве — в `moscow_general`;\n",
    "* по Санкт-Петербургу — в `spb_general`."
   ]
  },
  {
   "cell_type": "code",
   "execution_count": 370,
   "metadata": {
    "deletable": false,
    "id": "qeaFfM_P_Zcu"
   },
   "outputs": [],
   "source": [
    "moscow_general = df[df['city'] == 'Moscow']\n"
   ]
  },
  {
   "cell_type": "code",
   "execution_count": 371,
   "metadata": {
    "deletable": false,
    "id": "ORaVRKto_Zcu"
   },
   "outputs": [],
   "source": [
    "spb_general = df[df['city'] == 'Saint-Petersburg']\n"
   ]
  },
  {
   "cell_type": "markdown",
   "metadata": {
    "deletable": false,
    "id": "MEJV-CX2_Zcu",
    "tags": [
     "start_task"
    ]
   },
   "source": [
    "**Задание 24**\n",
    "\n",
    "Создайте функцию `genre_weekday()` с четырьмя параметрами:\n",
    "* таблица (датафрейм) с данными,\n",
    "* день недели,\n",
    "* начальная временная метка в формате 'hh:mm',\n",
    "* последняя временная метка в формате 'hh:mm'.\n",
    "\n",
    "Функция должна вернуть информацию о топ-10 жанров тех треков, которые прослушивали в указанный день, в промежутке между двумя отметками времени."
   ]
  },
  {
   "cell_type": "code",
   "execution_count": 374,
   "metadata": {
    "deletable": false,
    "id": "laJT9BYl_Zcu"
   },
   "outputs": [],
   "source": [
    "# Объявление функции genre_weekday() с параметрами df, day, time1, time2,\n",
    "# которая возвращает информацию о самых популярных жанрах в указанный день в\n",
    "# заданное время:\n",
    "# 1) в переменную genre_df сохраняются те строки переданного датафрейма df, для\n",
    "#    которых одновременно:\n",
    "#    - значение в столбце day равно значению аргумента day\n",
    "#    - значение в столбце time больше значения аргумента time1\n",
    "#    - значение в столбце time меньше значения аргумента time2\n",
    "#    Используйте последовательную фильтрацию с помощью логической индексации.\n",
    "# 2) сгруппировать датафрейм genre_df по столбцу genre, взять один из его\n",
    "#    столбцов и посчитать методом count() количество записей для каждого из\n",
    "#    присутствующих жанров, получившийся Series записать в переменную\n",
    "#    genre_df_grouped\n",
    "# 3) отсортировать genre_df_grouped по убыванию встречаемости и сохранить\n",
    "#    в переменную genre_df_sorted\n",
    "# 4) вернуть Series из 10 первых значений genre_df_sorted, это будут топ-10\n",
    "#    популярных жанров (в указанный день, в заданное время)\n",
    "\n",
    "def genre_weekday(df, day, time1, time2):\n",
    "    # последовательная фильтрация\n",
    "    # оставляем в genre_df только те строки df, у которых день равен day\n",
    "    genre_df = df[df['day'] == day]\n",
    "    # оставляем в genre_df только те строки genre_df, у которых время меньше time2\n",
    "    genre_df = genre_df[genre_df['time'] < time2]\n",
    "    # оставляем в genre_df только те строки genre_df, у которых время больше time1\n",
    "    genre_df = genre_df[genre_df['time'] > time1]\n",
    "    # сгруппируем отфильтрованный датафрейм по столбцу с названиями жанров, возьмём столбец genre и посчитаем кол-во строк для каждого жанра методом count()\n",
    "    genre_df_grouped = genre_df.groupby('genre')['genre'].count()\n",
    "    # отсортируем результат по убыванию (чтобы в начале Series оказались самые популярные жанры)\n",
    "    genre_df_sorted = genre_df_grouped.sort_values(ascending = False)\n",
    "    # вернём Series с 10 самыми популярными жанрами в указанный отрезок времени заданного дня\n",
    "    return genre_df_sorted[:10]"
   ]
  },
  {
   "cell_type": "markdown",
   "metadata": {
    "deletable": false,
    "editable": false,
    "id": "la2s2_PF_Zcu",
    "tags": [
     "start_task"
    ]
   },
   "source": [
    "**Задание 25**\n",
    "\n",
    "\n",
    "Cравните результаты функции `genre_weekday()` для Москвы и Санкт-Петербурга в понедельник утром (с 7:00 до 11:00) и в пятницу вечером (с 17:00 до 23:00):"
   ]
  },
  {
   "cell_type": "code",
   "execution_count": 376,
   "metadata": {
    "deletable": false,
    "id": "yz7itPUQ_Zcu"
   },
   "outputs": [
    {
     "data": {
      "text/plain": [
       "genre\n",
       "pop            781\n",
       "dance          549\n",
       "electronic     480\n",
       "rock           474\n",
       "hiphop         286\n",
       "ruspop         186\n",
       "world          181\n",
       "rusrap         175\n",
       "alternative    164\n",
       "unknown        161\n",
       "Name: genre, dtype: int64"
      ]
     },
     "execution_count": 376,
     "metadata": {},
     "output_type": "execute_result"
    }
   ],
   "source": [
    "genre_weekday(moscow_general, 'Monday', '07:00', '11:00')"
   ]
  },
  {
   "cell_type": "code",
   "execution_count": 377,
   "metadata": {
    "deletable": false,
    "id": "kwUcHPdy_Zcu"
   },
   "outputs": [
    {
     "data": {
      "text/plain": [
       "genre\n",
       "pop            218\n",
       "dance          182\n",
       "rock           162\n",
       "electronic     147\n",
       "hiphop          80\n",
       "ruspop          64\n",
       "alternative     58\n",
       "rusrap          55\n",
       "jazz            44\n",
       "classical       40\n",
       "Name: genre, dtype: int64"
      ]
     },
     "execution_count": 377,
     "metadata": {},
     "output_type": "execute_result"
    }
   ],
   "source": [
    "genre_weekday(spb_general, 'Monday', '07:00', '11:00')"
   ]
  },
  {
   "cell_type": "code",
   "execution_count": 378,
   "metadata": {
    "deletable": false,
    "id": "EzXVRE1o_Zcu"
   },
   "outputs": [
    {
     "data": {
      "text/plain": [
       "genre\n",
       "pop            713\n",
       "rock           517\n",
       "dance          495\n",
       "electronic     482\n",
       "hiphop         273\n",
       "world          208\n",
       "ruspop         170\n",
       "alternative    163\n",
       "classical      163\n",
       "rusrap         142\n",
       "Name: genre, dtype: int64"
      ]
     },
     "execution_count": 378,
     "metadata": {},
     "output_type": "execute_result"
    }
   ],
   "source": [
    "genre_weekday(moscow_general, 'Friday', '17:00', '23:00')"
   ]
  },
  {
   "cell_type": "code",
   "execution_count": 379,
   "metadata": {
    "deletable": false,
    "id": "JZaEKu5v_Zcu"
   },
   "outputs": [
    {
     "data": {
      "text/plain": [
       "genre\n",
       "pop            256\n",
       "electronic     216\n",
       "rock           216\n",
       "dance          210\n",
       "hiphop          97\n",
       "alternative     63\n",
       "jazz            61\n",
       "classical       60\n",
       "rusrap          59\n",
       "world           54\n",
       "Name: genre, dtype: int64"
      ]
     },
     "execution_count": 379,
     "metadata": {},
     "output_type": "execute_result"
    }
   ],
   "source": [
    "genre_weekday(spb_general, 'Friday', '17:00', '23:00')"
   ]
  },
  {
   "cell_type": "markdown",
   "metadata": {
    "deletable": false,
    "editable": false,
    "id": "wrCe4MNX_Zcu"
   },
   "source": [
    "**Выводы**\n",
    "\n",
    "Если сравнить топ-10 жанров в понедельник утром, можно сделать такие выводы:\n",
    "\n",
    "1. В Москве и Петербурге слушают похожую музыку. Единственное различие — в московский рейтинг вошёл жанр “world”, а в петербургский — джаз и классика.\n",
    "\n",
    "2. В Москве пропущенных значений оказалось так много, что значение `'unknown'` заняло десятое место среди самых популярных жанров. Значит, пропущенные значения занимают существенную долю в данных и угрожают достоверности исследования.\n",
    "\n",
    "Вечер пятницы не меняет эту картину. Некоторые жанры поднимаются немного выше, другие спускаются, но в целом топ-10 остаётся тем же самым.\n",
    "\n",
    "Таким образом, вторая гипотеза подтвердилась лишь частично:\n",
    "* Пользователи слушают похожую музыку в начале недели и в конце.\n",
    "* Разница между Москвой и Петербургом не слишком выражена. В Москве чаще слушают русскую популярную музыку, в Петербурге — джаз.\n",
    "\n",
    "Однако пропуски в данных ставят под сомнение этот результат. В Москве их так много, что рейтинг топ-10 мог бы выглядеть иначе, если бы не утерянные  данные о жанрах."
   ]
  },
  {
   "cell_type": "markdown",
   "metadata": {
    "deletable": false,
    "editable": false,
    "id": "JolODAqr_Zcu"
   },
   "source": [
    "### Жанровые предпочтения в Москве и Петербурге\n",
    "\n",
    "Гипотеза: Петербург — столица рэпа, музыку этого жанра там слушают чаще, чем в Москве.  А Москва — город контрастов, в котором, тем не менее, преобладает поп-музыка."
   ]
  },
  {
   "cell_type": "markdown",
   "metadata": {
    "deletable": false,
    "editable": false,
    "id": "DlegSvaT_Zcu",
    "tags": [
     "start_task"
    ]
   },
   "source": [
    "**Задание 26**\n",
    "\n",
    "Сгруппируйте таблицу `moscow_general` по жанру и посчитайте прослушивания треков каждого жанра методом `count()`. Затем отсортируйте результат в порядке убывания и сохраните его в таблице `moscow_genres`."
   ]
  },
  {
   "cell_type": "code",
   "execution_count": 384,
   "metadata": {
    "deletable": false,
    "id": "r19lIPke_Zcu"
   },
   "outputs": [],
   "source": [
    "moscow_genres = moscow_general.groupby('genre')['genre'].count().sort_values(ascending = False)"
   ]
  },
  {
   "cell_type": "markdown",
   "metadata": {
    "deletable": false,
    "editable": false,
    "id": "6kMuomxTiIr8",
    "tags": [
     "start_task"
    ]
   },
   "source": [
    "**Задание 27**\n",
    "\n",
    "Выведите на экран первые десять строк `moscow_genres`:"
   ]
  },
  {
   "cell_type": "code",
   "execution_count": 385,
   "metadata": {
    "deletable": false,
    "id": "WhCSooF8_Zcv"
   },
   "outputs": [
    {
     "data": {
      "text/plain": [
       "genre\n",
       "pop            5892\n",
       "dance          4435\n",
       "rock           3965\n",
       "electronic     3786\n",
       "hiphop         2096\n",
       "classical      1616\n",
       "world          1432\n",
       "alternative    1379\n",
       "ruspop         1372\n",
       "rusrap         1161\n",
       "Name: genre, dtype: int64"
      ]
     },
     "execution_count": 385,
     "metadata": {},
     "output_type": "execute_result"
    }
   ],
   "source": [
    "moscow_genres.head(10)"
   ]
  },
  {
   "cell_type": "markdown",
   "metadata": {
    "deletable": false,
    "editable": false,
    "id": "cnPG2vnN_Zcv",
    "tags": [
     "start_task"
    ]
   },
   "source": [
    "**Задание 28**\n",
    "\n",
    "\n",
    "Теперь повторите то же и для Петербурга.\n",
    "\n",
    "Сгруппируйте таблицу `spb_general` по жанру. Посчитайте прослушивания треков каждого жанра. Результат отсортируйте в порядке убывания и сохраните в таблице `spb_genres`:\n"
   ]
  },
  {
   "cell_type": "code",
   "execution_count": 386,
   "metadata": {
    "deletable": false,
    "id": "gluLIpE7_Zcv"
   },
   "outputs": [],
   "source": [
    "spb_genres = spb_general.groupby('genre')['genre'].count().sort_values(ascending = False)"
   ]
  },
  {
   "cell_type": "markdown",
   "metadata": {
    "deletable": false,
    "editable": false,
    "id": "5Doha_ODgyQ8",
    "tags": [
     "start_task"
    ]
   },
   "source": [
    "**Задание 29**\n",
    "\n",
    "Выведите на экран первые десять строк `spb_genres`:"
   ]
  },
  {
   "cell_type": "code",
   "execution_count": 387,
   "metadata": {
    "deletable": false,
    "id": "uaGJHjVU_Zcv"
   },
   "outputs": [
    {
     "data": {
      "text/plain": [
       "genre\n",
       "pop            2431\n",
       "dance          1932\n",
       "rock           1879\n",
       "electronic     1736\n",
       "hiphop          960\n",
       "alternative     649\n",
       "classical       646\n",
       "rusrap          564\n",
       "ruspop          538\n",
       "world           515\n",
       "Name: genre, dtype: int64"
      ]
     },
     "execution_count": 387,
     "metadata": {},
     "output_type": "execute_result"
    }
   ],
   "source": [
    "spb_genres.head(10)"
   ]
  },
  {
   "cell_type": "markdown",
   "metadata": {
    "deletable": false,
    "editable": false,
    "id": "RY51YJYu_Zcv"
   },
   "source": [
    "**Выводы**"
   ]
  },
  {
   "cell_type": "markdown",
   "metadata": {
    "deletable": false,
    "editable": false,
    "id": "nVhnJEm__Zcv"
   },
   "source": [
    "Гипотеза частично подтвердилась:\n",
    "* Поп-музыка — самый популярный жанр в Москве, как и предполагала гипотеза. Более того, в топ-10 жанров встречается близкий жанр — русская популярная музыка.\n",
    "* Вопреки ожиданиям, рэп одинаково популярен в Москве и Петербурге.\n"
   ]
  },
  {
   "cell_type": "markdown",
   "metadata": {
    "deletable": false,
    "editable": false,
    "id": "ykKQ0N65_Zcv"
   },
   "source": [
    "## Итоги исследования"
   ]
  },
  {
   "cell_type": "markdown",
   "metadata": {
    "deletable": false,
    "editable": false,
    "id": "tjUwbHb3_Zcv"
   },
   "source": [
    "Вы проверили три гипотезы и установили:\n",
    "\n",
    "1. День недели по-разному влияет на активность пользователей в Москве и Петербурге.\n",
    "\n",
    "Первая гипотеза полностью подтвердилась.\n",
    "\n",
    "2. Музыкальные предпочтения не сильно меняются в течение недели — будь то Москва или Петербург. Небольшие различия заметны в начале недели, по понедельникам:\n",
    "* в Москве слушают музыку жанра “world”,\n",
    "* в Петербурге — джаз и классику.\n",
    "\n",
    "Таким образом, вторая гипотеза подтвердилась лишь отчасти. Этот результат мог оказаться иным, если бы не пропуски в данных.\n",
    "\n",
    "3. Во вкусах пользователей Москвы и Петербурга больше общего, чем различий. Вопреки ожиданиям, предпочтения жанров в Петербурге напоминают московские.\n",
    "\n",
    "Третья гипотеза не подтвердилась. Если различия в предпочтениях и существуют, на основной массе пользователей они незаметны.\n",
    "\n",
    "**На практике исследования содержат проверки статистических гипотез.**\n",
    "Из данных одного сервиса не всегда можно сделать вывод о всех жителях города.\n",
    "Проверки статистических гипотез покажут, насколько они достоверны, исходя из имеющихся данных.\n",
    "С методами проверок гипотез вы ещё познакомитесь в следующих темах."
   ]
  }
 ],
 "metadata": {
  "ExecuteTimeLog": [
   {
    "duration": 42,
    "start_time": "2023-12-20T08:03:12.422Z"
   },
   {
    "duration": 363,
    "start_time": "2023-12-20T08:03:18.497Z"
   },
   {
    "duration": 141,
    "start_time": "2023-12-20T08:03:25.345Z"
   },
   {
    "duration": 14,
    "start_time": "2023-12-20T08:03:28.293Z"
   },
   {
    "duration": 22,
    "start_time": "2023-12-20T08:03:31.419Z"
   },
   {
    "duration": 3,
    "start_time": "2023-12-20T08:10:04.482Z"
   },
   {
    "duration": 7,
    "start_time": "2023-12-20T08:13:39.878Z"
   },
   {
    "duration": 4,
    "start_time": "2023-12-20T08:13:56.351Z"
   },
   {
    "duration": 18,
    "start_time": "2023-12-20T08:14:45.251Z"
   },
   {
    "duration": 1245,
    "start_time": "2023-12-20T08:27:48.526Z"
   },
   {
    "duration": 1199,
    "start_time": "2023-12-20T08:31:00.995Z"
   },
   {
    "duration": 12,
    "start_time": "2023-12-20T08:32:54.010Z"
   },
   {
    "duration": 13,
    "start_time": "2023-12-20T08:33:04.665Z"
   },
   {
    "duration": 5,
    "start_time": "2023-12-20T08:33:36.565Z"
   },
   {
    "duration": 13,
    "start_time": "2023-12-20T08:34:02.394Z"
   },
   {
    "duration": 17,
    "start_time": "2023-12-20T08:35:37.974Z"
   },
   {
    "duration": 54,
    "start_time": "2023-12-20T08:36:34.557Z"
   },
   {
    "duration": 63,
    "start_time": "2023-12-20T08:37:17.989Z"
   },
   {
    "duration": 72,
    "start_time": "2023-12-20T08:38:49.879Z"
   },
   {
    "duration": 51,
    "start_time": "2023-12-20T08:39:46.216Z"
   },
   {
    "duration": 56,
    "start_time": "2023-12-20T08:39:48.703Z"
   },
   {
    "duration": 59,
    "start_time": "2023-12-20T08:41:13.015Z"
   },
   {
    "duration": 59,
    "start_time": "2023-12-20T08:46:29.527Z"
   },
   {
    "duration": 58,
    "start_time": "2023-12-20T08:46:31.826Z"
   },
   {
    "duration": 2,
    "start_time": "2023-12-20T08:48:13.667Z"
   },
   {
    "duration": 143,
    "start_time": "2023-12-20T08:48:13.670Z"
   },
   {
    "duration": 8,
    "start_time": "2023-12-20T08:48:13.815Z"
   },
   {
    "duration": 32,
    "start_time": "2023-12-20T08:48:13.824Z"
   },
   {
    "duration": 10,
    "start_time": "2023-12-20T08:48:13.857Z"
   },
   {
    "duration": 7,
    "start_time": "2023-12-20T08:48:13.868Z"
   },
   {
    "duration": 4,
    "start_time": "2023-12-20T08:48:13.876Z"
   },
   {
    "duration": 4,
    "start_time": "2023-12-20T08:48:13.881Z"
   },
   {
    "duration": 19,
    "start_time": "2023-12-20T08:48:13.886Z"
   },
   {
    "duration": 15,
    "start_time": "2023-12-20T08:48:13.906Z"
   },
   {
    "duration": 17,
    "start_time": "2023-12-20T08:48:13.922Z"
   },
   {
    "duration": 54,
    "start_time": "2023-12-20T08:48:13.940Z"
   },
   {
    "duration": 56,
    "start_time": "2023-12-20T08:48:14.001Z"
   },
   {
    "duration": 1,
    "start_time": "2023-12-20T08:48:14.060Z"
   },
   {
    "duration": 9,
    "start_time": "2023-12-20T08:48:14.063Z"
   },
   {
    "duration": 2,
    "start_time": "2023-12-20T08:48:14.074Z"
   },
   {
    "duration": 3,
    "start_time": "2023-12-20T08:48:14.077Z"
   },
   {
    "duration": 6,
    "start_time": "2023-12-20T08:48:14.081Z"
   },
   {
    "duration": 8,
    "start_time": "2023-12-20T08:48:14.088Z"
   },
   {
    "duration": 3,
    "start_time": "2023-12-20T08:48:14.101Z"
   },
   {
    "duration": 16,
    "start_time": "2023-12-20T08:48:14.105Z"
   },
   {
    "duration": 4,
    "start_time": "2023-12-20T08:48:14.122Z"
   },
   {
    "duration": 7,
    "start_time": "2023-12-20T08:48:14.127Z"
   },
   {
    "duration": 12,
    "start_time": "2023-12-20T08:48:14.135Z"
   },
   {
    "duration": 5,
    "start_time": "2023-12-20T08:48:14.148Z"
   },
   {
    "duration": 3,
    "start_time": "2023-12-20T08:48:14.154Z"
   },
   {
    "duration": 4,
    "start_time": "2023-12-20T08:48:14.158Z"
   },
   {
    "duration": 3,
    "start_time": "2023-12-20T08:48:14.163Z"
   },
   {
    "duration": 5,
    "start_time": "2023-12-20T08:48:14.167Z"
   },
   {
    "duration": 76,
    "start_time": "2023-12-20T08:48:14.173Z"
   },
   {
    "duration": 0,
    "start_time": "2023-12-20T08:48:14.250Z"
   },
   {
    "duration": 0,
    "start_time": "2023-12-20T08:48:14.251Z"
   },
   {
    "duration": 0,
    "start_time": "2023-12-20T08:48:14.252Z"
   },
   {
    "duration": 0,
    "start_time": "2023-12-20T08:48:14.253Z"
   },
   {
    "duration": 0,
    "start_time": "2023-12-20T08:48:14.253Z"
   },
   {
    "duration": 0,
    "start_time": "2023-12-20T08:48:14.254Z"
   },
   {
    "duration": 0,
    "start_time": "2023-12-20T08:48:14.255Z"
   },
   {
    "duration": 0,
    "start_time": "2023-12-20T08:48:14.256Z"
   },
   {
    "duration": 54,
    "start_time": "2023-12-20T08:53:30.419Z"
   },
   {
    "duration": 50,
    "start_time": "2023-12-20T08:55:59.335Z"
   },
   {
    "duration": 41,
    "start_time": "2023-12-20T09:00:30.215Z"
   },
   {
    "duration": 9,
    "start_time": "2023-12-20T09:18:58.244Z"
   },
   {
    "duration": 6,
    "start_time": "2023-12-20T09:20:36.835Z"
   },
   {
    "duration": 10,
    "start_time": "2023-12-20T09:21:03.550Z"
   },
   {
    "duration": 7,
    "start_time": "2023-12-20T09:21:07.170Z"
   },
   {
    "duration": 8,
    "start_time": "2023-12-20T09:22:10.769Z"
   },
   {
    "duration": 8,
    "start_time": "2023-12-20T09:22:35.082Z"
   },
   {
    "duration": 40,
    "start_time": "2023-12-20T09:22:39.196Z"
   },
   {
    "duration": 11,
    "start_time": "2023-12-20T09:41:12.578Z"
   },
   {
    "duration": 8,
    "start_time": "2023-12-20T09:44:35.053Z"
   },
   {
    "duration": 6,
    "start_time": "2023-12-20T09:45:38.033Z"
   },
   {
    "duration": 6,
    "start_time": "2023-12-20T09:45:53.333Z"
   },
   {
    "duration": 10,
    "start_time": "2023-12-20T09:48:49.409Z"
   },
   {
    "duration": 10,
    "start_time": "2023-12-20T09:49:22.147Z"
   },
   {
    "duration": 7,
    "start_time": "2023-12-20T09:49:46.599Z"
   },
   {
    "duration": 6,
    "start_time": "2023-12-20T09:50:02.217Z"
   },
   {
    "duration": 7,
    "start_time": "2023-12-20T09:50:19.615Z"
   },
   {
    "duration": 2,
    "start_time": "2023-12-20T09:51:34.645Z"
   },
   {
    "duration": 2,
    "start_time": "2023-12-20T09:52:09.066Z"
   },
   {
    "duration": 138,
    "start_time": "2023-12-20T09:52:09.070Z"
   },
   {
    "duration": 9,
    "start_time": "2023-12-20T09:52:09.209Z"
   },
   {
    "duration": 20,
    "start_time": "2023-12-20T09:52:09.220Z"
   },
   {
    "duration": 2,
    "start_time": "2023-12-20T09:52:09.241Z"
   },
   {
    "duration": 5,
    "start_time": "2023-12-20T09:52:09.244Z"
   },
   {
    "duration": 21,
    "start_time": "2023-12-20T09:52:09.250Z"
   },
   {
    "duration": 3,
    "start_time": "2023-12-20T09:52:09.272Z"
   },
   {
    "duration": 32,
    "start_time": "2023-12-20T09:52:09.276Z"
   },
   {
    "duration": 11,
    "start_time": "2023-12-20T09:52:09.312Z"
   },
   {
    "duration": 16,
    "start_time": "2023-12-20T09:52:09.324Z"
   },
   {
    "duration": 64,
    "start_time": "2023-12-20T09:52:09.341Z"
   },
   {
    "duration": 48,
    "start_time": "2023-12-20T09:52:09.406Z"
   },
   {
    "duration": 62,
    "start_time": "2023-12-20T09:52:09.456Z"
   },
   {
    "duration": 39,
    "start_time": "2023-12-20T09:52:09.520Z"
   },
   {
    "duration": 12,
    "start_time": "2023-12-20T09:52:09.560Z"
   },
   {
    "duration": 60,
    "start_time": "2023-12-20T09:52:09.574Z"
   },
   {
    "duration": 5,
    "start_time": "2023-12-20T09:52:09.635Z"
   },
   {
    "duration": 16,
    "start_time": "2023-12-20T09:52:09.641Z"
   },
   {
    "duration": 1,
    "start_time": "2023-12-20T09:52:09.658Z"
   },
   {
    "duration": 3,
    "start_time": "2023-12-20T09:52:09.661Z"
   },
   {
    "duration": 8,
    "start_time": "2023-12-20T09:52:09.665Z"
   },
   {
    "duration": 3,
    "start_time": "2023-12-20T09:52:09.674Z"
   },
   {
    "duration": 6,
    "start_time": "2023-12-20T09:52:09.678Z"
   },
   {
    "duration": 4,
    "start_time": "2023-12-20T09:52:09.685Z"
   },
   {
    "duration": 11,
    "start_time": "2023-12-20T09:52:09.690Z"
   },
   {
    "duration": 2,
    "start_time": "2023-12-20T09:52:09.703Z"
   },
   {
    "duration": 29,
    "start_time": "2023-12-20T09:52:09.708Z"
   },
   {
    "duration": 9,
    "start_time": "2023-12-20T09:52:09.738Z"
   },
   {
    "duration": 5,
    "start_time": "2023-12-20T09:52:09.748Z"
   },
   {
    "duration": 91,
    "start_time": "2023-12-20T09:52:09.754Z"
   },
   {
    "duration": 0,
    "start_time": "2023-12-20T09:52:09.847Z"
   },
   {
    "duration": 0,
    "start_time": "2023-12-20T09:52:09.848Z"
   },
   {
    "duration": 0,
    "start_time": "2023-12-20T09:52:09.849Z"
   },
   {
    "duration": 0,
    "start_time": "2023-12-20T09:52:09.850Z"
   },
   {
    "duration": 0,
    "start_time": "2023-12-20T09:52:09.851Z"
   },
   {
    "duration": 0,
    "start_time": "2023-12-20T09:52:09.852Z"
   },
   {
    "duration": 0,
    "start_time": "2023-12-20T09:52:09.853Z"
   },
   {
    "duration": 0,
    "start_time": "2023-12-20T09:52:09.854Z"
   },
   {
    "duration": 7,
    "start_time": "2023-12-20T09:52:24.027Z"
   },
   {
    "duration": 3,
    "start_time": "2023-12-20T09:52:33.560Z"
   },
   {
    "duration": 3,
    "start_time": "2023-12-20T09:52:44.988Z"
   },
   {
    "duration": 157,
    "start_time": "2023-12-20T09:52:44.992Z"
   },
   {
    "duration": 8,
    "start_time": "2023-12-20T09:52:45.151Z"
   },
   {
    "duration": 43,
    "start_time": "2023-12-20T09:52:45.160Z"
   },
   {
    "duration": 3,
    "start_time": "2023-12-20T09:52:45.205Z"
   },
   {
    "duration": 18,
    "start_time": "2023-12-20T09:52:45.209Z"
   },
   {
    "duration": 5,
    "start_time": "2023-12-20T09:52:45.228Z"
   },
   {
    "duration": 6,
    "start_time": "2023-12-20T09:52:45.234Z"
   },
   {
    "duration": 18,
    "start_time": "2023-12-20T09:52:45.241Z"
   },
   {
    "duration": 18,
    "start_time": "2023-12-20T09:52:45.260Z"
   },
   {
    "duration": 35,
    "start_time": "2023-12-20T09:52:45.279Z"
   },
   {
    "duration": 68,
    "start_time": "2023-12-20T09:52:45.315Z"
   },
   {
    "duration": 52,
    "start_time": "2023-12-20T09:52:45.384Z"
   },
   {
    "duration": 44,
    "start_time": "2023-12-20T09:52:45.438Z"
   },
   {
    "duration": 39,
    "start_time": "2023-12-20T09:52:45.484Z"
   },
   {
    "duration": 21,
    "start_time": "2023-12-20T09:52:45.524Z"
   },
   {
    "duration": 37,
    "start_time": "2023-12-20T09:52:45.546Z"
   },
   {
    "duration": 5,
    "start_time": "2023-12-20T09:52:45.585Z"
   },
   {
    "duration": 11,
    "start_time": "2023-12-20T09:52:45.591Z"
   },
   {
    "duration": 9,
    "start_time": "2023-12-20T09:52:45.603Z"
   },
   {
    "duration": 24,
    "start_time": "2023-12-20T09:52:45.613Z"
   },
   {
    "duration": 22,
    "start_time": "2023-12-20T09:52:45.638Z"
   },
   {
    "duration": 17,
    "start_time": "2023-12-20T09:52:45.661Z"
   },
   {
    "duration": 25,
    "start_time": "2023-12-20T09:52:45.679Z"
   },
   {
    "duration": 23,
    "start_time": "2023-12-20T09:52:45.705Z"
   },
   {
    "duration": 8,
    "start_time": "2023-12-20T09:52:45.729Z"
   },
   {
    "duration": 22,
    "start_time": "2023-12-20T09:52:45.738Z"
   },
   {
    "duration": 25,
    "start_time": "2023-12-20T09:52:45.761Z"
   },
   {
    "duration": 28,
    "start_time": "2023-12-20T09:52:45.787Z"
   },
   {
    "duration": 82,
    "start_time": "2023-12-20T09:52:45.816Z"
   },
   {
    "duration": 0,
    "start_time": "2023-12-20T09:52:45.899Z"
   },
   {
    "duration": 0,
    "start_time": "2023-12-20T09:52:45.900Z"
   },
   {
    "duration": 0,
    "start_time": "2023-12-20T09:52:45.901Z"
   },
   {
    "duration": 0,
    "start_time": "2023-12-20T09:52:45.901Z"
   },
   {
    "duration": 0,
    "start_time": "2023-12-20T09:52:45.902Z"
   },
   {
    "duration": 0,
    "start_time": "2023-12-20T09:52:45.903Z"
   },
   {
    "duration": 0,
    "start_time": "2023-12-20T09:52:45.904Z"
   },
   {
    "duration": 0,
    "start_time": "2023-12-20T09:52:45.905Z"
   },
   {
    "duration": 6,
    "start_time": "2023-12-20T09:52:56.383Z"
   },
   {
    "duration": 16,
    "start_time": "2023-12-20T09:53:06.125Z"
   },
   {
    "duration": 6,
    "start_time": "2023-12-20T09:53:42.491Z"
   },
   {
    "duration": 2,
    "start_time": "2023-12-20T09:53:56.765Z"
   },
   {
    "duration": 140,
    "start_time": "2023-12-20T09:53:56.768Z"
   },
   {
    "duration": 8,
    "start_time": "2023-12-20T09:53:56.909Z"
   },
   {
    "duration": 50,
    "start_time": "2023-12-20T09:53:56.918Z"
   },
   {
    "duration": 12,
    "start_time": "2023-12-20T09:53:56.970Z"
   },
   {
    "duration": 8,
    "start_time": "2023-12-20T09:53:56.983Z"
   },
   {
    "duration": 35,
    "start_time": "2023-12-20T09:53:56.992Z"
   },
   {
    "duration": 4,
    "start_time": "2023-12-20T09:53:57.028Z"
   },
   {
    "duration": 23,
    "start_time": "2023-12-20T09:53:57.033Z"
   },
   {
    "duration": 13,
    "start_time": "2023-12-20T09:53:57.057Z"
   },
   {
    "duration": 19,
    "start_time": "2023-12-20T09:53:57.071Z"
   },
   {
    "duration": 74,
    "start_time": "2023-12-20T09:53:57.091Z"
   },
   {
    "duration": 50,
    "start_time": "2023-12-20T09:53:57.167Z"
   },
   {
    "duration": 45,
    "start_time": "2023-12-20T09:53:57.220Z"
   },
   {
    "duration": 52,
    "start_time": "2023-12-20T09:53:57.267Z"
   },
   {
    "duration": 8,
    "start_time": "2023-12-20T09:53:57.321Z"
   },
   {
    "duration": 47,
    "start_time": "2023-12-20T09:53:57.330Z"
   },
   {
    "duration": 10,
    "start_time": "2023-12-20T09:53:57.378Z"
   },
   {
    "duration": 13,
    "start_time": "2023-12-20T09:53:57.389Z"
   },
   {
    "duration": 2,
    "start_time": "2023-12-20T09:53:57.403Z"
   },
   {
    "duration": 21,
    "start_time": "2023-12-20T09:53:57.406Z"
   },
   {
    "duration": 9,
    "start_time": "2023-12-20T09:53:57.428Z"
   },
   {
    "duration": 15,
    "start_time": "2023-12-20T09:53:57.438Z"
   },
   {
    "duration": 19,
    "start_time": "2023-12-20T09:53:57.453Z"
   },
   {
    "duration": 8,
    "start_time": "2023-12-20T09:53:57.473Z"
   },
   {
    "duration": 7,
    "start_time": "2023-12-20T09:53:57.482Z"
   },
   {
    "duration": 9,
    "start_time": "2023-12-20T09:53:57.490Z"
   },
   {
    "duration": 6,
    "start_time": "2023-12-20T09:53:57.500Z"
   },
   {
    "duration": 5,
    "start_time": "2023-12-20T09:53:57.507Z"
   },
   {
    "duration": 73,
    "start_time": "2023-12-20T09:53:57.513Z"
   },
   {
    "duration": 0,
    "start_time": "2023-12-20T09:53:57.587Z"
   },
   {
    "duration": 0,
    "start_time": "2023-12-20T09:53:57.588Z"
   },
   {
    "duration": 0,
    "start_time": "2023-12-20T09:53:57.589Z"
   },
   {
    "duration": 0,
    "start_time": "2023-12-20T09:53:57.590Z"
   },
   {
    "duration": 0,
    "start_time": "2023-12-20T09:53:57.590Z"
   },
   {
    "duration": 0,
    "start_time": "2023-12-20T09:53:57.591Z"
   },
   {
    "duration": 0,
    "start_time": "2023-12-20T09:53:57.592Z"
   },
   {
    "duration": 0,
    "start_time": "2023-12-20T09:53:57.593Z"
   },
   {
    "duration": 9,
    "start_time": "2023-12-20T09:55:10.259Z"
   },
   {
    "duration": 2,
    "start_time": "2023-12-20T09:56:14.086Z"
   },
   {
    "duration": 143,
    "start_time": "2023-12-20T09:56:14.090Z"
   },
   {
    "duration": 8,
    "start_time": "2023-12-20T09:56:14.234Z"
   },
   {
    "duration": 21,
    "start_time": "2023-12-20T09:56:14.243Z"
   },
   {
    "duration": 2,
    "start_time": "2023-12-20T09:56:14.266Z"
   },
   {
    "duration": 7,
    "start_time": "2023-12-20T09:56:14.269Z"
   },
   {
    "duration": 16,
    "start_time": "2023-12-20T09:56:14.277Z"
   },
   {
    "duration": 8,
    "start_time": "2023-12-20T09:56:14.294Z"
   },
   {
    "duration": 21,
    "start_time": "2023-12-20T09:56:14.303Z"
   },
   {
    "duration": 13,
    "start_time": "2023-12-20T09:56:14.326Z"
   },
   {
    "duration": 17,
    "start_time": "2023-12-20T09:56:14.340Z"
   },
   {
    "duration": 59,
    "start_time": "2023-12-20T09:56:14.359Z"
   },
   {
    "duration": 49,
    "start_time": "2023-12-20T09:56:14.419Z"
   },
   {
    "duration": 51,
    "start_time": "2023-12-20T09:56:14.470Z"
   },
   {
    "duration": 35,
    "start_time": "2023-12-20T09:56:14.522Z"
   },
   {
    "duration": 9,
    "start_time": "2023-12-20T09:56:14.558Z"
   },
   {
    "duration": 51,
    "start_time": "2023-12-20T09:56:14.568Z"
   },
   {
    "duration": 10,
    "start_time": "2023-12-20T09:56:14.621Z"
   },
   {
    "duration": 15,
    "start_time": "2023-12-20T09:56:14.632Z"
   },
   {
    "duration": 20,
    "start_time": "2023-12-20T09:56:14.649Z"
   },
   {
    "duration": 51,
    "start_time": "2023-12-20T09:56:14.670Z"
   },
   {
    "duration": 8,
    "start_time": "2023-12-20T09:56:14.722Z"
   },
   {
    "duration": 14,
    "start_time": "2023-12-20T09:56:14.731Z"
   },
   {
    "duration": 3,
    "start_time": "2023-12-20T09:56:14.746Z"
   },
   {
    "duration": 6,
    "start_time": "2023-12-20T09:56:14.750Z"
   },
   {
    "duration": 4,
    "start_time": "2023-12-20T09:56:14.757Z"
   },
   {
    "duration": 3,
    "start_time": "2023-12-20T09:56:14.762Z"
   },
   {
    "duration": 7,
    "start_time": "2023-12-20T09:56:14.766Z"
   },
   {
    "duration": 16,
    "start_time": "2023-12-20T09:56:14.774Z"
   },
   {
    "duration": 82,
    "start_time": "2023-12-20T09:56:14.791Z"
   },
   {
    "duration": 0,
    "start_time": "2023-12-20T09:56:14.874Z"
   },
   {
    "duration": 0,
    "start_time": "2023-12-20T09:56:14.875Z"
   },
   {
    "duration": 0,
    "start_time": "2023-12-20T09:56:14.876Z"
   },
   {
    "duration": 0,
    "start_time": "2023-12-20T09:56:14.877Z"
   },
   {
    "duration": 0,
    "start_time": "2023-12-20T09:56:14.878Z"
   },
   {
    "duration": 0,
    "start_time": "2023-12-20T09:56:14.879Z"
   },
   {
    "duration": 0,
    "start_time": "2023-12-20T09:56:14.880Z"
   },
   {
    "duration": 0,
    "start_time": "2023-12-20T09:56:14.880Z"
   },
   {
    "duration": 7,
    "start_time": "2023-12-20T09:56:51.979Z"
   },
   {
    "duration": 2,
    "start_time": "2023-12-20T09:56:56.274Z"
   },
   {
    "duration": 137,
    "start_time": "2023-12-20T09:56:56.277Z"
   },
   {
    "duration": 9,
    "start_time": "2023-12-20T09:56:56.416Z"
   },
   {
    "duration": 21,
    "start_time": "2023-12-20T09:56:56.426Z"
   },
   {
    "duration": 2,
    "start_time": "2023-12-20T09:56:56.449Z"
   },
   {
    "duration": 4,
    "start_time": "2023-12-20T09:56:56.452Z"
   },
   {
    "duration": 18,
    "start_time": "2023-12-20T09:56:56.457Z"
   },
   {
    "duration": 3,
    "start_time": "2023-12-20T09:56:56.477Z"
   },
   {
    "duration": 29,
    "start_time": "2023-12-20T09:56:56.481Z"
   },
   {
    "duration": 13,
    "start_time": "2023-12-20T09:56:56.512Z"
   },
   {
    "duration": 17,
    "start_time": "2023-12-20T09:56:56.526Z"
   },
   {
    "duration": 59,
    "start_time": "2023-12-20T09:56:56.544Z"
   },
   {
    "duration": 49,
    "start_time": "2023-12-20T09:56:56.605Z"
   },
   {
    "duration": 56,
    "start_time": "2023-12-20T09:56:56.656Z"
   },
   {
    "duration": 35,
    "start_time": "2023-12-20T09:56:56.713Z"
   },
   {
    "duration": 8,
    "start_time": "2023-12-20T09:56:56.750Z"
   },
   {
    "duration": 46,
    "start_time": "2023-12-20T09:56:56.759Z"
   },
   {
    "duration": 2,
    "start_time": "2023-12-20T09:56:56.806Z"
   },
   {
    "duration": 12,
    "start_time": "2023-12-20T09:56:56.809Z"
   },
   {
    "duration": 2,
    "start_time": "2023-12-20T09:56:56.822Z"
   },
   {
    "duration": 8,
    "start_time": "2023-12-20T09:56:56.825Z"
   },
   {
    "duration": 3,
    "start_time": "2023-12-20T09:56:56.835Z"
   },
   {
    "duration": 10,
    "start_time": "2023-12-20T09:56:56.839Z"
   },
   {
    "duration": 2,
    "start_time": "2023-12-20T09:56:56.850Z"
   },
   {
    "duration": 7,
    "start_time": "2023-12-20T09:56:56.853Z"
   },
   {
    "duration": 3,
    "start_time": "2023-12-20T09:56:56.861Z"
   },
   {
    "duration": 5,
    "start_time": "2023-12-20T09:56:56.865Z"
   },
   {
    "duration": 12,
    "start_time": "2023-12-20T09:56:56.871Z"
   },
   {
    "duration": 8,
    "start_time": "2023-12-20T09:56:56.884Z"
   },
   {
    "duration": 65,
    "start_time": "2023-12-20T09:56:56.894Z"
   },
   {
    "duration": 0,
    "start_time": "2023-12-20T09:56:56.960Z"
   },
   {
    "duration": 0,
    "start_time": "2023-12-20T09:56:56.961Z"
   },
   {
    "duration": 0,
    "start_time": "2023-12-20T09:56:56.962Z"
   },
   {
    "duration": 0,
    "start_time": "2023-12-20T09:56:56.962Z"
   },
   {
    "duration": 0,
    "start_time": "2023-12-20T09:56:56.963Z"
   },
   {
    "duration": 0,
    "start_time": "2023-12-20T09:56:56.964Z"
   },
   {
    "duration": 0,
    "start_time": "2023-12-20T09:56:56.965Z"
   },
   {
    "duration": 0,
    "start_time": "2023-12-20T09:56:56.965Z"
   },
   {
    "duration": 2,
    "start_time": "2023-12-20T09:58:56.275Z"
   },
   {
    "duration": 151,
    "start_time": "2023-12-20T09:58:56.279Z"
   },
   {
    "duration": 9,
    "start_time": "2023-12-20T09:58:56.432Z"
   },
   {
    "duration": 42,
    "start_time": "2023-12-20T09:58:56.442Z"
   },
   {
    "duration": 25,
    "start_time": "2023-12-20T09:58:56.485Z"
   },
   {
    "duration": 21,
    "start_time": "2023-12-20T09:58:56.511Z"
   },
   {
    "duration": 22,
    "start_time": "2023-12-20T09:58:56.533Z"
   },
   {
    "duration": 13,
    "start_time": "2023-12-20T09:58:56.556Z"
   },
   {
    "duration": 29,
    "start_time": "2023-12-20T09:58:56.571Z"
   },
   {
    "duration": 16,
    "start_time": "2023-12-20T09:58:56.601Z"
   },
   {
    "duration": 32,
    "start_time": "2023-12-20T09:58:56.618Z"
   },
   {
    "duration": 64,
    "start_time": "2023-12-20T09:58:56.651Z"
   },
   {
    "duration": 54,
    "start_time": "2023-12-20T09:58:56.717Z"
   },
   {
    "duration": 58,
    "start_time": "2023-12-20T09:58:56.772Z"
   },
   {
    "duration": 37,
    "start_time": "2023-12-20T09:58:56.831Z"
   },
   {
    "duration": 16,
    "start_time": "2023-12-20T09:58:56.869Z"
   },
   {
    "duration": 46,
    "start_time": "2023-12-20T09:58:56.887Z"
   },
   {
    "duration": 11,
    "start_time": "2023-12-20T09:58:56.934Z"
   },
   {
    "duration": 7,
    "start_time": "2023-12-20T09:58:56.947Z"
   },
   {
    "duration": 0,
    "start_time": "2023-12-20T09:58:56.955Z"
   },
   {
    "duration": 0,
    "start_time": "2023-12-20T09:58:56.957Z"
   },
   {
    "duration": 0,
    "start_time": "2023-12-20T09:58:56.958Z"
   },
   {
    "duration": 0,
    "start_time": "2023-12-20T09:58:56.959Z"
   },
   {
    "duration": 0,
    "start_time": "2023-12-20T09:58:56.960Z"
   },
   {
    "duration": 0,
    "start_time": "2023-12-20T09:58:56.961Z"
   },
   {
    "duration": 0,
    "start_time": "2023-12-20T09:58:56.962Z"
   },
   {
    "duration": 0,
    "start_time": "2023-12-20T09:58:56.962Z"
   },
   {
    "duration": 0,
    "start_time": "2023-12-20T09:58:56.963Z"
   },
   {
    "duration": 0,
    "start_time": "2023-12-20T09:58:56.964Z"
   },
   {
    "duration": 0,
    "start_time": "2023-12-20T09:58:56.965Z"
   },
   {
    "duration": 0,
    "start_time": "2023-12-20T09:58:56.965Z"
   },
   {
    "duration": 0,
    "start_time": "2023-12-20T09:58:56.966Z"
   },
   {
    "duration": 0,
    "start_time": "2023-12-20T09:58:56.967Z"
   },
   {
    "duration": 0,
    "start_time": "2023-12-20T09:58:56.968Z"
   },
   {
    "duration": 0,
    "start_time": "2023-12-20T09:58:56.968Z"
   },
   {
    "duration": 0,
    "start_time": "2023-12-20T09:58:56.969Z"
   },
   {
    "duration": 0,
    "start_time": "2023-12-20T09:58:56.970Z"
   },
   {
    "duration": 0,
    "start_time": "2023-12-20T09:58:57.001Z"
   },
   {
    "duration": 11,
    "start_time": "2023-12-20T09:59:30.331Z"
   },
   {
    "duration": 2,
    "start_time": "2023-12-20T09:59:34.621Z"
   },
   {
    "duration": 136,
    "start_time": "2023-12-20T09:59:34.624Z"
   },
   {
    "duration": 7,
    "start_time": "2023-12-20T09:59:34.762Z"
   },
   {
    "duration": 21,
    "start_time": "2023-12-20T09:59:34.770Z"
   },
   {
    "duration": 9,
    "start_time": "2023-12-20T09:59:34.792Z"
   },
   {
    "duration": 3,
    "start_time": "2023-12-20T09:59:34.803Z"
   },
   {
    "duration": 5,
    "start_time": "2023-12-20T09:59:34.807Z"
   },
   {
    "duration": 4,
    "start_time": "2023-12-20T09:59:34.813Z"
   },
   {
    "duration": 19,
    "start_time": "2023-12-20T09:59:34.818Z"
   },
   {
    "duration": 12,
    "start_time": "2023-12-20T09:59:34.839Z"
   },
   {
    "duration": 51,
    "start_time": "2023-12-20T09:59:34.852Z"
   },
   {
    "duration": 59,
    "start_time": "2023-12-20T09:59:34.904Z"
   },
   {
    "duration": 65,
    "start_time": "2023-12-20T09:59:34.964Z"
   },
   {
    "duration": 46,
    "start_time": "2023-12-20T09:59:35.032Z"
   },
   {
    "duration": 44,
    "start_time": "2023-12-20T09:59:35.080Z"
   },
   {
    "duration": 8,
    "start_time": "2023-12-20T09:59:35.125Z"
   },
   {
    "duration": 43,
    "start_time": "2023-12-20T09:59:35.134Z"
   },
   {
    "duration": 2,
    "start_time": "2023-12-20T09:59:35.179Z"
   },
   {
    "duration": 23,
    "start_time": "2023-12-20T09:59:35.182Z"
   },
   {
    "duration": 2,
    "start_time": "2023-12-20T09:59:35.206Z"
   },
   {
    "duration": 4,
    "start_time": "2023-12-20T09:59:35.209Z"
   },
   {
    "duration": 3,
    "start_time": "2023-12-20T09:59:35.214Z"
   },
   {
    "duration": 4,
    "start_time": "2023-12-20T09:59:35.218Z"
   },
   {
    "duration": 4,
    "start_time": "2023-12-20T09:59:35.223Z"
   },
   {
    "duration": 5,
    "start_time": "2023-12-20T09:59:35.228Z"
   },
   {
    "duration": 3,
    "start_time": "2023-12-20T09:59:35.234Z"
   },
   {
    "duration": 11,
    "start_time": "2023-12-20T09:59:35.238Z"
   },
   {
    "duration": 4,
    "start_time": "2023-12-20T09:59:35.250Z"
   },
   {
    "duration": 3,
    "start_time": "2023-12-20T09:59:35.255Z"
   },
   {
    "duration": 199,
    "start_time": "2023-12-20T09:59:35.259Z"
   },
   {
    "duration": 0,
    "start_time": "2023-12-20T09:59:35.459Z"
   },
   {
    "duration": 0,
    "start_time": "2023-12-20T09:59:35.460Z"
   },
   {
    "duration": 0,
    "start_time": "2023-12-20T09:59:35.461Z"
   },
   {
    "duration": 0,
    "start_time": "2023-12-20T09:59:35.462Z"
   },
   {
    "duration": 0,
    "start_time": "2023-12-20T09:59:35.463Z"
   },
   {
    "duration": 0,
    "start_time": "2023-12-20T09:59:35.463Z"
   },
   {
    "duration": 0,
    "start_time": "2023-12-20T09:59:35.464Z"
   },
   {
    "duration": 0,
    "start_time": "2023-12-20T09:59:35.465Z"
   },
   {
    "duration": 3,
    "start_time": "2023-12-20T10:10:27.674Z"
   },
   {
    "duration": 3,
    "start_time": "2023-12-20T10:12:50.432Z"
   },
   {
    "duration": 147,
    "start_time": "2023-12-20T10:12:50.436Z"
   },
   {
    "duration": 9,
    "start_time": "2023-12-20T10:12:50.584Z"
   },
   {
    "duration": 25,
    "start_time": "2023-12-20T10:12:50.594Z"
   },
   {
    "duration": 2,
    "start_time": "2023-12-20T10:12:50.621Z"
   },
   {
    "duration": 7,
    "start_time": "2023-12-20T10:12:50.624Z"
   },
   {
    "duration": 11,
    "start_time": "2023-12-20T10:12:50.633Z"
   },
   {
    "duration": 11,
    "start_time": "2023-12-20T10:12:50.645Z"
   },
   {
    "duration": 41,
    "start_time": "2023-12-20T10:12:50.656Z"
   },
   {
    "duration": 29,
    "start_time": "2023-12-20T10:12:50.698Z"
   },
   {
    "duration": 26,
    "start_time": "2023-12-20T10:12:50.728Z"
   },
   {
    "duration": 55,
    "start_time": "2023-12-20T10:12:50.755Z"
   },
   {
    "duration": 50,
    "start_time": "2023-12-20T10:12:50.812Z"
   },
   {
    "duration": 48,
    "start_time": "2023-12-20T10:12:50.865Z"
   },
   {
    "duration": 37,
    "start_time": "2023-12-20T10:12:50.915Z"
   },
   {
    "duration": 8,
    "start_time": "2023-12-20T10:12:50.953Z"
   },
   {
    "duration": 55,
    "start_time": "2023-12-20T10:12:50.962Z"
   },
   {
    "duration": 2,
    "start_time": "2023-12-20T10:12:51.018Z"
   },
   {
    "duration": 10,
    "start_time": "2023-12-20T10:12:51.021Z"
   },
   {
    "duration": 8,
    "start_time": "2023-12-20T10:12:51.032Z"
   },
   {
    "duration": 4,
    "start_time": "2023-12-20T10:12:51.042Z"
   },
   {
    "duration": 8,
    "start_time": "2023-12-20T10:12:51.047Z"
   },
   {
    "duration": 27,
    "start_time": "2023-12-20T10:12:51.056Z"
   },
   {
    "duration": 6,
    "start_time": "2023-12-20T10:12:51.084Z"
   },
   {
    "duration": 14,
    "start_time": "2023-12-20T10:12:51.092Z"
   },
   {
    "duration": 9,
    "start_time": "2023-12-20T10:12:51.108Z"
   },
   {
    "duration": 13,
    "start_time": "2023-12-20T10:12:51.118Z"
   },
   {
    "duration": 16,
    "start_time": "2023-12-20T10:12:51.132Z"
   },
   {
    "duration": 9,
    "start_time": "2023-12-20T10:12:51.149Z"
   },
   {
    "duration": 73,
    "start_time": "2023-12-20T10:12:51.160Z"
   },
   {
    "duration": 0,
    "start_time": "2023-12-20T10:12:51.234Z"
   },
   {
    "duration": 0,
    "start_time": "2023-12-20T10:12:51.235Z"
   },
   {
    "duration": 0,
    "start_time": "2023-12-20T10:12:51.235Z"
   },
   {
    "duration": 0,
    "start_time": "2023-12-20T10:12:51.236Z"
   },
   {
    "duration": 0,
    "start_time": "2023-12-20T10:12:51.237Z"
   },
   {
    "duration": 0,
    "start_time": "2023-12-20T10:12:51.238Z"
   },
   {
    "duration": 0,
    "start_time": "2023-12-20T10:12:51.239Z"
   },
   {
    "duration": 0,
    "start_time": "2023-12-20T10:12:51.240Z"
   },
   {
    "duration": 6,
    "start_time": "2023-12-20T10:13:32.758Z"
   },
   {
    "duration": 3,
    "start_time": "2023-12-20T10:14:25.275Z"
   },
   {
    "duration": 3,
    "start_time": "2023-12-20T10:14:59.691Z"
   },
   {
    "duration": 3,
    "start_time": "2023-12-20T10:15:06.136Z"
   },
   {
    "duration": 148,
    "start_time": "2023-12-20T10:15:06.140Z"
   },
   {
    "duration": 9,
    "start_time": "2023-12-20T10:15:06.290Z"
   },
   {
    "duration": 24,
    "start_time": "2023-12-20T10:15:06.311Z"
   },
   {
    "duration": 2,
    "start_time": "2023-12-20T10:15:06.337Z"
   },
   {
    "duration": 9,
    "start_time": "2023-12-20T10:15:06.340Z"
   },
   {
    "duration": 6,
    "start_time": "2023-12-20T10:15:06.350Z"
   },
   {
    "duration": 9,
    "start_time": "2023-12-20T10:15:06.357Z"
   },
   {
    "duration": 19,
    "start_time": "2023-12-20T10:15:06.367Z"
   },
   {
    "duration": 25,
    "start_time": "2023-12-20T10:15:06.387Z"
   },
   {
    "duration": 19,
    "start_time": "2023-12-20T10:15:06.413Z"
   },
   {
    "duration": 61,
    "start_time": "2023-12-20T10:15:06.433Z"
   },
   {
    "duration": 59,
    "start_time": "2023-12-20T10:15:06.495Z"
   },
   {
    "duration": 54,
    "start_time": "2023-12-20T10:15:06.557Z"
   },
   {
    "duration": 42,
    "start_time": "2023-12-20T10:15:06.613Z"
   },
   {
    "duration": 9,
    "start_time": "2023-12-20T10:15:06.656Z"
   },
   {
    "duration": 53,
    "start_time": "2023-12-20T10:15:06.667Z"
   },
   {
    "duration": 1,
    "start_time": "2023-12-20T10:15:06.722Z"
   },
   {
    "duration": 8,
    "start_time": "2023-12-20T10:15:06.724Z"
   },
   {
    "duration": 5,
    "start_time": "2023-12-20T10:15:06.733Z"
   },
   {
    "duration": 7,
    "start_time": "2023-12-20T10:15:06.740Z"
   },
   {
    "duration": 7,
    "start_time": "2023-12-20T10:15:06.748Z"
   },
   {
    "duration": 9,
    "start_time": "2023-12-20T10:15:06.756Z"
   },
   {
    "duration": 12,
    "start_time": "2023-12-20T10:15:06.766Z"
   },
   {
    "duration": 8,
    "start_time": "2023-12-20T10:15:06.779Z"
   },
   {
    "duration": 6,
    "start_time": "2023-12-20T10:15:06.788Z"
   },
   {
    "duration": 6,
    "start_time": "2023-12-20T10:15:06.795Z"
   },
   {
    "duration": 16,
    "start_time": "2023-12-20T10:15:06.807Z"
   },
   {
    "duration": 20,
    "start_time": "2023-12-20T10:15:06.824Z"
   },
   {
    "duration": 93,
    "start_time": "2023-12-20T10:15:06.845Z"
   },
   {
    "duration": 0,
    "start_time": "2023-12-20T10:15:06.939Z"
   },
   {
    "duration": 0,
    "start_time": "2023-12-20T10:15:06.941Z"
   },
   {
    "duration": 0,
    "start_time": "2023-12-20T10:15:06.942Z"
   },
   {
    "duration": 0,
    "start_time": "2023-12-20T10:15:06.943Z"
   },
   {
    "duration": 0,
    "start_time": "2023-12-20T10:15:06.944Z"
   },
   {
    "duration": 0,
    "start_time": "2023-12-20T10:15:06.945Z"
   },
   {
    "duration": 0,
    "start_time": "2023-12-20T10:15:06.946Z"
   },
   {
    "duration": 0,
    "start_time": "2023-12-20T10:15:06.947Z"
   },
   {
    "duration": 4,
    "start_time": "2023-12-20T10:15:24.656Z"
   },
   {
    "duration": 4,
    "start_time": "2023-12-20T10:15:51.517Z"
   },
   {
    "duration": 4,
    "start_time": "2023-12-20T10:17:07.811Z"
   },
   {
    "duration": 74,
    "start_time": "2023-12-20T10:18:06.098Z"
   },
   {
    "duration": 4,
    "start_time": "2023-12-20T10:18:12.421Z"
   },
   {
    "duration": 4,
    "start_time": "2023-12-20T10:20:16.590Z"
   },
   {
    "duration": 3,
    "start_time": "2023-12-20T10:22:20.848Z"
   },
   {
    "duration": 2,
    "start_time": "2023-12-20T10:23:25.653Z"
   },
   {
    "duration": 3,
    "start_time": "2023-12-20T10:24:21.251Z"
   },
   {
    "duration": 13,
    "start_time": "2023-12-20T10:25:48.833Z"
   },
   {
    "duration": 3,
    "start_time": "2023-12-20T10:25:55.885Z"
   },
   {
    "duration": 12,
    "start_time": "2023-12-20T10:25:59.155Z"
   },
   {
    "duration": 13,
    "start_time": "2023-12-20T10:26:27.969Z"
   },
   {
    "duration": 11,
    "start_time": "2023-12-20T10:27:00.569Z"
   },
   {
    "duration": 10,
    "start_time": "2023-12-20T10:27:36.301Z"
   },
   {
    "duration": 13,
    "start_time": "2023-12-20T10:27:53.621Z"
   },
   {
    "duration": 11,
    "start_time": "2023-12-20T10:28:02.850Z"
   },
   {
    "duration": 11,
    "start_time": "2023-12-20T10:28:06.031Z"
   },
   {
    "duration": 11,
    "start_time": "2023-12-20T10:32:37.036Z"
   },
   {
    "duration": 10,
    "start_time": "2023-12-20T10:34:27.331Z"
   },
   {
    "duration": 17,
    "start_time": "2023-12-20T10:34:41.383Z"
   },
   {
    "duration": 3,
    "start_time": "2023-12-20T10:39:38.798Z"
   },
   {
    "duration": 7,
    "start_time": "2023-12-20T10:39:46.744Z"
   },
   {
    "duration": 8,
    "start_time": "2023-12-20T10:42:27.545Z"
   },
   {
    "duration": 7,
    "start_time": "2023-12-20T10:43:03.022Z"
   },
   {
    "duration": 72,
    "start_time": "2023-12-20T10:53:27.155Z"
   },
   {
    "duration": 4,
    "start_time": "2023-12-20T10:53:44.154Z"
   },
   {
    "duration": 4,
    "start_time": "2023-12-20T10:56:22.438Z"
   },
   {
    "duration": 13,
    "start_time": "2023-12-20T11:01:45.344Z"
   },
   {
    "duration": 13,
    "start_time": "2023-12-20T11:05:03.686Z"
   },
   {
    "duration": 9,
    "start_time": "2023-12-20T11:05:31.850Z"
   },
   {
    "duration": 14,
    "start_time": "2023-12-20T11:06:26.676Z"
   },
   {
    "duration": 9,
    "start_time": "2023-12-20T11:06:29.933Z"
   },
   {
    "duration": 8,
    "start_time": "2023-12-20T11:19:44.303Z"
   },
   {
    "duration": 4,
    "start_time": "2023-12-20T11:20:20.507Z"
   },
   {
    "duration": 8,
    "start_time": "2023-12-20T11:20:53.824Z"
   },
   {
    "duration": 4,
    "start_time": "2023-12-20T11:20:58.507Z"
   },
   {
    "duration": 8,
    "start_time": "2023-12-20T11:22:06.189Z"
   },
   {
    "duration": 4,
    "start_time": "2023-12-20T11:22:16.692Z"
   },
   {
    "duration": 5,
    "start_time": "2023-12-20T11:22:40.160Z"
   },
   {
    "duration": 4,
    "start_time": "2023-12-20T11:25:58.599Z"
   },
   {
    "duration": 13,
    "start_time": "2023-12-20T11:54:09.423Z"
   },
   {
    "duration": 8,
    "start_time": "2023-12-20T11:54:16.720Z"
   },
   {
    "duration": 2,
    "start_time": "2023-12-20T11:54:57.676Z"
   },
   {
    "duration": 3,
    "start_time": "2023-12-20T11:57:54.286Z"
   },
   {
    "duration": 17,
    "start_time": "2023-12-20T11:58:08.152Z"
   },
   {
    "duration": 6,
    "start_time": "2023-12-20T11:58:31.115Z"
   },
   {
    "duration": 6,
    "start_time": "2023-12-20T11:58:39.235Z"
   },
   {
    "duration": 9,
    "start_time": "2023-12-20T11:58:56.524Z"
   },
   {
    "duration": 6,
    "start_time": "2023-12-20T11:59:08.149Z"
   },
   {
    "duration": 9,
    "start_time": "2023-12-20T11:59:29.932Z"
   },
   {
    "duration": 11,
    "start_time": "2023-12-20T11:59:40.329Z"
   },
   {
    "duration": 3,
    "start_time": "2023-12-20T11:59:56.466Z"
   },
   {
    "duration": 13,
    "start_time": "2023-12-20T11:59:58.565Z"
   }
  ],
  "colab": {
   "collapsed_sections": [
    "E0vqbgi9ay0H",
    "VUC88oWjTJw2"
   ],
   "provenance": []
  },
  "kernelspec": {
   "display_name": "Python 3 (ipykernel)",
   "language": "python",
   "name": "python3"
  },
  "language_info": {
   "codemirror_mode": {
    "name": "ipython",
    "version": 3
   },
   "file_extension": ".py",
   "mimetype": "text/x-python",
   "name": "python",
   "nbconvert_exporter": "python",
   "pygments_lexer": "ipython3",
   "version": "3.9.5"
  },
  "toc": {
   "base_numbering": 1,
   "nav_menu": {
    "height": "215px",
    "width": "403px"
   },
   "number_sections": true,
   "sideBar": true,
   "skip_h1_title": true,
   "title_cell": "Table of Contents",
   "title_sidebar": "Contents",
   "toc_cell": false,
   "toc_position": {
    "height": "calc(100% - 180px)",
    "left": "10px",
    "top": "150px",
    "width": "285.825px"
   },
   "toc_section_display": true,
   "toc_window_display": false
  }
 },
 "nbformat": 4,
 "nbformat_minor": 1
}
