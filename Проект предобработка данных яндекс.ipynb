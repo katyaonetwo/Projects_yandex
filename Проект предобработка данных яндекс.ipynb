{
 "cells": [
  {
   "cell_type": "markdown",
   "id": "6648c51c",
   "metadata": {},
   "source": [
    "<div style=\"border:solid steelblue 3px; padding: 20px; border-radius: 10px\">\n",
    "\n",
    "**Екатерина, привет!** 👋\n",
    "\n",
    "Меня зовут Алексей Манелюк, я буду проверять твой проект. В Яндекс Практикуме принято общаться на \"ты\", но если некомфортно - скажи и перейдем на \"Вы\".\n",
    "\n",
    "Моя основная цель - не указать на ошибки, а поделиться опытом и помочь в освоении анализа данных.\n",
    "\n",
    "В тетрадке ты увидишь мои комментарии, пожалуйста, не удаляй, не перемещай и не изменяй их. У комментариев могут быть приписки **V2**, **V3**, **V...**, которые соответствуют каждой версии проверки.\n",
    "\n",
    "Я буду использовать цветовую разметку:\n",
    "<p>\n",
    "<div class=\"alert-danger\" style=\"padding: 20px; border-radius: 10px\">\n",
    "<b>Комментарий ревьюера ❌</b>\n",
    "\n",
    "Так выделены критические замечания. Без их отработки я не смогу принять проект. </div>\n",
    "\n",
    "<div class=\"alert-warning\" style=\"padding: 20px; border-radius: 10px\">\n",
    "<b>  Комментарий ревьюера ⚠️</b>\n",
    "\n",
    "Так выделены небольшие замечания или полезные советы. Постарайся учесть их.</div>\n",
    "<p>\n",
    "<div class=\"alert-success\" style=\"padding: 20px; border-radius: 10px\">\n",
    "<b>Комментарий ревьюера ✔️</b>\n",
    "\n",
    "Так выделены правильные решения.</div>\n",
    "\n",
    "Предлагаю работать в диалоге: если что-то дорабатываешь или отвечаешь на мой комментарий - пиши об этом. Мне будет удобней, если ты выделишь свои комментарии:\n",
    "<p>\n",
    "<div class=\"alert-info\" style=\"padding: 20px; border-radius: 10px\">\n",
    "<b>Комментарий студента 💎</b>\n",
    "\n",
    "Здесь исправил.</div>\n",
    "\n",
    "Все это поможет мне быстрее принять твой проект.</div>"
   ]
  },
  {
   "cell_type": "markdown",
   "id": "c8513454",
   "metadata": {},
   "source": [
    "<div class=\"alert-info\" style=\"padding: 20px; border-radius: 10px\">\n",
    "<b>Комментарий студента 💎</b>\n",
    "\n",
    "Ты можешь написать свой комментарий, если скопируешь этот блок в ячейку Markdown.</div>"
   ]
  },
  {
   "cell_type": "markdown",
   "id": "386f2ae7",
   "metadata": {
    "deletable": false,
    "editable": false,
    "id": "386f2ae7"
   },
   "source": [
    "# Исследование надежности заемщиков\n"
   ]
  },
  {
   "cell_type": "markdown",
   "id": "ffe86f65",
   "metadata": {
    "deletable": false,
    "editable": false,
    "id": "ffe86f65"
   },
   "source": [
    "Во второй части проекта вы выполните шаги 3 и 4. Их вручную проверит ревьюер.\n",
    "Чтобы вам не пришлось писать код заново для шагов 1 и 2, мы добавили авторские решения в ячейки с кодом. \n",
    "\n"
   ]
  },
  {
   "cell_type": "markdown",
   "id": "aa6c268c",
   "metadata": {},
   "source": [
    "<div class=\"alert-success\" style=\"padding: 20px; border-radius: 10px\">\n",
    "<b>Комментарий ревьюера ✔️</b>\n",
    "\n",
    "Первая часть этого проекта проверяется автоматизрованно, но дам по ней пару советов - они пригодятся тебе в следующих проектах.\n",
    "\n",
    "📌 Начать проект стоит с описания (цели исследования, описание данных и краткий план работы), а каждый раздел закончить промежуточным выводом.\n",
    "\n",
    "Как правильно оформить проект ты можешь прочитать в материалах курса:\n",
    "\n",
    "`Полезные инструкции для учёбы - Оформление проекта - Рекомендации по выполнению проектов`"
   ]
  },
  {
   "cell_type": "markdown",
   "id": "26613308",
   "metadata": {
    "deletable": false,
    "editable": false,
    "id": "26613308"
   },
   "source": [
    "## Откройте таблицу и изучите общую информацию о данных"
   ]
  },
  {
   "cell_type": "markdown",
   "id": "3c9f838e",
   "metadata": {
    "deletable": false,
    "editable": false,
    "id": "3c9f838e"
   },
   "source": [
    "**Задание 1. Импортируйте библиотеку pandas. Считайте данные из csv-файла в датафрейм и сохраните в переменную `data`. Путь к файлу:**\n",
    "\n",
    "`/datasets/data.csv`"
   ]
  },
  {
   "cell_type": "code",
   "execution_count": 1,
   "id": "77a68a90",
   "metadata": {
    "deletable": false,
    "id": "77a68a90"
   },
   "outputs": [],
   "source": [
    "import pandas as pd\n",
    "\n",
    "try:\n",
    "    data = pd.read_csv('/datasets/data.csv')\n",
    "except:\n",
    "    data = pd.read_csv('https://code.s3.yandex.net/datasets/data.csv')"
   ]
  },
  {
   "cell_type": "markdown",
   "id": "45365635",
   "metadata": {
    "deletable": false,
    "editable": false,
    "id": "45365635"
   },
   "source": [
    "**Задание 2. Выведите первые 20 строчек датафрейма `data` на экран.**"
   ]
  },
  {
   "cell_type": "code",
   "execution_count": 2,
   "id": "b0451a9a",
   "metadata": {
    "deletable": false,
    "id": "b0451a9a",
    "outputId": "1a8f3ef2-d323-4ec2-ddf7-89670b5944c4"
   },
   "outputs": [
    {
     "data": {
      "text/html": [
       "<div>\n",
       "<style scoped>\n",
       "    .dataframe tbody tr th:only-of-type {\n",
       "        vertical-align: middle;\n",
       "    }\n",
       "\n",
       "    .dataframe tbody tr th {\n",
       "        vertical-align: top;\n",
       "    }\n",
       "\n",
       "    .dataframe thead th {\n",
       "        text-align: right;\n",
       "    }\n",
       "</style>\n",
       "<table border=\"1\" class=\"dataframe\">\n",
       "  <thead>\n",
       "    <tr style=\"text-align: right;\">\n",
       "      <th></th>\n",
       "      <th>children</th>\n",
       "      <th>days_employed</th>\n",
       "      <th>dob_years</th>\n",
       "      <th>education</th>\n",
       "      <th>education_id</th>\n",
       "      <th>family_status</th>\n",
       "      <th>family_status_id</th>\n",
       "      <th>gender</th>\n",
       "      <th>income_type</th>\n",
       "      <th>debt</th>\n",
       "      <th>total_income</th>\n",
       "      <th>purpose</th>\n",
       "    </tr>\n",
       "  </thead>\n",
       "  <tbody>\n",
       "    <tr>\n",
       "      <th>0</th>\n",
       "      <td>1</td>\n",
       "      <td>-8437.673028</td>\n",
       "      <td>42</td>\n",
       "      <td>высшее</td>\n",
       "      <td>0</td>\n",
       "      <td>женат / замужем</td>\n",
       "      <td>0</td>\n",
       "      <td>F</td>\n",
       "      <td>сотрудник</td>\n",
       "      <td>0</td>\n",
       "      <td>253875.639453</td>\n",
       "      <td>покупка жилья</td>\n",
       "    </tr>\n",
       "    <tr>\n",
       "      <th>1</th>\n",
       "      <td>1</td>\n",
       "      <td>-4024.803754</td>\n",
       "      <td>36</td>\n",
       "      <td>среднее</td>\n",
       "      <td>1</td>\n",
       "      <td>женат / замужем</td>\n",
       "      <td>0</td>\n",
       "      <td>F</td>\n",
       "      <td>сотрудник</td>\n",
       "      <td>0</td>\n",
       "      <td>112080.014102</td>\n",
       "      <td>приобретение автомобиля</td>\n",
       "    </tr>\n",
       "    <tr>\n",
       "      <th>2</th>\n",
       "      <td>0</td>\n",
       "      <td>-5623.422610</td>\n",
       "      <td>33</td>\n",
       "      <td>Среднее</td>\n",
       "      <td>1</td>\n",
       "      <td>женат / замужем</td>\n",
       "      <td>0</td>\n",
       "      <td>M</td>\n",
       "      <td>сотрудник</td>\n",
       "      <td>0</td>\n",
       "      <td>145885.952297</td>\n",
       "      <td>покупка жилья</td>\n",
       "    </tr>\n",
       "    <tr>\n",
       "      <th>3</th>\n",
       "      <td>3</td>\n",
       "      <td>-4124.747207</td>\n",
       "      <td>32</td>\n",
       "      <td>среднее</td>\n",
       "      <td>1</td>\n",
       "      <td>женат / замужем</td>\n",
       "      <td>0</td>\n",
       "      <td>M</td>\n",
       "      <td>сотрудник</td>\n",
       "      <td>0</td>\n",
       "      <td>267628.550329</td>\n",
       "      <td>дополнительное образование</td>\n",
       "    </tr>\n",
       "    <tr>\n",
       "      <th>4</th>\n",
       "      <td>0</td>\n",
       "      <td>340266.072047</td>\n",
       "      <td>53</td>\n",
       "      <td>среднее</td>\n",
       "      <td>1</td>\n",
       "      <td>гражданский брак</td>\n",
       "      <td>1</td>\n",
       "      <td>F</td>\n",
       "      <td>пенсионер</td>\n",
       "      <td>0</td>\n",
       "      <td>158616.077870</td>\n",
       "      <td>сыграть свадьбу</td>\n",
       "    </tr>\n",
       "    <tr>\n",
       "      <th>5</th>\n",
       "      <td>0</td>\n",
       "      <td>-926.185831</td>\n",
       "      <td>27</td>\n",
       "      <td>высшее</td>\n",
       "      <td>0</td>\n",
       "      <td>гражданский брак</td>\n",
       "      <td>1</td>\n",
       "      <td>M</td>\n",
       "      <td>компаньон</td>\n",
       "      <td>0</td>\n",
       "      <td>255763.565419</td>\n",
       "      <td>покупка жилья</td>\n",
       "    </tr>\n",
       "    <tr>\n",
       "      <th>6</th>\n",
       "      <td>0</td>\n",
       "      <td>-2879.202052</td>\n",
       "      <td>43</td>\n",
       "      <td>высшее</td>\n",
       "      <td>0</td>\n",
       "      <td>женат / замужем</td>\n",
       "      <td>0</td>\n",
       "      <td>F</td>\n",
       "      <td>компаньон</td>\n",
       "      <td>0</td>\n",
       "      <td>240525.971920</td>\n",
       "      <td>операции с жильем</td>\n",
       "    </tr>\n",
       "    <tr>\n",
       "      <th>7</th>\n",
       "      <td>0</td>\n",
       "      <td>-152.779569</td>\n",
       "      <td>50</td>\n",
       "      <td>СРЕДНЕЕ</td>\n",
       "      <td>1</td>\n",
       "      <td>женат / замужем</td>\n",
       "      <td>0</td>\n",
       "      <td>M</td>\n",
       "      <td>сотрудник</td>\n",
       "      <td>0</td>\n",
       "      <td>135823.934197</td>\n",
       "      <td>образование</td>\n",
       "    </tr>\n",
       "    <tr>\n",
       "      <th>8</th>\n",
       "      <td>2</td>\n",
       "      <td>-6929.865299</td>\n",
       "      <td>35</td>\n",
       "      <td>ВЫСШЕЕ</td>\n",
       "      <td>0</td>\n",
       "      <td>гражданский брак</td>\n",
       "      <td>1</td>\n",
       "      <td>F</td>\n",
       "      <td>сотрудник</td>\n",
       "      <td>0</td>\n",
       "      <td>95856.832424</td>\n",
       "      <td>на проведение свадьбы</td>\n",
       "    </tr>\n",
       "    <tr>\n",
       "      <th>9</th>\n",
       "      <td>0</td>\n",
       "      <td>-2188.756445</td>\n",
       "      <td>41</td>\n",
       "      <td>среднее</td>\n",
       "      <td>1</td>\n",
       "      <td>женат / замужем</td>\n",
       "      <td>0</td>\n",
       "      <td>M</td>\n",
       "      <td>сотрудник</td>\n",
       "      <td>0</td>\n",
       "      <td>144425.938277</td>\n",
       "      <td>покупка жилья для семьи</td>\n",
       "    </tr>\n",
       "    <tr>\n",
       "      <th>10</th>\n",
       "      <td>2</td>\n",
       "      <td>-4171.483647</td>\n",
       "      <td>36</td>\n",
       "      <td>высшее</td>\n",
       "      <td>0</td>\n",
       "      <td>женат / замужем</td>\n",
       "      <td>0</td>\n",
       "      <td>M</td>\n",
       "      <td>компаньон</td>\n",
       "      <td>0</td>\n",
       "      <td>113943.491460</td>\n",
       "      <td>покупка недвижимости</td>\n",
       "    </tr>\n",
       "    <tr>\n",
       "      <th>11</th>\n",
       "      <td>0</td>\n",
       "      <td>-792.701887</td>\n",
       "      <td>40</td>\n",
       "      <td>среднее</td>\n",
       "      <td>1</td>\n",
       "      <td>женат / замужем</td>\n",
       "      <td>0</td>\n",
       "      <td>F</td>\n",
       "      <td>сотрудник</td>\n",
       "      <td>0</td>\n",
       "      <td>77069.234271</td>\n",
       "      <td>покупка коммерческой недвижимости</td>\n",
       "    </tr>\n",
       "    <tr>\n",
       "      <th>12</th>\n",
       "      <td>0</td>\n",
       "      <td>NaN</td>\n",
       "      <td>65</td>\n",
       "      <td>среднее</td>\n",
       "      <td>1</td>\n",
       "      <td>гражданский брак</td>\n",
       "      <td>1</td>\n",
       "      <td>M</td>\n",
       "      <td>пенсионер</td>\n",
       "      <td>0</td>\n",
       "      <td>NaN</td>\n",
       "      <td>сыграть свадьбу</td>\n",
       "    </tr>\n",
       "    <tr>\n",
       "      <th>13</th>\n",
       "      <td>0</td>\n",
       "      <td>-1846.641941</td>\n",
       "      <td>54</td>\n",
       "      <td>неоконченное высшее</td>\n",
       "      <td>2</td>\n",
       "      <td>женат / замужем</td>\n",
       "      <td>0</td>\n",
       "      <td>F</td>\n",
       "      <td>сотрудник</td>\n",
       "      <td>0</td>\n",
       "      <td>130458.228857</td>\n",
       "      <td>приобретение автомобиля</td>\n",
       "    </tr>\n",
       "    <tr>\n",
       "      <th>14</th>\n",
       "      <td>0</td>\n",
       "      <td>-1844.956182</td>\n",
       "      <td>56</td>\n",
       "      <td>высшее</td>\n",
       "      <td>0</td>\n",
       "      <td>гражданский брак</td>\n",
       "      <td>1</td>\n",
       "      <td>F</td>\n",
       "      <td>компаньон</td>\n",
       "      <td>1</td>\n",
       "      <td>165127.911772</td>\n",
       "      <td>покупка жилой недвижимости</td>\n",
       "    </tr>\n",
       "    <tr>\n",
       "      <th>15</th>\n",
       "      <td>1</td>\n",
       "      <td>-972.364419</td>\n",
       "      <td>26</td>\n",
       "      <td>среднее</td>\n",
       "      <td>1</td>\n",
       "      <td>женат / замужем</td>\n",
       "      <td>0</td>\n",
       "      <td>F</td>\n",
       "      <td>сотрудник</td>\n",
       "      <td>0</td>\n",
       "      <td>116820.904450</td>\n",
       "      <td>строительство собственной недвижимости</td>\n",
       "    </tr>\n",
       "    <tr>\n",
       "      <th>16</th>\n",
       "      <td>0</td>\n",
       "      <td>-1719.934226</td>\n",
       "      <td>35</td>\n",
       "      <td>среднее</td>\n",
       "      <td>1</td>\n",
       "      <td>женат / замужем</td>\n",
       "      <td>0</td>\n",
       "      <td>F</td>\n",
       "      <td>сотрудник</td>\n",
       "      <td>0</td>\n",
       "      <td>289202.704229</td>\n",
       "      <td>недвижимость</td>\n",
       "    </tr>\n",
       "    <tr>\n",
       "      <th>17</th>\n",
       "      <td>0</td>\n",
       "      <td>-2369.999720</td>\n",
       "      <td>33</td>\n",
       "      <td>высшее</td>\n",
       "      <td>0</td>\n",
       "      <td>гражданский брак</td>\n",
       "      <td>1</td>\n",
       "      <td>M</td>\n",
       "      <td>сотрудник</td>\n",
       "      <td>0</td>\n",
       "      <td>90410.586745</td>\n",
       "      <td>строительство недвижимости</td>\n",
       "    </tr>\n",
       "    <tr>\n",
       "      <th>18</th>\n",
       "      <td>0</td>\n",
       "      <td>400281.136913</td>\n",
       "      <td>53</td>\n",
       "      <td>среднее</td>\n",
       "      <td>1</td>\n",
       "      <td>вдовец / вдова</td>\n",
       "      <td>2</td>\n",
       "      <td>F</td>\n",
       "      <td>пенсионер</td>\n",
       "      <td>0</td>\n",
       "      <td>56823.777243</td>\n",
       "      <td>на покупку подержанного автомобиля</td>\n",
       "    </tr>\n",
       "    <tr>\n",
       "      <th>19</th>\n",
       "      <td>0</td>\n",
       "      <td>-10038.818549</td>\n",
       "      <td>48</td>\n",
       "      <td>СРЕДНЕЕ</td>\n",
       "      <td>1</td>\n",
       "      <td>в разводе</td>\n",
       "      <td>3</td>\n",
       "      <td>F</td>\n",
       "      <td>сотрудник</td>\n",
       "      <td>0</td>\n",
       "      <td>242831.107982</td>\n",
       "      <td>на покупку своего автомобиля</td>\n",
       "    </tr>\n",
       "  </tbody>\n",
       "</table>\n",
       "</div>"
      ],
      "text/plain": [
       "    children  days_employed  dob_years            education  education_id  \\\n",
       "0          1   -8437.673028         42               высшее             0   \n",
       "1          1   -4024.803754         36              среднее             1   \n",
       "2          0   -5623.422610         33              Среднее             1   \n",
       "3          3   -4124.747207         32              среднее             1   \n",
       "4          0  340266.072047         53              среднее             1   \n",
       "5          0    -926.185831         27               высшее             0   \n",
       "6          0   -2879.202052         43               высшее             0   \n",
       "7          0    -152.779569         50              СРЕДНЕЕ             1   \n",
       "8          2   -6929.865299         35               ВЫСШЕЕ             0   \n",
       "9          0   -2188.756445         41              среднее             1   \n",
       "10         2   -4171.483647         36               высшее             0   \n",
       "11         0    -792.701887         40              среднее             1   \n",
       "12         0            NaN         65              среднее             1   \n",
       "13         0   -1846.641941         54  неоконченное высшее             2   \n",
       "14         0   -1844.956182         56               высшее             0   \n",
       "15         1    -972.364419         26              среднее             1   \n",
       "16         0   -1719.934226         35              среднее             1   \n",
       "17         0   -2369.999720         33               высшее             0   \n",
       "18         0  400281.136913         53              среднее             1   \n",
       "19         0  -10038.818549         48              СРЕДНЕЕ             1   \n",
       "\n",
       "       family_status  family_status_id gender income_type  debt  \\\n",
       "0    женат / замужем                 0      F   сотрудник     0   \n",
       "1    женат / замужем                 0      F   сотрудник     0   \n",
       "2    женат / замужем                 0      M   сотрудник     0   \n",
       "3    женат / замужем                 0      M   сотрудник     0   \n",
       "4   гражданский брак                 1      F   пенсионер     0   \n",
       "5   гражданский брак                 1      M   компаньон     0   \n",
       "6    женат / замужем                 0      F   компаньон     0   \n",
       "7    женат / замужем                 0      M   сотрудник     0   \n",
       "8   гражданский брак                 1      F   сотрудник     0   \n",
       "9    женат / замужем                 0      M   сотрудник     0   \n",
       "10   женат / замужем                 0      M   компаньон     0   \n",
       "11   женат / замужем                 0      F   сотрудник     0   \n",
       "12  гражданский брак                 1      M   пенсионер     0   \n",
       "13   женат / замужем                 0      F   сотрудник     0   \n",
       "14  гражданский брак                 1      F   компаньон     1   \n",
       "15   женат / замужем                 0      F   сотрудник     0   \n",
       "16   женат / замужем                 0      F   сотрудник     0   \n",
       "17  гражданский брак                 1      M   сотрудник     0   \n",
       "18    вдовец / вдова                 2      F   пенсионер     0   \n",
       "19         в разводе                 3      F   сотрудник     0   \n",
       "\n",
       "     total_income                                 purpose  \n",
       "0   253875.639453                           покупка жилья  \n",
       "1   112080.014102                 приобретение автомобиля  \n",
       "2   145885.952297                           покупка жилья  \n",
       "3   267628.550329              дополнительное образование  \n",
       "4   158616.077870                         сыграть свадьбу  \n",
       "5   255763.565419                           покупка жилья  \n",
       "6   240525.971920                       операции с жильем  \n",
       "7   135823.934197                             образование  \n",
       "8    95856.832424                   на проведение свадьбы  \n",
       "9   144425.938277                 покупка жилья для семьи  \n",
       "10  113943.491460                    покупка недвижимости  \n",
       "11   77069.234271       покупка коммерческой недвижимости  \n",
       "12            NaN                         сыграть свадьбу  \n",
       "13  130458.228857                 приобретение автомобиля  \n",
       "14  165127.911772              покупка жилой недвижимости  \n",
       "15  116820.904450  строительство собственной недвижимости  \n",
       "16  289202.704229                            недвижимость  \n",
       "17   90410.586745              строительство недвижимости  \n",
       "18   56823.777243      на покупку подержанного автомобиля  \n",
       "19  242831.107982            на покупку своего автомобиля  "
      ]
     },
     "execution_count": 2,
     "metadata": {},
     "output_type": "execute_result"
    }
   ],
   "source": [
    "data.head(20)"
   ]
  },
  {
   "cell_type": "markdown",
   "id": "0ed8f27f",
   "metadata": {
    "deletable": false,
    "editable": false,
    "id": "0ed8f27f"
   },
   "source": [
    "**Задание 3. Выведите основную информацию о датафрейме с помощью метода `info()`.**"
   ]
  },
  {
   "cell_type": "code",
   "execution_count": 3,
   "id": "ab3f863b",
   "metadata": {
    "deletable": false,
    "id": "ab3f863b",
    "outputId": "15376089-8dad-46c9-b520-c05248d43158"
   },
   "outputs": [
    {
     "name": "stdout",
     "output_type": "stream",
     "text": [
      "<class 'pandas.core.frame.DataFrame'>\n",
      "RangeIndex: 21525 entries, 0 to 21524\n",
      "Data columns (total 12 columns):\n",
      " #   Column            Non-Null Count  Dtype  \n",
      "---  ------            --------------  -----  \n",
      " 0   children          21525 non-null  int64  \n",
      " 1   days_employed     19351 non-null  float64\n",
      " 2   dob_years         21525 non-null  int64  \n",
      " 3   education         21525 non-null  object \n",
      " 4   education_id      21525 non-null  int64  \n",
      " 5   family_status     21525 non-null  object \n",
      " 6   family_status_id  21525 non-null  int64  \n",
      " 7   gender            21525 non-null  object \n",
      " 8   income_type       21525 non-null  object \n",
      " 9   debt              21525 non-null  int64  \n",
      " 10  total_income      19351 non-null  float64\n",
      " 11  purpose           21525 non-null  object \n",
      "dtypes: float64(2), int64(5), object(5)\n",
      "memory usage: 2.0+ MB\n"
     ]
    }
   ],
   "source": [
    "data.info()"
   ]
  },
  {
   "cell_type": "markdown",
   "id": "60e3e22d",
   "metadata": {
    "deletable": false,
    "editable": false,
    "id": "60e3e22d"
   },
   "source": [
    "## Предобработка данных"
   ]
  },
  {
   "cell_type": "markdown",
   "id": "03dc170c",
   "metadata": {
    "deletable": false,
    "editable": false,
    "id": "03dc170c"
   },
   "source": [
    "### Удаление пропусков"
   ]
  },
  {
   "cell_type": "markdown",
   "id": "a4f54eef",
   "metadata": {
    "deletable": false,
    "editable": false,
    "id": "a4f54eef"
   },
   "source": [
    "**Задание 4. Выведите количество пропущенных значений для каждого столбца. Используйте комбинацию двух методов.**"
   ]
  },
  {
   "cell_type": "code",
   "execution_count": 4,
   "id": "2dc372b2",
   "metadata": {
    "deletable": false,
    "id": "2dc372b2",
    "outputId": "81f4d817-781c-465c-ed15-91ce4446810d"
   },
   "outputs": [
    {
     "data": {
      "text/plain": [
       "children               0\n",
       "days_employed       2174\n",
       "dob_years              0\n",
       "education              0\n",
       "education_id           0\n",
       "family_status          0\n",
       "family_status_id       0\n",
       "gender                 0\n",
       "income_type            0\n",
       "debt                   0\n",
       "total_income        2174\n",
       "purpose                0\n",
       "dtype: int64"
      ]
     },
     "execution_count": 4,
     "metadata": {},
     "output_type": "execute_result"
    }
   ],
   "source": [
    "data.isna().sum()"
   ]
  },
  {
   "cell_type": "markdown",
   "id": "14f011b1",
   "metadata": {
    "deletable": false,
    "editable": false,
    "id": "14f011b1"
   },
   "source": [
    "**Задание 5. В двух столбцах есть пропущенные значения. Один из них — `days_employed`. Пропуски в этом столбце вы обработаете на следующем этапе. Другой столбец с пропущенными значениями — `total_income` — хранит данные о доходах. На сумму дохода сильнее всего влияет тип занятости, поэтому заполнить пропуски в этом столбце нужно медианным значением по каждому типу из столбца `income_type`. Например, у человека с типом занятости `сотрудник` пропуск в столбце `total_income` должен быть заполнен медианным доходом среди всех записей с тем же типом.**"
   ]
  },
  {
   "cell_type": "code",
   "execution_count": 5,
   "id": "bdabfb6e",
   "metadata": {
    "deletable": false,
    "id": "bdabfb6e"
   },
   "outputs": [],
   "source": [
    "for t in data['income_type'].unique():\n",
    "    data.loc[(data['income_type'] == t) & (data['total_income'].isna()), 'total_income'] = \\\n",
    "    data.loc[(data['income_type'] == t), 'total_income'].median()"
   ]
  },
  {
   "cell_type": "markdown",
   "id": "5be34059",
   "metadata": {
    "deletable": false,
    "editable": false,
    "id": "5be34059"
   },
   "source": [
    "### Обработка аномальных значений"
   ]
  },
  {
   "cell_type": "markdown",
   "id": "a87606cb",
   "metadata": {
    "deletable": false,
    "editable": false,
    "id": "a87606cb"
   },
   "source": [
    "**Задание 6. В данных могут встречаться артефакты (аномалии) — значения, которые не отражают действительность и появились по какой-то ошибке. таким артефактом будет отрицательное количество дней трудового стажа в столбце `days_employed`. Для реальных данных это нормально. Обработайте значения в этом столбце: замените все отрицательные значения положительными с помощью метода `abs()`.**"
   ]
  },
  {
   "cell_type": "code",
   "execution_count": 6,
   "id": "020c46cc",
   "metadata": {
    "deletable": false,
    "id": "020c46cc"
   },
   "outputs": [],
   "source": [
    "data['days_employed'] = data['days_employed'].abs()"
   ]
  },
  {
   "cell_type": "markdown",
   "id": "45538a3a",
   "metadata": {
    "deletable": false,
    "editable": false,
    "id": "45538a3a"
   },
   "source": [
    "**Задание 7. Для каждого типа занятости выведите медианное значение трудового стажа `days_employed` в днях.**"
   ]
  },
  {
   "cell_type": "code",
   "execution_count": 7,
   "id": "cd3e6328",
   "metadata": {
    "deletable": false,
    "id": "cd3e6328",
    "outputId": "801ef80e-522b-4668-f34e-565af7432bcf"
   },
   "outputs": [
    {
     "data": {
      "text/plain": [
       "income_type\n",
       "безработный        366413.652744\n",
       "в декрете            3296.759962\n",
       "госслужащий          2689.368353\n",
       "компаньон            1547.382223\n",
       "пенсионер          365213.306266\n",
       "предприниматель       520.848083\n",
       "сотрудник            1574.202821\n",
       "студент               578.751554\n",
       "Name: days_employed, dtype: float64"
      ]
     },
     "execution_count": 7,
     "metadata": {},
     "output_type": "execute_result"
    }
   ],
   "source": [
    "data.groupby('income_type')['days_employed'].agg('median')"
   ]
  },
  {
   "cell_type": "markdown",
   "id": "90c5f058",
   "metadata": {
    "deletable": false,
    "editable": false,
    "id": "90c5f058"
   },
   "source": [
    "У двух типов (безработные и пенсионеры) получатся аномально большие значения. Исправить такие значения сложно, поэтому оставьте их как есть."
   ]
  },
  {
   "cell_type": "markdown",
   "id": "9652e50d",
   "metadata": {
    "deletable": false,
    "editable": false,
    "id": "9652e50d"
   },
   "source": [
    "**Задание 8. Выведите перечень уникальных значений столбца `children`.**"
   ]
  },
  {
   "cell_type": "code",
   "execution_count": 8,
   "id": "dbb37b8e",
   "metadata": {
    "deletable": false,
    "id": "dbb37b8e",
    "outputId": "6975b15c-7f95-4697-d16d-a0c79b657b03"
   },
   "outputs": [
    {
     "data": {
      "text/plain": [
       "array([ 1,  0,  3,  2, -1,  4, 20,  5])"
      ]
     },
     "execution_count": 8,
     "metadata": {},
     "output_type": "execute_result"
    }
   ],
   "source": [
    "data['children'].unique()"
   ]
  },
  {
   "cell_type": "markdown",
   "id": "2b8b0715",
   "metadata": {
    "deletable": false,
    "editable": false,
    "id": "2b8b0715"
   },
   "source": [
    "**Задание 9. В столбце `children` есть два аномальных значения. Удалите строки, в которых встречаются такие аномальные значения из датафрейма `data`.**"
   ]
  },
  {
   "cell_type": "code",
   "execution_count": 9,
   "id": "20009df8",
   "metadata": {
    "deletable": false,
    "id": "20009df8"
   },
   "outputs": [],
   "source": [
    "data = data[(data['children'] != -1) & (data['children'] != 20)]"
   ]
  },
  {
   "cell_type": "markdown",
   "id": "8c6ac9f1",
   "metadata": {
    "deletable": false,
    "editable": false,
    "id": "8c6ac9f1"
   },
   "source": [
    "**Задание 10. Ещё раз выведите перечень уникальных значений столбца `children`, чтобы убедиться, что артефакты удалены.**"
   ]
  },
  {
   "cell_type": "code",
   "execution_count": 10,
   "id": "07337b81",
   "metadata": {
    "deletable": false,
    "id": "07337b81",
    "outputId": "b2097101-d49d-44d9-901b-32a65c9463d1"
   },
   "outputs": [
    {
     "data": {
      "text/plain": [
       "array([1, 0, 3, 2, 4, 5])"
      ]
     },
     "execution_count": 10,
     "metadata": {},
     "output_type": "execute_result"
    }
   ],
   "source": [
    "data['children'].unique()"
   ]
  },
  {
   "cell_type": "markdown",
   "id": "ee3f52d4",
   "metadata": {
    "deletable": false,
    "editable": false,
    "id": "ee3f52d4"
   },
   "source": [
    "### Удаление пропусков (продолжение)"
   ]
  },
  {
   "cell_type": "markdown",
   "id": "a700b0e4",
   "metadata": {
    "deletable": false,
    "editable": false,
    "id": "a700b0e4"
   },
   "source": [
    "**Задание 11. Заполните пропуски в столбце `days_employed` медианными значениями по каждого типа занятости `income_type`.**"
   ]
  },
  {
   "cell_type": "code",
   "execution_count": 11,
   "id": "61946b83",
   "metadata": {
    "deletable": false,
    "id": "61946b83"
   },
   "outputs": [],
   "source": [
    "for t in data['income_type'].unique():\n",
    "    data.loc[(data['income_type'] == t) & (data['days_employed'].isna()), 'days_employed'] = \\\n",
    "    data.loc[(data['income_type'] == t), 'days_employed'].median()"
   ]
  },
  {
   "cell_type": "markdown",
   "id": "550dcd9b",
   "metadata": {
    "deletable": false,
    "editable": false,
    "id": "550dcd9b"
   },
   "source": [
    "**Задание 12. Убедитесь, что все пропуски заполнены. Проверьте себя и ещё раз выведите количество пропущенных значений для каждого столбца с помощью двух методов.**"
   ]
  },
  {
   "cell_type": "code",
   "execution_count": 12,
   "id": "937c7014",
   "metadata": {
    "deletable": false,
    "id": "937c7014",
    "outputId": "8da1e4e1-358e-4e87-98c9-f261bce0a7b2"
   },
   "outputs": [
    {
     "data": {
      "text/plain": [
       "children            0\n",
       "days_employed       0\n",
       "dob_years           0\n",
       "education           0\n",
       "education_id        0\n",
       "family_status       0\n",
       "family_status_id    0\n",
       "gender              0\n",
       "income_type         0\n",
       "debt                0\n",
       "total_income        0\n",
       "purpose             0\n",
       "dtype: int64"
      ]
     },
     "execution_count": 12,
     "metadata": {},
     "output_type": "execute_result"
    }
   ],
   "source": [
    "data.isna().sum()"
   ]
  },
  {
   "cell_type": "markdown",
   "id": "d522e295",
   "metadata": {
    "deletable": false,
    "editable": false,
    "id": "d522e295"
   },
   "source": [
    "### Изменение типов данных"
   ]
  },
  {
   "cell_type": "markdown",
   "id": "c229c581",
   "metadata": {
    "deletable": false,
    "editable": false,
    "id": "c229c581"
   },
   "source": [
    "**Задание 13. Замените вещественный тип данных в столбце `total_income` на целочисленный с помощью метода `astype()`.**"
   ]
  },
  {
   "cell_type": "code",
   "execution_count": 13,
   "id": "31036462",
   "metadata": {
    "deletable": false,
    "id": "31036462"
   },
   "outputs": [],
   "source": [
    "data['total_income'] = data['total_income'].astype(int)"
   ]
  },
  {
   "cell_type": "markdown",
   "id": "b8e3d1d9",
   "metadata": {
    "deletable": false,
    "editable": false,
    "id": "b8e3d1d9"
   },
   "source": [
    "### Обработка дубликатов"
   ]
  },
  {
   "cell_type": "markdown",
   "id": "9be53c49",
   "metadata": {
    "deletable": false,
    "editable": false,
    "id": "9be53c49"
   },
   "source": [
    "**Задание 14. Обработайте неявные дубликаты в столбце `education`. В этом столбце есть одни и те же значения, но записанные по-разному: с использованием заглавных и строчных букв. Приведите их к нижнему регистру.**"
   ]
  },
  {
   "cell_type": "code",
   "execution_count": 14,
   "id": "d89e73e1",
   "metadata": {
    "deletable": false,
    "id": "d89e73e1"
   },
   "outputs": [],
   "source": [
    "data['education'] = data['education'].str.lower()"
   ]
  },
  {
   "cell_type": "markdown",
   "id": "01d4500e",
   "metadata": {
    "deletable": false,
    "editable": false,
    "id": "01d4500e"
   },
   "source": [
    "**Задание 15. Выведите на экран количество строк-дубликатов в данных. Если такие строки присутствуют, удалите их.**"
   ]
  },
  {
   "cell_type": "code",
   "execution_count": 15,
   "id": "e10efb23",
   "metadata": {
    "deletable": false,
    "id": "e10efb23",
    "outputId": "9684deba-1934-42d1-99e1-cda61740f822"
   },
   "outputs": [
    {
     "data": {
      "text/plain": [
       "71"
      ]
     },
     "execution_count": 15,
     "metadata": {},
     "output_type": "execute_result"
    }
   ],
   "source": [
    "data.duplicated().sum()"
   ]
  },
  {
   "cell_type": "code",
   "execution_count": 16,
   "id": "df853f20",
   "metadata": {
    "deletable": false,
    "id": "df853f20"
   },
   "outputs": [],
   "source": [
    "data = data.drop_duplicates()"
   ]
  },
  {
   "cell_type": "markdown",
   "id": "627be38f",
   "metadata": {
    "deletable": false,
    "editable": false,
    "id": "627be38f"
   },
   "source": [
    "### Категоризация данных"
   ]
  },
  {
   "cell_type": "markdown",
   "id": "4684c3e0",
   "metadata": {
    "deletable": false,
    "editable": false,
    "id": "4684c3e0"
   },
   "source": [
    "**Задание 16. На основании диапазонов, указанных ниже, создайте в датафрейме `data` столбец `total_income_category` с категориями:**\n",
    "\n",
    "- 0–30000 — `'E'`;\n",
    "- 30001–50000 — `'D'`;\n",
    "- 50001–200000 — `'C'`;\n",
    "- 200001–1000000 — `'B'`;\n",
    "- 1000001 и выше — `'A'`.\n",
    "\n",
    "\n",
    "**Например, кредитополучателю с доходом 25000 нужно назначить категорию `'E'`, а клиенту, получающему 235000, — `'B'`. Используйте собственную функцию с именем `categorize_income()` и метод `apply()`.**"
   ]
  },
  {
   "cell_type": "code",
   "execution_count": 17,
   "id": "78965238",
   "metadata": {
    "deletable": false,
    "id": "78965238"
   },
   "outputs": [],
   "source": [
    "def categorize_income(income):\n",
    "    try:\n",
    "        if 0 <= income <= 30000:\n",
    "            return 'E'\n",
    "        elif 30001 <= income <= 50000:\n",
    "            return 'D'\n",
    "        elif 50001 <= income <= 200000:\n",
    "            return 'C'\n",
    "        elif 200001 <= income <= 1000000:\n",
    "            return 'B'\n",
    "        elif income >= 1000001:\n",
    "            return 'A'\n",
    "    except:\n",
    "        pass"
   ]
  },
  {
   "cell_type": "code",
   "execution_count": 18,
   "id": "0980ada1",
   "metadata": {
    "deletable": false,
    "id": "0980ada1"
   },
   "outputs": [],
   "source": [
    "data['total_income_category'] = data['total_income'].apply(categorize_income)"
   ]
  },
  {
   "cell_type": "markdown",
   "id": "9917bba0",
   "metadata": {
    "deletable": false,
    "editable": false,
    "id": "9917bba0"
   },
   "source": [
    "**Задание 17. Выведите на экран перечень уникальных целей взятия кредита из столбца `purpose`.**"
   ]
  },
  {
   "cell_type": "code",
   "execution_count": 19,
   "id": "ee07b65e",
   "metadata": {
    "deletable": false,
    "id": "ee07b65e",
    "outputId": "673c12d9-7d7e-4ae0-9812-c622c89dd244"
   },
   "outputs": [
    {
     "data": {
      "text/plain": [
       "array(['покупка жилья', 'приобретение автомобиля',\n",
       "       'дополнительное образование', 'сыграть свадьбу',\n",
       "       'операции с жильем', 'образование', 'на проведение свадьбы',\n",
       "       'покупка жилья для семьи', 'покупка недвижимости',\n",
       "       'покупка коммерческой недвижимости', 'покупка жилой недвижимости',\n",
       "       'строительство собственной недвижимости', 'недвижимость',\n",
       "       'строительство недвижимости', 'на покупку подержанного автомобиля',\n",
       "       'на покупку своего автомобиля',\n",
       "       'операции с коммерческой недвижимостью',\n",
       "       'строительство жилой недвижимости', 'жилье',\n",
       "       'операции со своей недвижимостью', 'автомобили',\n",
       "       'заняться образованием', 'сделка с подержанным автомобилем',\n",
       "       'получение образования', 'автомобиль', 'свадьба',\n",
       "       'получение дополнительного образования', 'покупка своего жилья',\n",
       "       'операции с недвижимостью', 'получение высшего образования',\n",
       "       'свой автомобиль', 'сделка с автомобилем',\n",
       "       'профильное образование', 'высшее образование',\n",
       "       'покупка жилья для сдачи', 'на покупку автомобиля', 'ремонт жилью',\n",
       "       'заняться высшим образованием'], dtype=object)"
      ]
     },
     "execution_count": 19,
     "metadata": {},
     "output_type": "execute_result"
    }
   ],
   "source": [
    "data['purpose'].unique()"
   ]
  },
  {
   "cell_type": "markdown",
   "id": "52b79d56",
   "metadata": {
    "deletable": false,
    "editable": false,
    "id": "52b79d56"
   },
   "source": [
    "**Задание 18. Создайте функцию, которая на основании данных из столбца `purpose` сформирует новый столбец `purpose_category`, в который войдут следующие категории:**\n",
    "\n",
    "- `'операции с автомобилем'`,\n",
    "- `'операции с недвижимостью'`,\n",
    "- `'проведение свадьбы'`,\n",
    "- `'получение образования'`.\n",
    "\n",
    "**Например, если в столбце `purpose` находится подстрока `'на покупку автомобиля'`, то в столбце `purpose_category` должна появиться строка `'операции с автомобилем'`.**\n",
    "\n",
    "**Используйте собственную функцию с именем `categorize_purpose()` и метод `apply()`. Изучите данные в столбце `purpose` и определите, какие подстроки помогут вам правильно определить категорию.**"
   ]
  },
  {
   "cell_type": "code",
   "execution_count": 20,
   "id": "be41da5d",
   "metadata": {
    "deletable": false,
    "id": "be41da5d"
   },
   "outputs": [],
   "source": [
    "def categorize_purpose(row):\n",
    "    try:\n",
    "        if 'автом' in row:\n",
    "            return 'операции с автомобилем'\n",
    "        elif 'жил' in row or 'недвиж' in row:\n",
    "            return 'операции с недвижимостью'\n",
    "        elif 'свад' in row:\n",
    "            return 'проведение свадьбы'\n",
    "        elif 'образов' in row:\n",
    "            return 'получение образования'\n",
    "    except:\n",
    "        return 'нет категории'"
   ]
  },
  {
   "cell_type": "code",
   "execution_count": 21,
   "id": "94c4a19a",
   "metadata": {
    "deletable": false,
    "id": "94c4a19a"
   },
   "outputs": [],
   "source": [
    "data['purpose_category'] = data['purpose'].apply(categorize_purpose)"
   ]
  },
  {
   "cell_type": "markdown",
   "id": "3d596c34",
   "metadata": {
    "deletable": false,
    "editable": false,
    "id": "3d596c34"
   },
   "source": [
    "### Шаг 3. Исследуйте данные и ответьте на вопросы"
   ]
  },
  {
   "cell_type": "markdown",
   "id": "648db036",
   "metadata": {
    "deletable": false,
    "editable": false,
    "id": "648db036"
   },
   "source": [
    "#### 3.1 Есть ли зависимость между количеством детей и возвратом кредита в срок?"
   ]
  },
  {
   "cell_type": "code",
   "execution_count": 22,
   "id": "7fcff25e",
   "metadata": {
    "deletable": false,
    "id": "7fcff25e"
   },
   "outputs": [
    {
     "data": {
      "text/html": [
       "<div>\n",
       "<style scoped>\n",
       "    .dataframe tbody tr th:only-of-type {\n",
       "        vertical-align: middle;\n",
       "    }\n",
       "\n",
       "    .dataframe tbody tr th {\n",
       "        vertical-align: top;\n",
       "    }\n",
       "\n",
       "    .dataframe thead th {\n",
       "        text-align: right;\n",
       "    }\n",
       "</style>\n",
       "<table border=\"1\" class=\"dataframe\">\n",
       "  <thead>\n",
       "    <tr style=\"text-align: right;\">\n",
       "      <th></th>\n",
       "      <th>count</th>\n",
       "      <th>sum</th>\n",
       "      <th>mean</th>\n",
       "    </tr>\n",
       "    <tr>\n",
       "      <th>children</th>\n",
       "      <th></th>\n",
       "      <th></th>\n",
       "      <th></th>\n",
       "    </tr>\n",
       "  </thead>\n",
       "  <tbody>\n",
       "    <tr>\n",
       "      <th>4</th>\n",
       "      <td>41</td>\n",
       "      <td>4</td>\n",
       "      <td>0.097561</td>\n",
       "    </tr>\n",
       "    <tr>\n",
       "      <th>2</th>\n",
       "      <td>2052</td>\n",
       "      <td>194</td>\n",
       "      <td>0.094542</td>\n",
       "    </tr>\n",
       "    <tr>\n",
       "      <th>1</th>\n",
       "      <td>4808</td>\n",
       "      <td>444</td>\n",
       "      <td>0.092346</td>\n",
       "    </tr>\n",
       "    <tr>\n",
       "      <th>3</th>\n",
       "      <td>330</td>\n",
       "      <td>27</td>\n",
       "      <td>0.081818</td>\n",
       "    </tr>\n",
       "    <tr>\n",
       "      <th>0</th>\n",
       "      <td>14091</td>\n",
       "      <td>1063</td>\n",
       "      <td>0.075438</td>\n",
       "    </tr>\n",
       "    <tr>\n",
       "      <th>5</th>\n",
       "      <td>9</td>\n",
       "      <td>0</td>\n",
       "      <td>0.000000</td>\n",
       "    </tr>\n",
       "  </tbody>\n",
       "</table>\n",
       "</div>"
      ],
      "text/plain": [
       "          count   sum      mean\n",
       "children                       \n",
       "4            41     4  0.097561\n",
       "2          2052   194  0.094542\n",
       "1          4808   444  0.092346\n",
       "3           330    27  0.081818\n",
       "0         14091  1063  0.075438\n",
       "5             9     0  0.000000"
      ]
     },
     "execution_count": 22,
     "metadata": {},
     "output_type": "execute_result"
    }
   ],
   "source": [
    "#предварительно в 9 задании обработаны-удалены строки с аномальными значениями в столбце 'children' - отрицательные значения (-1) и значение, где количество детей равно 20 :)\n",
    "#data['children'].value_counts()\n",
    "\n",
    "data.groupby('children')['debt'].agg(['count', 'sum', 'mean'])\\\n",
    "    .sort_values(by = 'mean', ascending = False)"
   ]
  },
  {
   "cell_type": "markdown",
   "id": "135e0aff",
   "metadata": {},
   "source": [
    "<div class=\"alert-success\" style=\"padding: 20px; border-radius: 10px\">\n",
    "<b>Комментарий ревьюера ✔️</b>\n",
    "\n",
    "Это правильная сводная таблица, все нужные данные для сравнения категорий есть! 👍</div>"
   ]
  },
  {
   "cell_type": "markdown",
   "id": "fc0484b7",
   "metadata": {},
   "source": [
    "<div class=\"alert-warning\" style=\"padding: 20px; border-radius: 10px\">\n",
    "<b>Комментарий ревьюера ⚠️</b>\n",
    "\n",
    "📌 Сводную таблицу можно вывести, передав весь список агрегирующих функций: 👇\n",
    "</div>"
   ]
  },
  {
   "cell_type": "code",
   "execution_count": 23,
   "id": "d0563ebc",
   "metadata": {},
   "outputs": [
    {
     "data": {
      "text/html": [
       "<div>\n",
       "<style scoped>\n",
       "    .dataframe tbody tr th:only-of-type {\n",
       "        vertical-align: middle;\n",
       "    }\n",
       "\n",
       "    .dataframe tbody tr th {\n",
       "        vertical-align: top;\n",
       "    }\n",
       "\n",
       "    .dataframe thead th {\n",
       "        text-align: right;\n",
       "    }\n",
       "</style>\n",
       "<table border=\"1\" class=\"dataframe\">\n",
       "  <thead>\n",
       "    <tr style=\"text-align: right;\">\n",
       "      <th></th>\n",
       "      <th>count</th>\n",
       "      <th>sum</th>\n",
       "      <th>mean</th>\n",
       "    </tr>\n",
       "    <tr>\n",
       "      <th>children</th>\n",
       "      <th></th>\n",
       "      <th></th>\n",
       "      <th></th>\n",
       "    </tr>\n",
       "  </thead>\n",
       "  <tbody>\n",
       "    <tr>\n",
       "      <th>4</th>\n",
       "      <td>41</td>\n",
       "      <td>4</td>\n",
       "      <td>0.097561</td>\n",
       "    </tr>\n",
       "    <tr>\n",
       "      <th>2</th>\n",
       "      <td>2052</td>\n",
       "      <td>194</td>\n",
       "      <td>0.094542</td>\n",
       "    </tr>\n",
       "    <tr>\n",
       "      <th>1</th>\n",
       "      <td>4808</td>\n",
       "      <td>444</td>\n",
       "      <td>0.092346</td>\n",
       "    </tr>\n",
       "    <tr>\n",
       "      <th>3</th>\n",
       "      <td>330</td>\n",
       "      <td>27</td>\n",
       "      <td>0.081818</td>\n",
       "    </tr>\n",
       "    <tr>\n",
       "      <th>0</th>\n",
       "      <td>14091</td>\n",
       "      <td>1063</td>\n",
       "      <td>0.075438</td>\n",
       "    </tr>\n",
       "    <tr>\n",
       "      <th>5</th>\n",
       "      <td>9</td>\n",
       "      <td>0</td>\n",
       "      <td>0.000000</td>\n",
       "    </tr>\n",
       "  </tbody>\n",
       "</table>\n",
       "</div>"
      ],
      "text/plain": [
       "          count   sum      mean\n",
       "children                       \n",
       "4            41     4  0.097561\n",
       "2          2052   194  0.094542\n",
       "1          4808   444  0.092346\n",
       "3           330    27  0.081818\n",
       "0         14091  1063  0.075438\n",
       "5             9     0  0.000000"
      ]
     },
     "execution_count": 23,
     "metadata": {},
     "output_type": "execute_result"
    }
   ],
   "source": [
    "# Код ревьюера\n",
    "data.groupby('children')['debt'].agg(['count', 'sum', 'mean'])\\\n",
    "    .sort_values(by = 'mean', ascending = False)"
   ]
  },
  {
   "cell_type": "markdown",
   "id": "2eb9088e",
   "metadata": {
    "deletable": false,
    "id": "2eb9088e"
   },
   "source": [
    "**Вывод:** Зависимость между количеством детей и возвратом кредита в срок прослеживается из данных, представленных в таблице. Самыми исполнительными плательщиками по кредитам оказались семьи без детей. Так, чем больше детей в семье, тем значительнее доля просроченных задолжденностей. В то же время семьи с 3 детьми чаще платят в срок, чем люди с 1 и 2 детьми. Тем не менее, нельзя говорить о последовательной градации рейтинга от большего к меньшему: в топе просрочек семьи с 4 детьми, далее 2 и 1, соответственно. Семьи с 5 детьми в рейтинге фактически не учитываются, так как в предложенной выборке задолженности для них отсутствуют (доля просрочки по всем строкам равна 0)."
   ]
  },
  {
   "cell_type": "markdown",
   "id": "e6de9cec",
   "metadata": {},
   "source": [
    "<div class=\"alert-success\" style=\"padding: 20px; border-radius: 10px\">\n",
    "<b>Комментарий ревьюера ✔️</b>\n",
    "\n",
    "Ты верно отметила несбалансированность выборок, поэтому если сравнить только самые большие, сопоставимые по размеру выборки с 0, 1 и 2 детьми, можно сказать что заемщики с большим количеством детей чаще допускают просрочку.</div>"
   ]
  },
  {
   "cell_type": "markdown",
   "id": "d80b23b2",
   "metadata": {},
   "source": [
    "<div class=\"alert-info\" style=\"padding: 20px; border-radius: 10px\">\n",
    "<b>Комментарий студента 💎</b>\n",
    "\n",
    "\n",
    "Поправила агрегирующую функцию. </div>"
   ]
  },
  {
   "cell_type": "markdown",
   "id": "74c9b3a7",
   "metadata": {
    "deletable": false,
    "editable": false,
    "id": "74c9b3a7"
   },
   "source": [
    "#### 3.2 Есть ли зависимость между семейным положением и возвратом кредита в срок?"
   ]
  },
  {
   "cell_type": "code",
   "execution_count": 24,
   "id": "8098ab3b",
   "metadata": {
    "deletable": false,
    "id": "8098ab3b"
   },
   "outputs": [
    {
     "data": {
      "text/html": [
       "<div>\n",
       "<style scoped>\n",
       "    .dataframe tbody tr th:only-of-type {\n",
       "        vertical-align: middle;\n",
       "    }\n",
       "\n",
       "    .dataframe tbody tr th {\n",
       "        vertical-align: top;\n",
       "    }\n",
       "\n",
       "    .dataframe thead th {\n",
       "        text-align: right;\n",
       "    }\n",
       "</style>\n",
       "<table border=\"1\" class=\"dataframe\">\n",
       "  <thead>\n",
       "    <tr style=\"text-align: right;\">\n",
       "      <th></th>\n",
       "      <th>count</th>\n",
       "      <th>sum</th>\n",
       "      <th>mean</th>\n",
       "    </tr>\n",
       "    <tr>\n",
       "      <th>family_status</th>\n",
       "      <th></th>\n",
       "      <th></th>\n",
       "      <th></th>\n",
       "    </tr>\n",
       "  </thead>\n",
       "  <tbody>\n",
       "    <tr>\n",
       "      <th>Не женат / не замужем</th>\n",
       "      <td>2796</td>\n",
       "      <td>273</td>\n",
       "      <td>0.097639</td>\n",
       "    </tr>\n",
       "    <tr>\n",
       "      <th>гражданский брак</th>\n",
       "      <td>4134</td>\n",
       "      <td>385</td>\n",
       "      <td>0.093130</td>\n",
       "    </tr>\n",
       "    <tr>\n",
       "      <th>женат / замужем</th>\n",
       "      <td>12261</td>\n",
       "      <td>927</td>\n",
       "      <td>0.075606</td>\n",
       "    </tr>\n",
       "    <tr>\n",
       "      <th>в разводе</th>\n",
       "      <td>1189</td>\n",
       "      <td>84</td>\n",
       "      <td>0.070648</td>\n",
       "    </tr>\n",
       "    <tr>\n",
       "      <th>вдовец / вдова</th>\n",
       "      <td>951</td>\n",
       "      <td>63</td>\n",
       "      <td>0.066246</td>\n",
       "    </tr>\n",
       "  </tbody>\n",
       "</table>\n",
       "</div>"
      ],
      "text/plain": [
       "                       count  sum      mean\n",
       "family_status                              \n",
       "Не женат / не замужем   2796  273  0.097639\n",
       "гражданский брак        4134  385  0.093130\n",
       "женат / замужем        12261  927  0.075606\n",
       "в разводе               1189   84  0.070648\n",
       "вдовец / вдова           951   63  0.066246"
      ]
     },
     "execution_count": 24,
     "metadata": {},
     "output_type": "execute_result"
    }
   ],
   "source": [
    "data.groupby('family_status')['debt'].agg(['count', 'sum', 'mean'])\\\n",
    "    .sort_values(by = 'mean', ascending = False)"
   ]
  },
  {
   "cell_type": "markdown",
   "id": "c389ca63",
   "metadata": {
    "deletable": false,
    "id": "c389ca63"
   },
   "source": [
    "**Вывод:** Зависимость между семейным положением и кредитной исполнительностью прослеживается четко (см. таблицу). Самыми исполнительными плательщиками по кредиту оказались вдовцы/вдовы. Напротив, клиенты банка, не состоящие в браке, а также те, кто находится в гражданском браке, имеют максимальную долю просроченных платежей из всех категорий."
   ]
  },
  {
   "cell_type": "markdown",
   "id": "a6cfa354",
   "metadata": {},
   "source": [
    "<div class=\"alert-success\" style=\"padding: 20px; border-radius: 10px\">\n",
    "<b>Комментарий ревьюера ✔️</b>\n",
    "\n",
    "Да, если обобщить категории по отношению к браку, можно сказать, что состоящие или состоявшие в браке заемщики реже допускают просрочки.</div>"
   ]
  },
  {
   "cell_type": "markdown",
   "id": "9529de68",
   "metadata": {
    "deletable": false,
    "editable": false,
    "id": "9529de68"
   },
   "source": [
    "#### 3.3 Есть ли зависимость между уровнем дохода и возвратом кредита в срок?"
   ]
  },
  {
   "cell_type": "code",
   "execution_count": 25,
   "id": "8787f44a",
   "metadata": {
    "deletable": false,
    "id": "8787f44a"
   },
   "outputs": [
    {
     "data": {
      "text/html": [
       "<div>\n",
       "<style scoped>\n",
       "    .dataframe tbody tr th:only-of-type {\n",
       "        vertical-align: middle;\n",
       "    }\n",
       "\n",
       "    .dataframe tbody tr th {\n",
       "        vertical-align: top;\n",
       "    }\n",
       "\n",
       "    .dataframe thead th {\n",
       "        text-align: right;\n",
       "    }\n",
       "</style>\n",
       "<table border=\"1\" class=\"dataframe\">\n",
       "  <thead>\n",
       "    <tr style=\"text-align: right;\">\n",
       "      <th></th>\n",
       "      <th>count</th>\n",
       "      <th>sum</th>\n",
       "      <th>mean</th>\n",
       "    </tr>\n",
       "    <tr>\n",
       "      <th>total_income_category</th>\n",
       "      <th></th>\n",
       "      <th></th>\n",
       "      <th></th>\n",
       "    </tr>\n",
       "  </thead>\n",
       "  <tbody>\n",
       "    <tr>\n",
       "      <th>E</th>\n",
       "      <td>22</td>\n",
       "      <td>2</td>\n",
       "      <td>0.090909</td>\n",
       "    </tr>\n",
       "    <tr>\n",
       "      <th>C</th>\n",
       "      <td>15921</td>\n",
       "      <td>1353</td>\n",
       "      <td>0.084982</td>\n",
       "    </tr>\n",
       "    <tr>\n",
       "      <th>A</th>\n",
       "      <td>25</td>\n",
       "      <td>2</td>\n",
       "      <td>0.080000</td>\n",
       "    </tr>\n",
       "    <tr>\n",
       "      <th>B</th>\n",
       "      <td>5014</td>\n",
       "      <td>354</td>\n",
       "      <td>0.070602</td>\n",
       "    </tr>\n",
       "    <tr>\n",
       "      <th>D</th>\n",
       "      <td>349</td>\n",
       "      <td>21</td>\n",
       "      <td>0.060172</td>\n",
       "    </tr>\n",
       "  </tbody>\n",
       "</table>\n",
       "</div>"
      ],
      "text/plain": [
       "                       count   sum      mean\n",
       "total_income_category                       \n",
       "E                         22     2  0.090909\n",
       "C                      15921  1353  0.084982\n",
       "A                         25     2  0.080000\n",
       "B                       5014   354  0.070602\n",
       "D                        349    21  0.060172"
      ]
     },
     "execution_count": 25,
     "metadata": {},
     "output_type": "execute_result"
    }
   ],
   "source": [
    "# Ранее в 16 задании проводили категоризацию уровня дохода заемщиков: для этого добавили в датасет новый столбец 'total_income_category' и создали функцию 'categorize_income'.\n",
    "\n",
    "data['total_income_category'] = data['total_income'].apply(categorize_income)\n",
    "data['total_income_category'].value_counts()\n",
    "\n",
    "data.groupby('total_income_category')['debt'].agg(['count', 'sum', 'mean'])\\\n",
    "    .sort_values(by = 'mean', ascending = False)"
   ]
  },
  {
   "attachments": {
    "image.png": {
     "image/png": "[encoded data removed]"
    }
   },
   "cell_type": "markdown",
   "id": "6ebfe0f7",
   "metadata": {},
   "source": [
    "<div class=\"alert-danger\" style=\"padding: 20px; border-radius: 10px\">\n",
    "<b>Комментарий ревьюера ❌</b></h5>\n",
    "    \n",
    "<s>В этой ячеке код падает 👇\n",
    "\n",
    "![image.png](attachment:image.png)"
   ]
  },
  {
   "cell_type": "markdown",
   "id": "6dd14b57",
   "metadata": {
    "deletable": false,
    "id": "6dd14b57"
   },
   "source": [
    "**Вывод:** Исходя из данных в сводной талице, наименее исполнительными плательщиками по кредиту оказались люди с низким уровнем дохода(категория Е: 0-30 тысяч). В то же время снова необходимо отметить несбалансированность выборки, особенно в сравнении с такими многочичисленными категориями, как C (доход 50-200 тысяч) и B (доход 200 тысяч-1 млн). Последние занимают усредненную позицию в общем рейтинге с перевесом доли просрочек в сторону категории C. Уровень задолженностей категории D (доход 30-50 тысяч) некорректно ставить в один ряд со значениями категорий B и C ввиду объективной несбалансированности выборки. Тем не менее, можно отметить минимальную долю просрочек клиентов из категории D по кредитам в данном рейтинге."
   ]
  },
  {
   "cell_type": "markdown",
   "id": "d3e43f4f",
   "metadata": {},
   "source": [
    "<div class=\"alert-danger\" style=\"padding: 20px; border-radius: 10px\">\n",
    "<b>Комментарий ревьюера ❌</b></h5>\n",
    "\n",
    "<s>Для ответа на этот вопрос, нужно ориентироваться на шкалу доходов \"заказчика\" - это та категоризация, которую ты проводила в задании 16. Этот признак можно отнести к категориальным (принимает ограниченное число значений) - для него коэффициент корреляции Пирсона не будет показателен.\n",
    "\n",
    "Нужно будет вывести сводную таблицу и сравнить долю просрочки в каждой категории. Сравнивать имеет смысл опять же самые многочисленные выборки.</div>"
   ]
  },
  {
   "cell_type": "markdown",
   "id": "8c8dc9ae",
   "metadata": {},
   "source": [
    "<div class=\"alert-info\" style=\"padding: 20px; border-radius: 10px\">\n",
    "<b>Комментарий студента 💎</b>\n",
    "\n",
    "Исправила:) </div>"
   ]
  },
  {
   "cell_type": "markdown",
   "id": "a586ebea",
   "metadata": {},
   "source": [
    "<div class=\"alert-success\" style=\"border-radius: 10px; padding: 20px\">\n",
    "<b>Комментарий ревьюера V2 ✔️</b>\n",
    "\n",
    "Я бы сказал так, что если сравнить самые большие категории B и C, можно сказать, что заемщики с более высоким доходом платят кредиты вовремя лучше.</div>"
   ]
  },
  {
   "cell_type": "markdown",
   "id": "1dcc9b12",
   "metadata": {
    "deletable": false,
    "editable": false,
    "id": "1dcc9b12"
   },
   "source": [
    "#### 3.4 Как разные цели кредита влияют на его возврат в срок?"
   ]
  },
  {
   "cell_type": "code",
   "execution_count": 26,
   "id": "c602bc8b",
   "metadata": {
    "deletable": false,
    "id": "c602bc8b"
   },
   "outputs": [
    {
     "data": {
      "text/html": [
       "<div>\n",
       "<style scoped>\n",
       "    .dataframe tbody tr th:only-of-type {\n",
       "        vertical-align: middle;\n",
       "    }\n",
       "\n",
       "    .dataframe tbody tr th {\n",
       "        vertical-align: top;\n",
       "    }\n",
       "\n",
       "    .dataframe thead th {\n",
       "        text-align: right;\n",
       "    }\n",
       "</style>\n",
       "<table border=\"1\" class=\"dataframe\">\n",
       "  <thead>\n",
       "    <tr style=\"text-align: right;\">\n",
       "      <th></th>\n",
       "      <th>count</th>\n",
       "      <th>sum</th>\n",
       "      <th>mean</th>\n",
       "    </tr>\n",
       "    <tr>\n",
       "      <th>purpose_category</th>\n",
       "      <th></th>\n",
       "      <th></th>\n",
       "      <th></th>\n",
       "    </tr>\n",
       "  </thead>\n",
       "  <tbody>\n",
       "    <tr>\n",
       "      <th>операции с автомобилем</th>\n",
       "      <td>4279</td>\n",
       "      <td>400</td>\n",
       "      <td>0.093480</td>\n",
       "    </tr>\n",
       "    <tr>\n",
       "      <th>получение образования</th>\n",
       "      <td>3988</td>\n",
       "      <td>369</td>\n",
       "      <td>0.092528</td>\n",
       "    </tr>\n",
       "    <tr>\n",
       "      <th>проведение свадьбы</th>\n",
       "      <td>2313</td>\n",
       "      <td>183</td>\n",
       "      <td>0.079118</td>\n",
       "    </tr>\n",
       "    <tr>\n",
       "      <th>операции с недвижимостью</th>\n",
       "      <td>10751</td>\n",
       "      <td>780</td>\n",
       "      <td>0.072551</td>\n",
       "    </tr>\n",
       "  </tbody>\n",
       "</table>\n",
       "</div>"
      ],
      "text/plain": [
       "                          count  sum      mean\n",
       "purpose_category                              \n",
       "операции с автомобилем     4279  400  0.093480\n",
       "получение образования      3988  369  0.092528\n",
       "проведение свадьбы         2313  183  0.079118\n",
       "операции с недвижимостью  10751  780  0.072551"
      ]
     },
     "execution_count": 26,
     "metadata": {},
     "output_type": "execute_result"
    }
   ],
   "source": [
    "data.groupby('purpose_category')['debt'].agg(['count', 'sum', 'mean'])\\\n",
    "    .sort_values(by = 'mean', ascending = False)"
   ]
  },
  {
   "cell_type": "markdown",
   "id": "cf05ed63",
   "metadata": {
    "deletable": false,
    "id": "cf05ed63"
   },
   "source": [
    "**Вывод:** В результате исследования было установлено, что факт наличия просрочек по кредиту непосредственно зависит от целей его оформления. Из таблицы видим, что самыми исполнительными плательщиками являются лица, оформившие кредит в целях проведения операций с недвижимостью, а также в целях организации свадьбы. Хуже всего дела обстоят почти в равной степени как у заемщиков по операциям с авто, так и оказанию образовательных услуг."
   ]
  },
  {
   "cell_type": "markdown",
   "id": "292d2f52",
   "metadata": {},
   "source": [
    "<div class=\"alert-success\" style=\"padding: 20px; border-radius: 10px\">\n",
    "<b>Комментарий ревьюера ✔️</b>\n",
    "\n",
    "Всё правильно. 👌</div>"
   ]
  },
  {
   "cell_type": "markdown",
   "id": "46c1f10b",
   "metadata": {
    "deletable": false,
    "editable": false,
    "id": "46c1f10b"
   },
   "source": [
    "#### 3.5 Приведите возможные причины появления пропусков в исходных данных."
   ]
  },
  {
   "cell_type": "markdown",
   "id": "3697d2a9",
   "metadata": {
    "deletable": false,
    "id": "3697d2a9"
   },
   "source": [
    "*Ответ:*  Пропуски в данных могут быть связаны **с человеческим фактором**. Например, оператор банка не внес в систему размер дохода и стаж трудовой деятельности заемщика. Возможно, при более глубоком анализе получится обнаружить, что пропуски связаны с какой-то определенной категорией (например, заемщики по образовательным кредитам, которые не имеют стажа и дохода).\n",
    "\n",
    "Также причина пропуска может быть **технологической**: сбой работы базы данных при выгрузке, при внесении данных в базу, некорректная миграция данных в процессе переноса данных - их считывания, копирования, смене формата или записи."
   ]
  },
  {
   "cell_type": "markdown",
   "id": "3c38888a",
   "metadata": {},
   "source": [
    "<div class=\"alert-warning\" style=\"padding: 20px; border-radius: 10px\">\n",
    "<b>Комментарий ревьюера ⚠️</b>\n",
    "\n",
    "<s>Случайность или нет - это одна из категоризаций ошибок и пропусков. Давай попробуем дать примеры причин, которые могли привести к образованию пропусков?</div>"
   ]
  },
  {
   "cell_type": "markdown",
   "id": "721d4691",
   "metadata": {},
   "source": [
    "<div class=\"alert-info\" style=\"padding: 20px; border-radius: 10px\">\n",
    "<b>Комментарий студента 💎</b>\n",
    "\n",
    "\n",
    "Есть :) </div>"
   ]
  },
  {
   "cell_type": "markdown",
   "id": "25b49db8",
   "metadata": {},
   "source": [
    "<div class=\"alert-success\" style=\"border-radius: 10px; padding: 20px\">\n",
    "<b>Комментарий ревьюера V2 ✔️</b>\n",
    "\n",
    "Всё верно."
   ]
  },
  {
   "cell_type": "markdown",
   "id": "3137d257",
   "metadata": {
    "deletable": false,
    "editable": false,
    "id": "3137d257"
   },
   "source": [
    "#### 3.6 Объясните, почему заполнить пропуски медианным значением — лучшее решение для количественных переменных."
   ]
  },
  {
   "cell_type": "markdown",
   "id": "cf40012a",
   "metadata": {
    "deletable": false,
    "id": "cf40012a"
   },
   "source": [
    "*Ответ:* Медианное значение для количественной переменной более корректно характеризует данные в случае несоразмерности числового ряда значений переменной. Например, когда значениях встречаются одновременно очень большие и очень малые числа, среднее значение будет искажать репрезентативность данных в столбце."
   ]
  },
  {
   "cell_type": "markdown",
   "id": "3e04763a",
   "metadata": {},
   "source": [
    "<div class=\"alert-success\" style=\"padding: 20px; border-radius: 10px\">\n",
    "<b>Комментарий ревьюера ✔️</b>\n",
    "\n",
    "Верно, медиана менее чувствительна к выбросам, чем среднее значение.</div>"
   ]
  },
  {
   "cell_type": "markdown",
   "id": "57bc304e",
   "metadata": {
    "deletable": false,
    "editable": false,
    "id": "57bc304e"
   },
   "source": [
    "### Шаг 4: общий вывод."
   ]
  },
  {
   "cell_type": "markdown",
   "id": "1ab75d1c",
   "metadata": {
    "deletable": false,
    "id": "1ab75d1c"
   },
   "source": [
    "В процессе данного исследования был проведен анализ выборки текущей базы клиентов банка в целях выявления зависимостей между  данными клиентов и наличием просроченных задолженностей по кредитам.\n",
    "\n",
    "На этапе предобработки данных были устранены пропуски, дубликаты, аномалии и иные ошибки в исходном массиве данных.\n",
    "\n",
    "В рамках анализа были проверены следующие гипотезы:\n",
    "\n",
    "1. *Есть ли зависимость между количеством детей и возвратом кредита в срок?*\n",
    "\n",
    "Категория клиентов без детей оказалась самой многочисленной и процент задержек по кредиту самый низкий - 7.54%. Самый высокий процент задержек по оплатам оказался у клиентов с 2 детьми (9.45%). Необходимо отметить, что в рамках исследования не удалось оценить группы клиентов с 4 и 5 детьми - выборка оказалась слишком мала для анализа.\n",
    "\n",
    "2. *Есть ли зависимость между семейным положением и возвратом кредита в срок?*\n",
    "\n",
    "Меньше всего просрочек по кредитам оказалось у вдов/вдовцев (6.62%), больше всего - у клиентов, не состоящих в браке (9.76%). Самой массовой категорией являются клиенты в браке: процент просрочек по данной категории составляет 7.56%.\n",
    "\n",
    "3. *Есть ли зависимость между уровнем дохода и возвратом кредита в срок?*\n",
    "\n",
    "Меньше всего просрочек по кредитам выявили у клиентов с уровнем дохода от 30 тысяч до 50 тысяч дохода (6.02%), больше всего - у клиентов с уровнем дохода от 50 тысяч до 200 тысяч в месяц (8.50%). Эта же категория (от 50 тысяч до 200 тысяч) является наиболее массовой в выборке. В то же время необходимо учесть, что категории клиентов со значениями доходов ниже 30 тысяч или выше 1 млн. являются несбалансированными в общем рейтинге - поэтому сделать достоверные выводы о вероятности просрочек этих клиентов в текущих условиях невозможно.\n",
    "\n",
    "4. *Как разные цели кредита влияют на его возврат в срок?*\n",
    "\n",
    "Меньше всего просрочек по займам на недвижимость (7.26%) и организацию свадьбы (7,91%), больше всего по займам на операции с авто (9.35%). Самой массовой категорией клиентов банка являются займщики на операции с недвижимостью.\n",
    "\n",
    "Таким образом, все категории заемщиков находятся в зависимости с возвратом кредита в срок.\n",
    "\n",
    "На основании вышеизложенного можем представить портрет **идеального заемщика** банка: вдовец/вдова, не имеет детей, с доходом от 30 до 50 тысяч в месяц, оформивший кредит с целью проведения операций с недвижимостью.\n",
    "\n",
    "В свою очередь, портрет наиболее **рискового замещика**: семьянин с 2 детьми, не состоящий в браке, с уровнем дохода от 50 до 200 тысяч в месяц, оформивший кредит с целью проведения операций с автомобилем.\n",
    "\n",
    "В качестве рекомендаций для заказчика: есть смысл поработать над сбалансированностью выборки исследования по каждой из категорий заемщиков. В особенности данный вопрос играет существенную роль при анализе показателей \"количество детей\" и \"уровень дохода\" в поиске и анализе зависимостей с долей просроченных задолженностей.\n",
    "\n"
   ]
  },
  {
   "cell_type": "markdown",
   "id": "59f65a2c",
   "metadata": {},
   "source": [
    "<div class=\"alert-success\" style=\"border-radius: 10px; padding: 20px\">\n",
    "<b>Комментарий ревьюера V2 ✔️</b>\n",
    "\n",
    "Теперь у тебя подробный и правильный вывод, отражающий основные результаты исследования. 👌</div>"
   ]
  },
  {
   "cell_type": "markdown",
   "id": "d4f49a11",
   "metadata": {},
   "source": [
    "<div class=\"alert-danger\" style=\"padding: 20px; border-radius: 10px\">\n",
    "\n",
    "<b>Комментарий ревьюера ❌</b></h5>\n",
    "    \n",
    "Не хватает общего вывода по проекту.\n",
    "\n",
    "<s>Общий вывод - важный элемент работы. Его нужно сформулировать, взяв основные результаты из всех шагов проекта. Начать нужно с того, с какими данными мы работали и какие действия провели на этапе предобработки (коротко), далее - сформулировать все выявленные зависимости просрочки от различных факторов, можно дать портрет идеального и рискового заемщика и закончить рекомендациями заказчику по улучшению сбора данных и системы скоринга.\n",
    "\n",
    "Заказчик, зачастую, читает только общий вывод исследования - поэтому он должен быть максимально информативным.</div>"
   ]
  },
  {
   "cell_type": "markdown",
   "id": "74ece5e4",
   "metadata": {},
   "source": [
    "<div style=\"border:solid steelblue 3px; padding: 20px; border-radius: 10px\">\n",
    "\n",
    "<h5><b>🏁 Общий комментарий ревьюера</b></h5>\n",
    "\n",
    "Ты проделала большую работу над проектом. Но нужно кое-что поправить, чтобы я его принял.\n",
    "\n",
    "Критические замечания я добавил в меню **Contents** слева.\n",
    "\n",
    "Также, постарайся отработать желтые комментарии.\n",
    "\n",
    "Буду ждать твой доработанный проект. ⌛️"
   ]
  },
  {
   "cell_type": "markdown",
   "id": "548e2bdb",
   "metadata": {},
   "source": [
    "<div class=\"alert-info\" style=\"padding: 20px; border-radius: 10px\">\n",
    "<b>Комментарий студента 💎</b>\n",
    "\n",
    "Done :) </div>"
   ]
  },
  {
   "cell_type": "markdown",
   "id": "fce76649",
   "metadata": {},
   "source": [
    "<div style=\"border:solid steelblue 3px; padding: 20px; border-radius: 10px\">\n",
    "\n",
    "<h5><b>🏁 Общий комментарий ревьюера V2</b></h5>\n",
    "\n",
    "Спасибо, что доработала проект! Критических замечаний больше нет, получилась очень хорошая работа.\n",
    "\n",
    "Успехов в дальнейшем обучении! 🏆\n",
    "\n",
    "</div>"
   ]
  },
  {
   "cell_type": "code",
   "execution_count": null,
   "id": "8a172202",
   "metadata": {},
   "outputs": [],
   "source": []
  }
 ],
 "metadata": {
  "ExecuteTimeLog": [
   {
    "duration": 671,
    "start_time": "2024-01-18T14:36:02.640Z"
   },
   {
    "duration": 19,
    "start_time": "2024-01-18T14:36:03.313Z"
   },
   {
    "duration": 14,
    "start_time": "2024-01-18T14:36:03.333Z"
   },
   {
    "duration": 15,
    "start_time": "2024-01-18T14:36:03.348Z"
   },
   {
    "duration": 39,
    "start_time": "2024-01-18T14:36:03.365Z"
   },
   {
    "duration": 2,
    "start_time": "2024-01-18T14:36:03.406Z"
   },
   {
    "duration": 27,
    "start_time": "2024-01-18T14:36:03.410Z"
   },
   {
    "duration": 37,
    "start_time": "2024-01-18T14:36:03.438Z"
   },
   {
    "duration": 19,
    "start_time": "2024-01-18T14:36:03.477Z"
   },
   {
    "duration": 5,
    "start_time": "2024-01-18T14:36:03.497Z"
   },
   {
    "duration": 61,
    "start_time": "2024-01-18T14:36:03.504Z"
   },
   {
    "duration": 10,
    "start_time": "2024-01-18T14:36:03.566Z"
   },
   {
    "duration": 22,
    "start_time": "2024-01-18T14:36:03.578Z"
   },
   {
    "duration": 30,
    "start_time": "2024-01-18T14:36:03.603Z"
   },
   {
    "duration": 30,
    "start_time": "2024-01-18T14:36:03.634Z"
   },
   {
    "duration": 15,
    "start_time": "2024-01-18T14:36:03.665Z"
   },
   {
    "duration": 26,
    "start_time": "2024-01-18T14:36:03.681Z"
   },
   {
    "duration": 51,
    "start_time": "2024-01-18T14:36:03.708Z"
   },
   {
    "duration": 69,
    "start_time": "2024-01-18T14:36:03.760Z"
   },
   {
    "duration": 86,
    "start_time": "2024-01-18T14:36:03.830Z"
   },
   {
    "duration": 156,
    "start_time": "2024-01-18T14:36:03.917Z"
   },
   {
    "duration": 13,
    "start_time": "2024-01-18T15:03:22.440Z"
   },
   {
    "duration": 1508,
    "start_time": "2024-01-18T15:06:10.448Z"
   },
   {
    "duration": 13,
    "start_time": "2024-01-18T15:06:53.455Z"
   },
   {
    "duration": 17,
    "start_time": "2024-01-18T15:26:27.146Z"
   },
   {
    "duration": 12,
    "start_time": "2024-01-18T15:34:52.528Z"
   },
   {
    "duration": 13,
    "start_time": "2024-01-18T15:46:38.918Z"
   },
   {
    "duration": 11,
    "start_time": "2024-01-18T15:50:31.789Z"
   },
   {
    "duration": 12,
    "start_time": "2024-01-18T15:56:59.225Z"
   },
   {
    "duration": 16,
    "start_time": "2024-01-18T15:59:07.637Z"
   },
   {
    "duration": 528,
    "start_time": "2024-01-18T17:51:41.634Z"
   },
   {
    "duration": 24,
    "start_time": "2024-01-18T17:51:42.164Z"
   },
   {
    "duration": 17,
    "start_time": "2024-01-18T17:51:42.189Z"
   },
   {
    "duration": 25,
    "start_time": "2024-01-18T17:51:42.207Z"
   },
   {
    "duration": 40,
    "start_time": "2024-01-18T17:51:42.239Z"
   },
   {
    "duration": 4,
    "start_time": "2024-01-18T17:51:42.281Z"
   },
   {
    "duration": 9,
    "start_time": "2024-01-18T17:51:42.286Z"
   },
   {
    "duration": 4,
    "start_time": "2024-01-18T17:51:42.296Z"
   },
   {
    "duration": 10,
    "start_time": "2024-01-18T17:51:42.330Z"
   },
   {
    "duration": 16,
    "start_time": "2024-01-18T17:51:42.342Z"
   },
   {
    "duration": 59,
    "start_time": "2024-01-18T17:51:42.360Z"
   },
   {
    "duration": 20,
    "start_time": "2024-01-18T17:51:42.421Z"
   },
   {
    "duration": 4,
    "start_time": "2024-01-18T17:51:42.443Z"
   },
   {
    "duration": 14,
    "start_time": "2024-01-18T17:51:42.449Z"
   },
   {
    "duration": 21,
    "start_time": "2024-01-18T17:51:42.464Z"
   },
   {
    "duration": 50,
    "start_time": "2024-01-18T17:51:42.487Z"
   },
   {
    "duration": 4,
    "start_time": "2024-01-18T17:51:42.539Z"
   },
   {
    "duration": 21,
    "start_time": "2024-01-18T17:51:42.545Z"
   },
   {
    "duration": 11,
    "start_time": "2024-01-18T17:51:42.584Z"
   },
   {
    "duration": 17,
    "start_time": "2024-01-18T17:51:42.597Z"
   },
   {
    "duration": 19,
    "start_time": "2024-01-18T17:51:42.616Z"
   },
   {
    "duration": 19,
    "start_time": "2024-01-18T17:51:42.637Z"
   },
   {
    "duration": 117,
    "start_time": "2024-01-18T17:51:42.658Z"
   },
   {
    "duration": 0,
    "start_time": "2024-01-18T17:51:42.777Z"
   },
   {
    "duration": 24,
    "start_time": "2024-01-18T17:53:07.005Z"
   },
   {
    "duration": 13,
    "start_time": "2024-01-18T17:54:51.072Z"
   },
   {
    "duration": 52,
    "start_time": "2024-01-18T20:27:57.057Z"
   },
   {
    "duration": 524,
    "start_time": "2024-01-18T20:29:37.549Z"
   },
   {
    "duration": 23,
    "start_time": "2024-01-18T20:29:38.075Z"
   },
   {
    "duration": 16,
    "start_time": "2024-01-18T20:29:38.100Z"
   },
   {
    "duration": 11,
    "start_time": "2024-01-18T20:29:38.118Z"
   },
   {
    "duration": 64,
    "start_time": "2024-01-18T20:29:38.131Z"
   },
   {
    "duration": 4,
    "start_time": "2024-01-18T20:29:38.196Z"
   },
   {
    "duration": 49,
    "start_time": "2024-01-18T20:29:38.201Z"
   },
   {
    "duration": 14,
    "start_time": "2024-01-18T20:29:38.253Z"
   },
   {
    "duration": 26,
    "start_time": "2024-01-18T20:29:38.268Z"
   },
   {
    "duration": 5,
    "start_time": "2024-01-18T20:29:38.295Z"
   },
   {
    "duration": 74,
    "start_time": "2024-01-18T20:29:38.301Z"
   },
   {
    "duration": 11,
    "start_time": "2024-01-18T20:29:38.377Z"
   },
   {
    "duration": 11,
    "start_time": "2024-01-18T20:29:38.389Z"
   },
   {
    "duration": 30,
    "start_time": "2024-01-18T20:29:38.403Z"
   },
   {
    "duration": 30,
    "start_time": "2024-01-18T20:29:38.434Z"
   },
   {
    "duration": 49,
    "start_time": "2024-01-18T20:29:38.465Z"
   },
   {
    "duration": 10,
    "start_time": "2024-01-18T20:29:38.516Z"
   },
   {
    "duration": 25,
    "start_time": "2024-01-18T20:29:38.527Z"
   },
   {
    "duration": 27,
    "start_time": "2024-01-18T20:29:38.553Z"
   },
   {
    "duration": 10,
    "start_time": "2024-01-18T20:29:38.581Z"
   },
   {
    "duration": 29,
    "start_time": "2024-01-18T20:29:38.592Z"
   },
   {
    "duration": 49,
    "start_time": "2024-01-18T20:29:38.622Z"
   },
   {
    "duration": 11,
    "start_time": "2024-01-18T20:29:38.672Z"
   },
   {
    "duration": 17,
    "start_time": "2024-01-18T20:29:38.684Z"
   },
   {
    "duration": 11,
    "start_time": "2024-01-18T20:29:38.702Z"
   },
   {
    "duration": 42,
    "start_time": "2024-01-18T20:29:38.715Z"
   },
   {
    "duration": 690,
    "start_time": "2024-01-19T14:24:23.464Z"
   },
   {
    "duration": 32,
    "start_time": "2024-01-19T14:24:24.157Z"
   },
   {
    "duration": 26,
    "start_time": "2024-01-19T14:24:24.191Z"
   },
   {
    "duration": 35,
    "start_time": "2024-01-19T14:24:24.219Z"
   },
   {
    "duration": 63,
    "start_time": "2024-01-19T14:24:24.257Z"
   },
   {
    "duration": 4,
    "start_time": "2024-01-19T14:24:24.321Z"
   },
   {
    "duration": 34,
    "start_time": "2024-01-19T14:24:24.327Z"
   },
   {
    "duration": 20,
    "start_time": "2024-01-19T14:24:24.362Z"
   },
   {
    "duration": 34,
    "start_time": "2024-01-19T14:24:24.384Z"
   },
   {
    "duration": 33,
    "start_time": "2024-01-19T14:24:24.420Z"
   },
   {
    "duration": 68,
    "start_time": "2024-01-19T14:24:24.455Z"
   },
   {
    "duration": 16,
    "start_time": "2024-01-19T14:24:24.524Z"
   },
   {
    "duration": 27,
    "start_time": "2024-01-19T14:24:24.543Z"
   },
   {
    "duration": 47,
    "start_time": "2024-01-19T14:24:24.573Z"
   },
   {
    "duration": 59,
    "start_time": "2024-01-19T14:24:24.622Z"
   },
   {
    "duration": 37,
    "start_time": "2024-01-19T14:24:24.682Z"
   },
   {
    "duration": 40,
    "start_time": "2024-01-19T14:24:24.721Z"
   },
   {
    "duration": 39,
    "start_time": "2024-01-19T14:24:24.763Z"
   },
   {
    "duration": 18,
    "start_time": "2024-01-19T14:24:24.804Z"
   },
   {
    "duration": 26,
    "start_time": "2024-01-19T14:24:24.824Z"
   },
   {
    "duration": 45,
    "start_time": "2024-01-19T14:24:24.852Z"
   },
   {
    "duration": 33,
    "start_time": "2024-01-19T14:24:24.899Z"
   },
   {
    "duration": 26,
    "start_time": "2024-01-19T14:24:24.934Z"
   },
   {
    "duration": 33,
    "start_time": "2024-01-19T14:24:24.962Z"
   },
   {
    "duration": 13,
    "start_time": "2024-01-19T14:24:24.997Z"
   },
   {
    "duration": 31,
    "start_time": "2024-01-19T14:24:25.011Z"
   },
   {
    "duration": 15,
    "start_time": "2024-01-19T14:38:16.416Z"
   },
   {
    "duration": 11,
    "start_time": "2024-01-19T14:39:28.608Z"
   },
   {
    "duration": 40,
    "start_time": "2024-01-19T14:50:48.586Z"
   },
   {
    "duration": 13,
    "start_time": "2024-01-19T14:59:24.199Z"
   },
   {
    "duration": 11,
    "start_time": "2024-01-19T15:03:32.311Z"
   },
   {
    "duration": 14,
    "start_time": "2024-01-19T15:06:10.358Z"
   },
   {
    "duration": 11,
    "start_time": "2024-01-19T15:06:29.573Z"
   },
   {
    "duration": 21,
    "start_time": "2024-01-19T15:07:40.981Z"
   },
   {
    "duration": 43,
    "start_time": "2024-01-21T10:20:14.485Z"
   },
   {
    "duration": 721,
    "start_time": "2024-01-21T10:20:21.150Z"
   },
   {
    "duration": 20,
    "start_time": "2024-01-21T10:20:21.872Z"
   },
   {
    "duration": 35,
    "start_time": "2024-01-21T10:20:21.894Z"
   },
   {
    "duration": 20,
    "start_time": "2024-01-21T10:20:21.931Z"
   },
   {
    "duration": 54,
    "start_time": "2024-01-21T10:20:21.953Z"
   },
   {
    "duration": 3,
    "start_time": "2024-01-21T10:20:22.009Z"
   },
   {
    "duration": 44,
    "start_time": "2024-01-21T10:20:22.013Z"
   },
   {
    "duration": 20,
    "start_time": "2024-01-21T10:20:22.059Z"
   },
   {
    "duration": 28,
    "start_time": "2024-01-21T10:20:22.081Z"
   },
   {
    "duration": 17,
    "start_time": "2024-01-21T10:20:22.111Z"
   },
   {
    "duration": 49,
    "start_time": "2024-01-21T10:20:22.129Z"
   },
   {
    "duration": 8,
    "start_time": "2024-01-21T10:20:22.180Z"
   },
   {
    "duration": 59,
    "start_time": "2024-01-21T10:20:22.189Z"
   },
   {
    "duration": 55,
    "start_time": "2024-01-21T10:20:22.249Z"
   },
   {
    "duration": 38,
    "start_time": "2024-01-21T10:20:22.306Z"
   },
   {
    "duration": 35,
    "start_time": "2024-01-21T10:20:22.345Z"
   },
   {
    "duration": 26,
    "start_time": "2024-01-21T10:20:22.381Z"
   },
   {
    "duration": 32,
    "start_time": "2024-01-21T10:20:22.408Z"
   },
   {
    "duration": 25,
    "start_time": "2024-01-21T10:20:22.441Z"
   },
   {
    "duration": 22,
    "start_time": "2024-01-21T10:20:22.467Z"
   },
   {
    "duration": 61,
    "start_time": "2024-01-21T10:20:22.490Z"
   },
   {
    "duration": 39,
    "start_time": "2024-01-21T10:20:22.552Z"
   },
   {
    "duration": 33,
    "start_time": "2024-01-21T10:20:22.593Z"
   },
   {
    "duration": 33,
    "start_time": "2024-01-21T10:20:22.628Z"
   },
   {
    "duration": 26,
    "start_time": "2024-01-21T10:20:22.662Z"
   },
   {
    "duration": 41,
    "start_time": "2024-01-21T10:20:22.689Z"
   },
   {
    "duration": 11,
    "start_time": "2024-01-21T10:21:16.419Z"
   },
   {
    "duration": 14,
    "start_time": "2024-01-21T10:22:15.141Z"
   },
   {
    "duration": 12,
    "start_time": "2024-01-21T11:21:53.667Z"
   },
   {
    "duration": 589,
    "start_time": "2024-01-21T16:05:14.168Z"
   },
   {
    "duration": 24,
    "start_time": "2024-01-21T16:05:14.760Z"
   },
   {
    "duration": 18,
    "start_time": "2024-01-21T16:05:14.785Z"
   },
   {
    "duration": 11,
    "start_time": "2024-01-21T16:05:14.805Z"
   },
   {
    "duration": 68,
    "start_time": "2024-01-21T16:05:14.817Z"
   },
   {
    "duration": 6,
    "start_time": "2024-01-21T16:05:14.887Z"
   },
   {
    "duration": 23,
    "start_time": "2024-01-21T16:05:14.894Z"
   },
   {
    "duration": 5,
    "start_time": "2024-01-21T16:05:14.918Z"
   },
   {
    "duration": 26,
    "start_time": "2024-01-21T16:05:14.924Z"
   },
   {
    "duration": 4,
    "start_time": "2024-01-21T16:05:14.953Z"
   },
   {
    "duration": 98,
    "start_time": "2024-01-21T16:05:14.958Z"
   },
   {
    "duration": 196,
    "start_time": "2024-01-21T16:05:15.057Z"
   },
   {
    "duration": 98,
    "start_time": "2024-01-21T16:05:15.255Z"
   },
   {
    "duration": 65,
    "start_time": "2024-01-21T16:05:15.354Z"
   },
   {
    "duration": 28,
    "start_time": "2024-01-21T16:05:15.421Z"
   },
   {
    "duration": 19,
    "start_time": "2024-01-21T16:05:15.450Z"
   },
   {
    "duration": 3,
    "start_time": "2024-01-21T16:05:15.471Z"
   },
   {
    "duration": 22,
    "start_time": "2024-01-21T16:05:15.476Z"
   },
   {
    "duration": 22,
    "start_time": "2024-01-21T16:05:15.500Z"
   },
   {
    "duration": 7,
    "start_time": "2024-01-21T16:05:15.524Z"
   },
   {
    "duration": 18,
    "start_time": "2024-01-21T16:05:15.532Z"
   },
   {
    "duration": 33,
    "start_time": "2024-01-21T16:05:15.552Z"
   },
   {
    "duration": 14,
    "start_time": "2024-01-21T16:05:15.587Z"
   },
   {
    "duration": 22,
    "start_time": "2024-01-21T16:05:15.603Z"
   },
   {
    "duration": 26,
    "start_time": "2024-01-21T16:05:15.627Z"
   },
   {
    "duration": 13,
    "start_time": "2024-01-21T16:05:15.654Z"
   },
   {
    "duration": 77,
    "start_time": "2024-01-21T16:07:27.932Z"
   }
  ],
  "colab": {
   "provenance": []
  },
  "kernelspec": {
   "display_name": "Python 3 (ipykernel)",
   "language": "python",
   "name": "python3"
  },
  "language_info": {
   "codemirror_mode": {
    "name": "ipython",
    "version": 3
   },
   "file_extension": ".py",
   "mimetype": "text/x-python",
   "name": "python",
   "nbconvert_exporter": "python",
   "pygments_lexer": "ipython3",
   "version": "3.9.5"
  },
  "toc": {
   "base_numbering": 1,
   "nav_menu": {},
   "number_sections": true,
   "sideBar": true,
   "skip_h1_title": true,
   "title_cell": "Table of Contents",
   "title_sidebar": "Contents",
   "toc_cell": false,
   "toc_position": {},
   "toc_section_display": true,
   "toc_window_display": true
  }
 },
 "nbformat": 4,
 "nbformat_minor": 5
}
